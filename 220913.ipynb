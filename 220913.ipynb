{
 "cells": [
  {
   "cell_type": "code",
   "execution_count": 1,
   "metadata": {},
   "outputs": [
    {
     "name": "stdout",
     "output_type": "stream",
     "text": [
      "filepath:  c:\\projects\\venv\\lib\\site-packages\n",
      "classpath:  c:\\projects\\venv\\lib\\site-packages\\rhinoMorph/lib/rhino.jar\n",
      "RHINO started!\n",
      "sample data: ['한글', '테스트', '글', '을', '남기', '어', '주', '시', '어요']\n"
     ]
    }
   ],
   "source": [
    "import rhinoMorph\n",
    "rn = rhinoMorph.startRhino()\n",
    "# 예문 분석\n",
    "text = \"한글테스트 글을 남겨주세요\"\n",
    "sample_data = rhinoMorph.onlyMorph_list(rn, text)\n",
    "print('sample data:', sample_data)"
   ]
  },
  {
   "cell_type": "code",
   "execution_count": 4,
   "metadata": {},
   "outputs": [
    {
     "name": "stdout",
     "output_type": "stream",
     "text": [
      "filepath:  c:\\projects\\venv\\lib\\site-packages\n",
      "classpath:  c:\\projects\\venv\\lib\\site-packages\\rhinoMorph/lib/rhino.jar\n",
      "JVM is already started~\n",
      "RHINO started!\n",
      "\n",
      "1. 형태소 분석 결과: ['한글', '로', '되', 'ㄴ', '한글', '텍스트', '를', '분석', '하', '는', '것', '은', '즐겁', '다', '.']\n"
     ]
    }
   ],
   "source": [
    "import rhinoMorph\n",
    "rn = rhinoMorph.startRhino()\n",
    "text = \"한글로 된 한글텍스트를 분석하는 것은 즐겁다.\"\n",
    "# 사용 1 : 모든 형태소 보이기\n",
    "text_analyzed = rhinoMorph.onlyMorph_list(rn, text)\n",
    "print('\\n1. 형태소 분석 결과:', text_analyzed)\n"
   ]
  },
  {
   "cell_type": "code",
   "execution_count": null,
   "metadata": {},
   "outputs": [],
   "source": []
  }
 ],
 "metadata": {
  "kernelspec": {
   "display_name": "Python 3.7.4 ('venv': venv)",
   "language": "python",
   "name": "python3"
  },
  "language_info": {
   "codemirror_mode": {
    "name": "ipython",
    "version": 3
   },
   "file_extension": ".py",
   "mimetype": "text/x-python",
   "name": "python",
   "nbconvert_exporter": "python",
   "pygments_lexer": "ipython3",
   "version": "3.7.4"
  },
  "orig_nbformat": 4,
  "vscode": {
   "interpreter": {
    "hash": "ee3a569b6c17f781d88eed465009cab3acc13ebf6747bed2a2b2f4afb9b22959"
   }
  }
 },
 "nbformat": 4,
 "nbformat_minor": 2
}
