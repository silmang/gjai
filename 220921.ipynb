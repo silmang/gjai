{
 "cells": [
  {
   "cell_type": "code",
   "execution_count": 59,
   "metadata": {},
   "outputs": [],
   "source": [
    "!cd c:\\projects"
   ]
  },
  {
   "cell_type": "code",
   "execution_count": 60,
   "metadata": {},
   "outputs": [
    {
     "name": "stdout",
     "output_type": "stream",
     "text": [
      "C:\\Users\\광주인공지능사관학교\n"
     ]
    }
   ],
   "source": [
    "%cd"
   ]
  },
  {
   "cell_type": "code",
   "execution_count": 96,
   "metadata": {},
   "outputs": [],
   "source": [
    "# rhinoMorph.onlyMorph_list(rn, \"좋아졌어\", eomi=True)"
   ]
  },
  {
   "cell_type": "code",
   "execution_count": 107,
   "metadata": {},
   "outputs": [],
   "source": [
    "import pandas as pd\n",
    "pd.set_option('display.max_rows', 20)\n",
    "label = pd.read_csv(\"c:/pytest/감성사전_조별과제/label_final.csv\")\n",
    "positive = pd.read_csv(\"c:/pytest/감성사전_조별과제/pos_final.csv\")\n",
    "negative = pd.read_csv(\"c:/pytest/감성사전_조별과제/neg_final.csv\")\n",
    "# data = pd.read_csv(\"./pytest/감성대화말뭉치/감성대화말뭉치(최종데이터)_Validation.csv\")\n",
    "yours = pd.read_csv(\"c:/pytest/감성사전_조별과제/6조_감성대화말뭉치.csv\", encoding='cp949')\n",
    "positive['sign']=1\n",
    "# negative['sign']=0\n",
    "# # positive.rename(columns={'단어':'a'}, inplace=True)\n",
    "# # negative.rename(columns={'단어':'a'}, inplace=True)\n",
    "# con = pd.concat([positive, negative], axis=0)\n",
    "# con['중복'] = con['단어'].duplicated(keep=False)\n",
    "# con = con.sort_values(by='단어')\n",
    "# con[con['중복']==True]\n",
    "# data[3000:3601]['사람문장1']"
   ]
  },
  {
   "cell_type": "code",
   "execution_count": 108,
   "metadata": {},
   "outputs": [],
   "source": [
    "# positive.to_csv(\"c:/pytest/감성사전_조별과제/pos.csv\", encoding='cp949')\n",
    "# negative.to_csv(\"c:/pytest/감성사전_조별과제/neg.csv\", encoding='cp949')\n",
    "# %cd"
   ]
  },
  {
   "cell_type": "code",
   "execution_count": 109,
   "metadata": {},
   "outputs": [],
   "source": [
    "pos = list(positive.단어)\n",
    "neg = list(negative.단어)\n",
    "remove_pos_list = ['친구','기분','가족','여행','합격']\n",
    "remove_neg_list = []\n",
    "for i in remove_pos_list:\n",
    "    pos.remove(i)\n",
    "for i in remove_neg_list:\n",
    "    neg.remove(i)"
   ]
  },
  {
   "cell_type": "code",
   "execution_count": 110,
   "metadata": {},
   "outputs": [],
   "source": [
    "yours.rename(columns={'사람문장1':'text', '긍정/중립/부정':'original'}, inplace=True)\n",
    "yours['pos']=None\n",
    "yours['pos_word']=None\n",
    "yours['neg']=None\n",
    "yours['neg_word']=None\n",
    "yours['senti_score']=None\n",
    "yours['sigmoid']=None\n",
    "yours['predict']=None\n",
    "yours['일치여부']=None"
   ]
  },
  {
   "cell_type": "code",
   "execution_count": 111,
   "metadata": {},
   "outputs": [
    {
     "name": "stdout",
     "output_type": "stream",
     "text": [
      "filepath:  c:\\projects\\venv\\lib\\site-packages\n",
      "classpath:  c:\\projects\\venv\\lib\\site-packages\\rhinoMorph/lib/rhino.jar\n",
      "JVM is already started~\n",
      "RHINO started!\n"
     ]
    }
   ],
   "source": [
    "import rhinoMorph\n",
    "rn = rhinoMorph.startRhino()\n",
    "\n",
    "def keyword_pos(text):\n",
    "    result = 0\n",
    "    morphed_data_each, _ = rhinoMorph.wholeResult_list(rn, text, pos=['NNG', 'NNP', 'VV', 'VA', 'XR', 'IC', 'MM', 'MAG', 'MAJ'], eomi=True, xrVv=True, combineN=True)\n",
    "    for word in morphed_data_each:\n",
    "        if word in pos:\n",
    "            result += 1\n",
    "    return result\n",
    "\n",
    "def keyword_pos_word(text):\n",
    "    result = []\n",
    "    morphed_data_each, _ = rhinoMorph.wholeResult_list(rn, text, pos=['NNG', 'NNP', 'VV', 'VA', 'XR', 'IC', 'MM', 'MAG', 'MAJ'], eomi=True, xrVv=True, combineN=True)\n",
    "    for word in morphed_data_each:\n",
    "        if word in pos:\n",
    "            result.append(word)\n",
    "    return result\n",
    "\n",
    "def keyword_neg(text):\n",
    "    result = 0\n",
    "    morphed_data_each, _ = rhinoMorph.wholeResult_list(rn, text, pos=['NNG', 'NNP', 'VV', 'VA', 'XR', 'IC', 'MM', 'MAG', 'MAJ'], eomi=True, xrVv=True, combineN=True)\n",
    "    for word in morphed_data_each:\n",
    "        if word in neg:\n",
    "            result += 1\n",
    "    return result\n",
    "\n",
    "def keyword_neg_word(text):\n",
    "    result = []\n",
    "    morphed_data_each, _ = rhinoMorph.wholeResult_list(rn, text, pos=['NNG', 'NNP', 'VV', 'VA', 'XR', 'IC', 'MM', 'MAG', 'MAJ'], eomi=True, xrVv=True, combineN=True)\n",
    "    for word in morphed_data_each:\n",
    "        if word in neg:\n",
    "            result.append(word)\n",
    "    return result\n",
    "\n",
    "import math\n",
    "def sigmoid(num):\n",
    "    return 1/(1+math.exp(-num))\n",
    "\n",
    "def predict(num):\n",
    "    result = '긍정'\n",
    "    if num<=0.5:\n",
    "        result = '부정'\n",
    "    # elif num==0.5:\n",
    "    #     result = '중립'\n",
    "    return result"
   ]
  },
  {
   "cell_type": "code",
   "execution_count": 112,
   "metadata": {},
   "outputs": [],
   "source": [
    "yours.pos = yours.text.apply(keyword_pos)\n",
    "yours.pos_word = yours.text.apply(keyword_pos_word)\n",
    "yours.neg = yours.text.apply(keyword_neg)\n",
    "yours.neg_word = yours.text.apply(keyword_neg_word)\n",
    "yours.senti_score = yours.pos-yours.neg\n",
    "yours.sigmoid = yours.senti_score.apply(sigmoid)\n",
    "yours.predict = yours.sigmoid.apply(predict)\n",
    "yours.loc[yours.original==yours.predict, '일치여부'] = 'O'\n",
    "yours.loc[yours.original!=yours.predict, '일치여부'] = 'X'"
   ]
  },
  {
   "cell_type": "code",
   "execution_count": 113,
   "metadata": {},
   "outputs": [
    {
     "data": {
      "text/html": [
       "<div>\n",
       "<style scoped>\n",
       "    .dataframe tbody tr th:only-of-type {\n",
       "        vertical-align: middle;\n",
       "    }\n",
       "\n",
       "    .dataframe tbody tr th {\n",
       "        vertical-align: top;\n",
       "    }\n",
       "\n",
       "    .dataframe thead th {\n",
       "        text-align: right;\n",
       "    }\n",
       "</style>\n",
       "<table border=\"1\" class=\"dataframe\">\n",
       "  <thead>\n",
       "    <tr style=\"text-align: right;\">\n",
       "      <th></th>\n",
       "      <th>text</th>\n",
       "      <th>original</th>\n",
       "      <th>pos</th>\n",
       "      <th>pos_word</th>\n",
       "      <th>neg</th>\n",
       "      <th>neg_word</th>\n",
       "      <th>senti_score</th>\n",
       "      <th>sigmoid</th>\n",
       "      <th>predict</th>\n",
       "      <th>일치여부</th>\n",
       "    </tr>\n",
       "  </thead>\n",
       "  <tbody>\n",
       "    <tr>\n",
       "      <th>0</th>\n",
       "      <td>직장에서 해고당할 것 같아서 불안해.</td>\n",
       "      <td>부정</td>\n",
       "      <td>0</td>\n",
       "      <td>[]</td>\n",
       "      <td>2</td>\n",
       "      <td>[해고, 불안하다]</td>\n",
       "      <td>-2</td>\n",
       "      <td>0.119203</td>\n",
       "      <td>부정</td>\n",
       "      <td>O</td>\n",
       "    </tr>\n",
       "    <tr>\n",
       "      <th>1</th>\n",
       "      <td>당뇨 때문에 강제로 운동을 해야 해서 너무 짜증 나.</td>\n",
       "      <td>부정</td>\n",
       "      <td>0</td>\n",
       "      <td>[]</td>\n",
       "      <td>2</td>\n",
       "      <td>[당뇨, 짜증]</td>\n",
       "      <td>-2</td>\n",
       "      <td>0.119203</td>\n",
       "      <td>부정</td>\n",
       "      <td>O</td>\n",
       "    </tr>\n",
       "    <tr>\n",
       "      <th>2</th>\n",
       "      <td>회사에서 임원 승진 팔 개월 만에 실적 부진으로 해임되어서 화가 나네.</td>\n",
       "      <td>부정</td>\n",
       "      <td>1</td>\n",
       "      <td>[승진]</td>\n",
       "      <td>1</td>\n",
       "      <td>[화]</td>\n",
       "      <td>0</td>\n",
       "      <td>0.500000</td>\n",
       "      <td>부정</td>\n",
       "      <td>O</td>\n",
       "    </tr>\n",
       "    <tr>\n",
       "      <th>3</th>\n",
       "      <td>친했던 친구들이 나를 따돌리는 것 같아 충격이야.</td>\n",
       "      <td>부정</td>\n",
       "      <td>1</td>\n",
       "      <td>[친하다]</td>\n",
       "      <td>2</td>\n",
       "      <td>[따돌리다, 충격]</td>\n",
       "      <td>-1</td>\n",
       "      <td>0.268941</td>\n",
       "      <td>부정</td>\n",
       "      <td>O</td>\n",
       "    </tr>\n",
       "    <tr>\n",
       "      <th>4</th>\n",
       "      <td>믿었던 친구에 대한 배신감으로 너무 힘들어.</td>\n",
       "      <td>부정</td>\n",
       "      <td>1</td>\n",
       "      <td>[믿다]</td>\n",
       "      <td>1</td>\n",
       "      <td>[힘들다]</td>\n",
       "      <td>0</td>\n",
       "      <td>0.500000</td>\n",
       "      <td>부정</td>\n",
       "      <td>O</td>\n",
       "    </tr>\n",
       "    <tr>\n",
       "      <th>5</th>\n",
       "      <td>결국 이렇게 시름시름 앓다가 나는 죽을까봐 점점 겁이나.</td>\n",
       "      <td>부정</td>\n",
       "      <td>0</td>\n",
       "      <td>[]</td>\n",
       "      <td>3</td>\n",
       "      <td>[앓다, 죽다, 겁]</td>\n",
       "      <td>-3</td>\n",
       "      <td>0.047426</td>\n",
       "      <td>부정</td>\n",
       "      <td>O</td>\n",
       "    </tr>\n",
       "    <tr>\n",
       "      <th>6</th>\n",
       "      <td>취업 준비를 포기할래. 더는 불합격 통보에 상처받고 싶지 않아.</td>\n",
       "      <td>부정</td>\n",
       "      <td>0</td>\n",
       "      <td>[]</td>\n",
       "      <td>1</td>\n",
       "      <td>[상처]</td>\n",
       "      <td>-1</td>\n",
       "      <td>0.268941</td>\n",
       "      <td>부정</td>\n",
       "      <td>O</td>\n",
       "    </tr>\n",
       "    <tr>\n",
       "      <th>7</th>\n",
       "      <td>지금이 나이에 빚을 가지고 원금은 커녕 이자를 갚기도 급해.</td>\n",
       "      <td>부정</td>\n",
       "      <td>0</td>\n",
       "      <td>[]</td>\n",
       "      <td>3</td>\n",
       "      <td>[나이, 빚, 급하다]</td>\n",
       "      <td>-3</td>\n",
       "      <td>0.047426</td>\n",
       "      <td>부정</td>\n",
       "      <td>O</td>\n",
       "    </tr>\n",
       "    <tr>\n",
       "      <th>8</th>\n",
       "      <td>나 요즘 아주 편안해.</td>\n",
       "      <td>긍정</td>\n",
       "      <td>1</td>\n",
       "      <td>[편안하다]</td>\n",
       "      <td>0</td>\n",
       "      <td>[]</td>\n",
       "      <td>1</td>\n",
       "      <td>0.731059</td>\n",
       "      <td>긍정</td>\n",
       "      <td>O</td>\n",
       "    </tr>\n",
       "    <tr>\n",
       "      <th>9</th>\n",
       "      <td>싸움을 말리다가 오히려 상황을 안 좋게 만든 것 같아 마음이 무거워.</td>\n",
       "      <td>부정</td>\n",
       "      <td>2</td>\n",
       "      <td>[좋다, 마음]</td>\n",
       "      <td>1</td>\n",
       "      <td>[안]</td>\n",
       "      <td>1</td>\n",
       "      <td>0.731059</td>\n",
       "      <td>긍정</td>\n",
       "      <td>X</td>\n",
       "    </tr>\n",
       "  </tbody>\n",
       "</table>\n",
       "</div>"
      ],
      "text/plain": [
       "                                      text original  pos  pos_word  neg  \\\n",
       "0                     직장에서 해고당할 것 같아서 불안해.       부정    0        []    2   \n",
       "1            당뇨 때문에 강제로 운동을 해야 해서 너무 짜증 나.       부정    0        []    2   \n",
       "2  회사에서 임원 승진 팔 개월 만에 실적 부진으로 해임되어서 화가 나네.       부정    1      [승진]    1   \n",
       "3              친했던 친구들이 나를 따돌리는 것 같아 충격이야.       부정    1     [친하다]    2   \n",
       "4                 믿었던 친구에 대한 배신감으로 너무 힘들어.       부정    1      [믿다]    1   \n",
       "5          결국 이렇게 시름시름 앓다가 나는 죽을까봐 점점 겁이나.       부정    0        []    3   \n",
       "6      취업 준비를 포기할래. 더는 불합격 통보에 상처받고 싶지 않아.       부정    0        []    1   \n",
       "7        지금이 나이에 빚을 가지고 원금은 커녕 이자를 갚기도 급해.       부정    0        []    3   \n",
       "8                             나 요즘 아주 편안해.       긍정    1    [편안하다]    0   \n",
       "9   싸움을 말리다가 오히려 상황을 안 좋게 만든 것 같아 마음이 무거워.       부정    2  [좋다, 마음]    1   \n",
       "\n",
       "       neg_word  senti_score   sigmoid predict 일치여부  \n",
       "0    [해고, 불안하다]           -2  0.119203      부정    O  \n",
       "1      [당뇨, 짜증]           -2  0.119203      부정    O  \n",
       "2           [화]            0  0.500000      부정    O  \n",
       "3    [따돌리다, 충격]           -1  0.268941      부정    O  \n",
       "4         [힘들다]            0  0.500000      부정    O  \n",
       "5   [앓다, 죽다, 겁]           -3  0.047426      부정    O  \n",
       "6          [상처]           -1  0.268941      부정    O  \n",
       "7  [나이, 빚, 급하다]           -3  0.047426      부정    O  \n",
       "8            []            1  0.731059      긍정    O  \n",
       "9           [안]            1  0.731059      긍정    X  "
      ]
     },
     "execution_count": 113,
     "metadata": {},
     "output_type": "execute_result"
    }
   ],
   "source": [
    "yours[:10]"
   ]
  },
  {
   "cell_type": "code",
   "execution_count": 114,
   "metadata": {},
   "outputs": [],
   "source": [
    "# yours.to_csv(\"c:/pytest/감성사전_조별과제/6조_예측결과_v2.csv\", encoding='cp949')"
   ]
  },
  {
   "cell_type": "code",
   "execution_count": 121,
   "metadata": {},
   "outputs": [
    {
     "data": {
      "text/plain": [
       "75.0"
      ]
     },
     "execution_count": 121,
     "metadata": {},
     "output_type": "execute_result"
    }
   ],
   "source": [
    "round(yours.일치여부.str.count('O').sum()/(yours.일치여부.str.count('O').sum()+yours.일치여부.str.count('X').sum())*100,0)"
   ]
  },
  {
   "attachments": {
    "image.png": {
     "image/png": "[encoded data removed]"
    }
   },
   "cell_type": "markdown",
   "metadata": {},
   "source": [
    "![image.png](attachment:image.png)"
   ]
  },
  {
   "cell_type": "markdown",
   "metadata": {},
   "source": []
  }
 ],
 "metadata": {
  "kernelspec": {
   "display_name": "Python 3.7.4 ('venv': venv)",
   "language": "python",
   "name": "python3"
  },
  "language_info": {
   "codemirror_mode": {
    "name": "ipython",
    "version": 3
   },
   "file_extension": ".py",
   "mimetype": "text/x-python",
   "name": "python",
   "nbconvert_exporter": "python",
   "pygments_lexer": "ipython3",
   "version": "3.7.4"
  },
  "orig_nbformat": 4,
  "vscode": {
   "interpreter": {
    "hash": "ee3a569b6c17f781d88eed465009cab3acc13ebf6747bed2a2b2f4afb9b22959"
   }
  }
 },
 "nbformat": 4,
 "nbformat_minor": 2
}
