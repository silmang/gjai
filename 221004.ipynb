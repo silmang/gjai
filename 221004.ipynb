{
 "cells": [
  {
   "cell_type": "code",
   "execution_count": 1,
   "metadata": {},
   "outputs": [
    {
     "data": {
      "image/png": "[encoded data removed]",
      "text/plain": [
       "<Figure size 300x300 with 1 Axes>"
      ]
     },
     "metadata": {},
     "output_type": "display_data"
    }
   ],
   "source": [
    "import numpy as np\n",
    "import matplotlib.pyplot as plt\n",
    "\n",
    "def numerical_diff(f, w):\n",
    "    dw = 0.0001\n",
    "    return (f(w+dw) - f(w)) / dw\n",
    "\n",
    "def loss_function(w):\n",
    "    return w**2\n",
    "\n",
    "w = np.arange(-10.0, 10.0, 0.1)\n",
    "y = loss_function(w)\n",
    "\n",
    "plt.figure(figsize=(3,3))\n",
    "plt.xlabel(\"w\")\n",
    "plt.ylabel(\"E\")\n",
    "plt.plot(w, y)\n",
    "plt.show()"
   ]
  },
  {
   "cell_type": "code",
   "execution_count": 2,
   "metadata": {},
   "outputs": [
    {
     "name": "stdout",
     "output_type": "stream",
     "text": [
      "10.000\n",
      "5.000\n"
     ]
    }
   ],
   "source": [
    "w_50 = numerical_diff(loss_function, 5.0)\n",
    "w_25 = numerical_diff(loss_function, 2.5)\n",
    "print(format(w_50, \".3f\"))\n",
    "print(format(w_25, \".3f\"))"
   ]
  },
  {
   "cell_type": "code",
   "execution_count": 3,
   "metadata": {},
   "outputs": [
    {
     "name": "stdout",
     "output_type": "stream",
     "text": [
      "-10.000\n",
      "-5.000\n"
     ]
    }
   ],
   "source": [
    "w_50 = numerical_diff(loss_function, -5.0)\n",
    "w_25 = numerical_diff(loss_function, -2.5)\n",
    "print(format(w_50, \".3f\"))\n",
    "print(format(w_25, \".3f\"))"
   ]
  },
  {
   "cell_type": "code",
   "execution_count": null,
   "metadata": {},
   "outputs": [],
   "source": []
  },
  {
   "cell_type": "code",
   "execution_count": 4,
   "metadata": {},
   "outputs": [],
   "source": [
    "def numerical_diff(function, x):\n",
    "    h = 0.0001\n",
    "    return (function(x+h) - function(x)) / h"
   ]
  },
  {
   "cell_type": "code",
   "execution_count": 5,
   "metadata": {},
   "outputs": [
    {
     "name": "stderr",
     "output_type": "stream",
     "text": [
      "c:\\projects\\venv\\lib\\site-packages\\tqdm\\auto.py:22: TqdmWarning: IProgress not found. Please update jupyter and ipywidgets. See https://ipywidgets.readthedocs.io/en/stable/user_install.html\n",
      "  from .autonotebook import tqdm as notebook_tqdm\n"
     ]
    },
    {
     "data": {
      "image/png": "[encoded data removed]",
      "text/plain": [
       "<Figure size 640x480 with 1 Axes>"
      ]
     },
     "metadata": {},
     "output_type": "display_data"
    }
   ],
   "source": [
    "import tensorflow as tf\n",
    "import tensorflow_datasets as tfds\n",
    "import matplotlib.pyplot as plt\n",
    "import numpy as np\n",
    "\n",
    "data = tfds.load('mnist', split='test', as_supervised=True)\n",
    "tmp,_=next(iter(data.take(1)))\n",
    "\n",
    "np.array(tmp).reshape(28,28)\n",
    "plt.imshow(np.array(tmp).reshape(28,28))\n",
    "plt.xticks([])\n",
    "plt.yticks([])\n",
    "plt.show()"
   ]
  },
  {
   "cell_type": "code",
   "execution_count": 6,
   "metadata": {},
   "outputs": [
    {
     "name": "stdout",
     "output_type": "stream",
     "text": [
      "10000\n",
      "10000\n"
     ]
    },
    {
     "data": {
      "image/png": "[encoded data removed]",
      "text/plain": [
       "<Figure size 640x480 with 4 Axes>"
      ]
     },
     "metadata": {},
     "output_type": "display_data"
    }
   ],
   "source": [
    "data = tfds.load('mnist', split='test', as_supervised=True)\n",
    "print(len(data))\n",
    "get_patches = lambda x, y: (tf.reshape(\n",
    "    tf.image.extract_patches(\n",
    "        images=tf.expand_dims(x, 0),\n",
    "        sizes=[1, 14, 14, 1],\n",
    "        strides=[1, 14, 14, 1],\n",
    "        rates=[1, 1, 1, 1],\n",
    "        padding='VALID'), (4, 14, 14, 1)), y)\n",
    "\n",
    "data = data.map(get_patches)\n",
    "print(len(data))\n",
    "\n",
    "fig = plt.figure()\n",
    "plt.subplots_adjust(wspace=.1, hspace=.2)\n",
    "images, labels = next(iter(data))\n",
    "for index, image in enumerate(images):\n",
    "    ax = plt.subplot(2, 2, index + 1)\n",
    "    ax.set_xticks([])\n",
    "    ax.set_yticks([])\n",
    "    ax.imshow(image)\n",
    "plt.show()"
   ]
  },
  {
   "cell_type": "code",
   "execution_count": 7,
   "metadata": {},
   "outputs": [
    {
     "data": {
      "text/plain": [
       "10000"
      ]
     },
     "execution_count": 7,
     "metadata": {},
     "output_type": "execute_result"
    }
   ],
   "source": [
    "len(data)"
   ]
  },
  {
   "cell_type": "code",
   "execution_count": 8,
   "metadata": {},
   "outputs": [
    {
     "name": "stdout",
     "output_type": "stream",
     "text": [
      "sfsd\n"
     ]
    }
   ],
   "source": [
    "print(\"sfsd\")"
   ]
  },
  {
   "cell_type": "code",
   "execution_count": 9,
   "metadata": {},
   "outputs": [
    {
     "name": "stdout",
     "output_type": "stream",
     "text": [
      "[16 32 32 3]\n",
      "[16 32 32 3]\n",
      "[16 32 32 3]\n",
      "[16 32 32 3]\n",
      "[16 32 32 3]\n",
      "[16 32 32 3]\n",
      "[16 32 32 3]\n",
      "[16 32 32 3]\n",
      "[16 32 32 3]\n",
      "[16 32 32 3]\n",
      "[16 32 32 3]\n",
      "[16 32 32 3]\n",
      "[16 32 32 3]\n",
      "[16 32 32 3]\n",
      "[16 32 32 3]\n",
      "[16 32 32 3]\n",
      "[16 32 32 3]\n",
      "[16 32 32 3]\n",
      "[16 32 32 3]\n",
      "[16 32 32 3]\n",
      "[16 32 32 3]\n",
      "[16 32 32 3]\n",
      "[16 32 32 3]\n",
      "[16 32 32 3]\n",
      "[16 32 32 3]\n",
      "[16 32 32 3]\n",
      "[16 32 32 3]\n",
      "[16 32 32 3]\n",
      "[16 32 32 3]\n",
      "[16 32 32 3]\n",
      "[16 32 32 3]\n",
      "[16 32 32 3]\n"
     ]
    }
   ],
   "source": [
    "import tensorflow as tf\n",
    "\n",
    "class TileDatasetGenerator:\n",
    "    def __init__(self, dataset, batch_size, tile_shape):\n",
    "        self.dataset_iterator = iter(dataset)\n",
    "        self.batch_size = batch_size\n",
    "        self.tile_shape = tile_shape\n",
    "        self.image_queue = None\n",
    "    \n",
    "    def __iter__(self):\n",
    "        return self\n",
    "    \n",
    "    def __next__(self):\n",
    "        if self._has_queued_enough_for_batch():\n",
    "            return self._dequeue_batch()\n",
    "        \n",
    "        batch = next(self.dataset_iterator)\n",
    "        self._split_images(batch)    \n",
    "        return self.__next__()\n",
    "            \n",
    "    def _has_queued_enough_for_batch(self):\n",
    "        return self.image_queue is not None and tf.shape(self.image_queue)[0] >= self.batch_size\n",
    "    \n",
    "    def _dequeue_batch(self):\n",
    "        batch, remainder = tf.split(self.image_queue, [self.batch_size, -1], axis=0)\n",
    "        self.image_queue = remainder\n",
    "        return batch\n",
    "        \n",
    "    def _split_images(self, batch):\n",
    "        batch_shape = tf.shape(batch)\n",
    "        batch_splitted = tf.reshape(batch, shape=[-1, self.tile_shape[0], self.tile_shape[1], batch_shape[-1]])\n",
    "        if self.image_queue is None:\n",
    "            self.image_queue = batch_splitted\n",
    "        else:\n",
    "            self.image_queue = tf.concat([self.image_queue, batch_splitted], axis=0)\n",
    "            \n",
    "\n",
    "\n",
    "dataset = tf.data.Dataset.from_tensor_slices(tf.ones(shape=[128, 64, 64, 3]))\n",
    "dataset.batch(32)\n",
    "generator = TileDatasetGenerator(dataset, batch_size = 16, tile_shape = [32,32])\n",
    "\n",
    "for batch in generator:\n",
    "    tf.print(tf.shape(batch))"
   ]
  },
  {
   "cell_type": "code",
   "execution_count": null,
   "metadata": {},
   "outputs": [],
   "source": []
  },
  {
   "cell_type": "code",
   "execution_count": 10,
   "metadata": {},
   "outputs": [],
   "source": [
    "class MulLayer:\n",
    "    def __init__(self):\n",
    "        self.x = None\n",
    "        self.y = None\n",
    "\n",
    "    def forward(self, x, y):\n",
    "        self.x = x\n",
    "        self.y = y\n",
    "        return self.x * self.y\n",
    "\n",
    "    def backward(self, dout):\n",
    "        dx = dout * self.y\n",
    "        dy = dout * self.x\n",
    "        return dx, dy\n"
   ]
  },
  {
   "cell_type": "code",
   "execution_count": 11,
   "metadata": {},
   "outputs": [
    {
     "name": "stdout",
     "output_type": "stream",
     "text": [
      "최종 지불 금액: 220.0\n"
     ]
    }
   ],
   "source": [
    "price_apple = 100\n",
    "apple_num = 2\n",
    "tax = 1.1\n",
    "\n",
    "mul_apple_layer = MulLayer()\n",
    "mul_tax_layer = MulLayer()\n",
    "\n",
    "price_apple_num = mul_apple_layer.forward(price_apple, apple_num)\n",
    "price_apple_tax = mul_tax_layer.forward(price_apple_num, tax)\n",
    "\n",
    "print(f\"최종 지불 금액: {round(price_apple_tax,3)}\")\n"
   ]
  },
  {
   "cell_type": "code",
   "execution_count": 12,
   "metadata": {},
   "outputs": [
    {
     "name": "stdout",
     "output_type": "stream",
     "text": [
      "소비세에 대한 지불 금액의 미분: 200\n",
      "사과 가격에 대한 지불 금액의 미분: 2.2\n",
      "사과 개수에 대한 지불 금액의 미분: 110.00000000000001\n"
     ]
    }
   ],
   "source": [
    "dprice = 1\n",
    "dprice_apple_num, dtax = mul_tax_layer.backward(dprice)\n",
    "dprice_apple, dapple_num = mul_apple_layer.backward(dprice_apple_num)\n",
    "\n",
    "print(\"소비세에 대한 지불 금액의 미분:\", dtax)\n",
    "print(\"사과 가격에 대한 지불 금액의 미분:\", dprice_apple)\n",
    "print(\"사과 개수에 대한 지불 금액의 미분:\", dapple_num)\n"
   ]
  },
  {
   "cell_type": "code",
   "execution_count": 13,
   "metadata": {},
   "outputs": [],
   "source": [
    "class AddLayer:\n",
    "    def __init__(self):\n",
    "        pass\n",
    "\n",
    "    def forward(self, x, y):\n",
    "        return x+y\n",
    "\n",
    "    def backward(self, dout):\n",
    "        dx = dout*1\n",
    "        dy = dout*1\n",
    "        return dx, dy\n"
   ]
  },
  {
   "cell_type": "code",
   "execution_count": 14,
   "metadata": {},
   "outputs": [],
   "source": [
    "price_apple = 100\n",
    "apple_num = 2\n",
    "price_orange = 150\n",
    "orange_num = 3\n",
    "tax = 1.1\n",
    "\n",
    "# layer\n",
    "mul_apple_layer = MulLayer()\n",
    "mul_orange_layer = MulLayer()\n",
    "add_apple_orange_layer = AddLayer()\n",
    "mul_tax_layer = MulLayer()\n"
   ]
  },
  {
   "cell_type": "code",
   "execution_count": 15,
   "metadata": {},
   "outputs": [
    {
     "name": "stdout",
     "output_type": "stream",
     "text": [
      "최종 지불 금액: 715.0\n"
     ]
    }
   ],
   "source": [
    "price_apple_num = mul_apple_layer.forward(price_apple, apple_num)\n",
    "price_orange_num = mul_orange_layer.forward(price_orange, orange_num)\n",
    "price_all_num = add_apple_orange_layer.forward(\n",
    "    price_apple_num, price_orange_num)\n",
    "price_all_tax = mul_tax_layer.forward(price_all_num, tax)\n",
    "print(f\"최종 지불 금액: {round(price_all_tax,3)}\")\n"
   ]
  },
  {
   "cell_type": "code",
   "execution_count": 16,
   "metadata": {},
   "outputs": [
    {
     "name": "stdout",
     "output_type": "stream",
     "text": [
      "소비세에 대한 지불 금액의 미분: 650\n",
      "사과 가격에 대한 지불 금액의 미분: 2.2\n",
      "사과 개수에 대한 지불 금액의 미분: 110.00000000000001\n",
      "오렌지 가격에 대한 지불 금액의 미분: 3.3000000000000003\n",
      "오렌지 개수에 대한 지불 금액의 미분: 165.0\n"
     ]
    }
   ],
   "source": [
    "# back propagation\n",
    "dprice = 1\n",
    "dprice_all_num, dtax = mul_tax_layer.backward(dprice)\n",
    "dprice_apple_num, dprice_orange_num = add_apple_orange_layer.backward(\n",
    "    dprice_all_num)\n",
    "dprice_orange, dorange_num = mul_orange_layer.backward(dprice_orange_num)\n",
    "dprice_apple, dapple_num = mul_apple_layer.backward(dprice_apple_num)\n",
    "\n",
    "print(f\"소비세에 대한 지불 금액의 미분: {dtax}\")\n",
    "print(f\"사과 가격에 대한 지불 금액의 미분: {dprice_apple}\")\n",
    "print(f\"사과 개수에 대한 지불 금액의 미분: {dapple_num}\")\n",
    "print(f\"오렌지 가격에 대한 지불 금액의 미분: {dprice_orange}\")\n",
    "print(f\"오렌지 개수에 대한 지불 금액의 미분: {dorange_num}\")\n"
   ]
  },
  {
   "cell_type": "code",
   "execution_count": null,
   "metadata": {},
   "outputs": [],
   "source": []
  },
  {
   "cell_type": "code",
   "execution_count": null,
   "metadata": {},
   "outputs": [],
   "source": []
  },
  {
   "cell_type": "code",
   "execution_count": null,
   "metadata": {},
   "outputs": [],
   "source": []
  },
  {
   "cell_type": "code",
   "execution_count": null,
   "metadata": {},
   "outputs": [],
   "source": []
  }
 ],
 "metadata": {
  "kernelspec": {
   "display_name": "Python 3.7.4 ('venv': venv)",
   "language": "python",
   "name": "python3"
  },
  "language_info": {
   "codemirror_mode": {
    "name": "ipython",
    "version": 3
   },
   "file_extension": ".py",
   "mimetype": "text/x-python",
   "name": "python",
   "nbconvert_exporter": "python",
   "pygments_lexer": "ipython3",
   "version": "3.7.4"
  },
  "orig_nbformat": 4,
  "vscode": {
   "interpreter": {
    "hash": "ee3a569b6c17f781d88eed465009cab3acc13ebf6747bed2a2b2f4afb9b22959"
   }
  }
 },
 "nbformat": 4,
 "nbformat_minor": 2
}
