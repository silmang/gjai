{
 "cells": [
  {
   "cell_type": "code",
   "execution_count": 61,
   "metadata": {},
   "outputs": [],
   "source": [
    "import pandas as pd\n",
    "import numpy as np\n",
    "import tensorflow as tf\n",
    "\n",
    "path = \"C:\\\\pytest\\\\감성대화말뭉치\\\\\"\n",
    "data = pd.read_excel(path+\"감성대화말뭉치(최종데이터)_Training.xlsx\")\n",
    "random_state = 1111\n",
    "\n",
    "# 연령, 감정 모델 각각 만들기\n",
    "data = data[['연령', '감정_대분류', '사람문장1', '사람문장2', '사람문장3', '사람문장4']]\n",
    "# data = data.fillna('')\n",
    "data = data.rename(\n",
    "    columns={'사람문장1': '사람문장', '사람문장2': '사람문장', '사람문장3': '사람문장', '사람문장4': '사람문장'})\n",
    "col_data = pd.concat([data.iloc[:, [0, 1, 2]], data.iloc[:, [0, 1, 3]], data.iloc[:, [0, 1, 4]], data.iloc[:, [0, 1, 5]]], axis=0)\n",
    "col_data.dropna(inplace=True)\n",
    "col_data = col_data.reset_index()\n",
    "col_data.drop('index', axis=1, inplace=True)\n"
   ]
  },
  {
   "cell_type": "code",
   "execution_count": 62,
   "metadata": {},
   "outputs": [
    {
     "name": "stdout",
     "output_type": "stream",
     "text": [
      "filepath:  c:\\projects\\venv\\lib\\site-packages\n",
      "classpath:  c:\\projects\\venv\\lib\\site-packages\\rhinoMorph/lib/rhino.jar\n",
      "JVM is already started~\n",
      "RHINO started!\n"
     ]
    }
   ],
   "source": [
    "import rhinoMorph\n",
    "rn = rhinoMorph.startRhino()\n",
    "\n",
    "def morphed(text):\n",
    "    tmp_list = rhinoMorph.onlyMorph_list(\n",
    "        rn, text, pos=['NNG', 'NNP', 'VV', 'VA', 'XR', 'MM', 'MAG', 'EF']) #ef, -ic\n",
    "    return ' '.join(tmp_list)\n"
   ]
  },
  {
   "cell_type": "code",
   "execution_count": 63,
   "metadata": {},
   "outputs": [],
   "source": [
    "col_data['사람문장_형태소'] = col_data['사람문장'].apply(morphed)\n"
   ]
  },
  {
   "cell_type": "code",
   "execution_count": 64,
   "metadata": {},
   "outputs": [
    {
     "data": {
      "text/html": [
       "<div>\n",
       "<style scoped>\n",
       "    .dataframe tbody tr th:only-of-type {\n",
       "        vertical-align: middle;\n",
       "    }\n",
       "\n",
       "    .dataframe tbody tr th {\n",
       "        vertical-align: top;\n",
       "    }\n",
       "\n",
       "    .dataframe thead th {\n",
       "        text-align: right;\n",
       "    }\n",
       "</style>\n",
       "<table border=\"1\" class=\"dataframe\">\n",
       "  <thead>\n",
       "    <tr style=\"text-align: right;\">\n",
       "      <th></th>\n",
       "      <th>연령</th>\n",
       "      <th>감정_대분류</th>\n",
       "      <th>사람문장</th>\n",
       "      <th>사람문장_형태소</th>\n",
       "    </tr>\n",
       "  </thead>\n",
       "  <tbody>\n",
       "    <tr>\n",
       "      <th>0</th>\n",
       "      <td>청년</td>\n",
       "      <td>기쁨</td>\n",
       "      <td>아내가 드디어 출산하게 되어서 정말 신이 나.</td>\n",
       "      <td>아내 드디어 출산 되 정말 신 나</td>\n",
       "    </tr>\n",
       "    <tr>\n",
       "      <th>1</th>\n",
       "      <td>노년</td>\n",
       "      <td>불안</td>\n",
       "      <td>당뇨랑 합병증 때문에 먹어야 할 약이 열 가지가 넘어가니까 스트레스야.</td>\n",
       "      <td>당뇨 합병증 약이 가지 넘어가 스트레스</td>\n",
       "    </tr>\n",
       "    <tr>\n",
       "      <th>2</th>\n",
       "      <td>청소년</td>\n",
       "      <td>당황</td>\n",
       "      <td>고등학교에 올라오니 중학교 때보다 수업이 갑자기 어려워져서 당황스러워.</td>\n",
       "      <td>고등학교 올라오 중학교 때 수업 갑자기 어렵 당황</td>\n",
       "    </tr>\n",
       "    <tr>\n",
       "      <th>3</th>\n",
       "      <td>노년</td>\n",
       "      <td>기쁨</td>\n",
       "      <td>재취업이 돼서 받게 된 첫 월급으로 온 가족이 외식을 할 예정이야. 너무 행복해.</td>\n",
       "      <td>재취업 되 받 되 첫 월급 오 가족 외식 하 예정 야 너무 행복</td>\n",
       "    </tr>\n",
       "    <tr>\n",
       "      <th>4</th>\n",
       "      <td>노년</td>\n",
       "      <td>기쁨</td>\n",
       "      <td>빚을 드디어 다 갚게 되어서 이제야 안도감이 들어.</td>\n",
       "      <td>빚 드디어 다 갚 되 이제야 안도감 들</td>\n",
       "    </tr>\n",
       "    <tr>\n",
       "      <th>...</th>\n",
       "      <td>...</td>\n",
       "      <td>...</td>\n",
       "      <td>...</td>\n",
       "      <td>...</td>\n",
       "    </tr>\n",
       "    <tr>\n",
       "      <th>114284</th>\n",
       "      <td>노년</td>\n",
       "      <td>불안</td>\n",
       "      <td>미리 미리 건강 챙기고 모두 안 아팠으면 좋겠어.</td>\n",
       "      <td>미리 미리 건강 챙기 모두 안 아프 좋 어</td>\n",
       "    </tr>\n",
       "    <tr>\n",
       "      <th>114285</th>\n",
       "      <td>노년</td>\n",
       "      <td>당황</td>\n",
       "      <td>주변에 믿음직한 사람들에게서 정보도 많이 얻고 달콤한 말은 항상 의심하고 볼래.</td>\n",
       "      <td>주변 믿음직 사람 정보 많이 얻 달콤 말 항상 의심 보 ㄹ래</td>\n",
       "    </tr>\n",
       "    <tr>\n",
       "      <th>114286</th>\n",
       "      <td>노년</td>\n",
       "      <td>불안</td>\n",
       "      <td>친구들에게 내 마음을 터놓고 얘기하면 좀 나아질 것 같아.</td>\n",
       "      <td>친구 마음 터놓 이야기 좀 낫 같</td>\n",
       "    </tr>\n",
       "    <tr>\n",
       "      <th>114287</th>\n",
       "      <td>노년</td>\n",
       "      <td>당황</td>\n",
       "      <td>남편에게 이런 내 마음을 솔직하게 얘기해 봐야겠어.</td>\n",
       "      <td>남편 이런 마음 솔직 이야기 어</td>\n",
       "    </tr>\n",
       "    <tr>\n",
       "      <th>114288</th>\n",
       "      <td>청년</td>\n",
       "      <td>불안</td>\n",
       "      <td>친구가 자기가 데려온 강아지에 대해 책임감을 갖고 스스로 잘 돌봤으면 좋겠어.</td>\n",
       "      <td>친구 데리 강아지 대하 책임감 갖 스스로 잘 돌 좋 어</td>\n",
       "    </tr>\n",
       "  </tbody>\n",
       "</table>\n",
       "<p>114289 rows × 4 columns</p>\n",
       "</div>"
      ],
      "text/plain": [
       "         연령 감정_대분류                                           사람문장  \\\n",
       "0        청년     기쁨                      아내가 드디어 출산하게 되어서 정말 신이 나.   \n",
       "1        노년     불안        당뇨랑 합병증 때문에 먹어야 할 약이 열 가지가 넘어가니까 스트레스야.   \n",
       "2       청소년     당황        고등학교에 올라오니 중학교 때보다 수업이 갑자기 어려워져서 당황스러워.   \n",
       "3        노년     기쁨  재취업이 돼서 받게 된 첫 월급으로 온 가족이 외식을 할 예정이야. 너무 행복해.   \n",
       "4        노년     기쁨                   빚을 드디어 다 갚게 되어서 이제야 안도감이 들어.   \n",
       "...     ...    ...                                            ...   \n",
       "114284   노년     불안                    미리 미리 건강 챙기고 모두 안 아팠으면 좋겠어.   \n",
       "114285   노년     당황   주변에 믿음직한 사람들에게서 정보도 많이 얻고 달콤한 말은 항상 의심하고 볼래.   \n",
       "114286   노년     불안               친구들에게 내 마음을 터놓고 얘기하면 좀 나아질 것 같아.   \n",
       "114287   노년     당황                   남편에게 이런 내 마음을 솔직하게 얘기해 봐야겠어.   \n",
       "114288   청년     불안    친구가 자기가 데려온 강아지에 대해 책임감을 갖고 스스로 잘 돌봤으면 좋겠어.   \n",
       "\n",
       "                                   사람문장_형태소  \n",
       "0                        아내 드디어 출산 되 정말 신 나  \n",
       "1                     당뇨 합병증 약이 가지 넘어가 스트레스  \n",
       "2               고등학교 올라오 중학교 때 수업 갑자기 어렵 당황  \n",
       "3       재취업 되 받 되 첫 월급 오 가족 외식 하 예정 야 너무 행복  \n",
       "4                     빚 드디어 다 갚 되 이제야 안도감 들  \n",
       "...                                     ...  \n",
       "114284              미리 미리 건강 챙기 모두 안 아프 좋 어  \n",
       "114285    주변 믿음직 사람 정보 많이 얻 달콤 말 항상 의심 보 ㄹ래  \n",
       "114286                   친구 마음 터놓 이야기 좀 낫 같  \n",
       "114287                    남편 이런 마음 솔직 이야기 어  \n",
       "114288       친구 데리 강아지 대하 책임감 갖 스스로 잘 돌 좋 어  \n",
       "\n",
       "[114289 rows x 4 columns]"
      ]
     },
     "execution_count": 64,
     "metadata": {},
     "output_type": "execute_result"
    }
   ],
   "source": [
    "col_data\n"
   ]
  },
  {
   "cell_type": "code",
   "execution_count": 65,
   "metadata": {},
   "outputs": [],
   "source": [
    "from sklearn.preprocessing import LabelEncoder\n",
    "\n",
    "e_age = LabelEncoder()\n",
    "e_age.fit(col_data.iloc[:, 0])\n",
    "y_age = e_age.transform(col_data.iloc[:, 0])\n",
    "\n",
    "e_senti = LabelEncoder()\n",
    "# {'분노': 0, '기쁨': 1, '슬픔': 2, '당황': 3, '상처': 4, '불안': 5, '기쁨 ': 6, '불안 ': 7}\n",
    "tmp = col_data.iloc[:, 1]\n",
    "tmp = tmp.replace('기쁨 ', '기쁨')\n",
    "tmp = tmp.replace('불안 ', '불안')\n",
    "e_senti.fit(tmp)\n",
    "y_senti = e_senti.transform(tmp)"
   ]
  },
  {
   "cell_type": "code",
   "execution_count": null,
   "metadata": {},
   "outputs": [],
   "source": []
  },
  {
   "cell_type": "code",
   "execution_count": 66,
   "metadata": {},
   "outputs": [],
   "source": [
    "from sklearn.model_selection import train_test_split\n",
    "연령_X_pre, 연령_X_test, 연령_y_pre, 연령_y_test = train_test_split(\n",
    "    col_data.iloc[:, -1], y_age, random_state=random_state, test_size=.3)\n",
    "연령_X_train, 연령_X_validation, 연령_y_train, 연령_y_validation = train_test_split(\n",
    "    연령_X_pre, 연령_y_pre, random_state=random_state, test_size=.1)\n",
    "# test 데이터는 앞에서 3000건만 취하고 나머지 버림\n",
    "연령_X_test = 연령_X_test[:3000]\n",
    "연령_y_test = 연령_y_test[:3000]\n",
    "\n",
    "감정_X_pre, 감정_X_test, 감정_y_pre, 감정_y_test = train_test_split(\n",
    "    col_data.iloc[:, -1], y_senti, random_state=random_state, test_size=.3)\n",
    "감정_X_train, 감정_X_validation, 감정_y_train, 감정_y_validation = train_test_split(\n",
    "    감정_X_pre, 감정_y_pre, random_state=random_state, test_size=.1)\n",
    "# test 데이터는 앞에서 3000건만 취하고 나머지 버림\n",
    "감정_X_test = 감정_X_test[:3000]\n",
    "감정_y_test = 감정_y_test[:3000]\n"
   ]
  },
  {
   "cell_type": "code",
   "execution_count": 67,
   "metadata": {},
   "outputs": [],
   "source": [
    "from keras.preprocessing.text import Tokenizer\n",
    "from keras_preprocessing.sequence import pad_sequences\n",
    "import numpy as np\n",
    "import math"
   ]
  },
  {
   "cell_type": "code",
   "execution_count": 68,
   "metadata": {},
   "outputs": [
    {
     "name": "stdout",
     "output_type": "stream",
     "text": [
      "최소길이:  1\n",
      "최대길이:  32\n",
      "평균길이:  8.4\n",
      "중간길이:  8.0\n",
      "구간길이:  [ 1.  6.  8. 10. 12. 32.]\n"
     ]
    }
   ],
   "source": [
    "import numpy as np\n",
    "text_len = [len(line.split(' ')) for line in 연령_X_train]\n",
    "print('최소길이: ', np.min(text_len))\n",
    "print('최대길이: ', np.max(text_len))\n",
    "print('평균길이: ', np.round(np.mean(text_len), 1))\n",
    "print('중간길이: ', np.median(text_len))\n",
    "print('구간길이: ', np.percentile(text_len, [0, 25, 50, 75, 90, 100]))"
   ]
  },
  {
   "cell_type": "code",
   "execution_count": 69,
   "metadata": {},
   "outputs": [],
   "source": [
    "max_words = 3000\n",
    "maxlen = 20"
   ]
  },
  {
   "cell_type": "code",
   "execution_count": 70,
   "metadata": {},
   "outputs": [],
   "source": [
    "tokenizer = Tokenizer(num_words=max_words)\n",
    "tokenizer.fit_on_texts(연령_X_train)\n",
    "word_index_age = tokenizer.word_index"
   ]
  },
  {
   "cell_type": "code",
   "execution_count": 71,
   "metadata": {},
   "outputs": [
    {
     "name": "stdout",
     "output_type": "stream",
     "text": [
      "전체에서 12139개의 고유한 토큰을 찾았습니다.\n",
      "word_index type:  <class 'dict'>\n"
     ]
    }
   ],
   "source": [
    "print('전체에서 %s개의 고유한 토큰을 찾았습니다.' % len(word_index_age))\n",
    "print('word_index type: ', type(word_index_age))\n",
    "# print('word_index: ', word_index)"
   ]
  },
  {
   "cell_type": "code",
   "execution_count": 72,
   "metadata": {},
   "outputs": [
    {
     "name": "stdout",
     "output_type": "stream",
     "text": [
      "data 0: [3, 456, 257, 524, 1090, 12, 255, 28, 197, 7]\n",
      "texts 0: 친구 생일 선물 예쁘 가방 다 바쁘 정말 고맙 있\n",
      "data: [[   0    0    0 ...   27  174    7]\n",
      " [   0    0    0 ...   28  197    7]\n",
      " [   0    0    0 ...  302 1078   14]\n",
      " ...\n",
      " [   0    0    0 ...  111   29   10]\n",
      " [   0    0    0 ...    4   29   10]\n",
      " [   0    0    0 ...   79  921  188]]\n",
      "data 0: [   0    0    0    0    0    0    0    0    0    0    0    0    0    0\n",
      "    0 1562 1994   27  174    7]\n",
      "data 0의 길이: 20\n",
      "[   0    0    0    0    0    0    0    0    0    0    0    0    0    0\n",
      "    0 1562 1994   27  174    7]\n",
      "20\n"
     ]
    }
   ],
   "source": [
    "data = tokenizer.texts_to_sequences(연령_X_train)\n",
    "\n",
    "print('data 0:', data[1])\n",
    "print('texts 0:', 연령_X_train.iloc[1])\n",
    "\n",
    "data = pad_sequences(data, maxlen=maxlen)\n",
    "\n",
    "print('data:', data)\n",
    "print('data 0:', data[0])\n",
    "print('data 0의 길이:', len(data[0]))\n",
    "\n",
    "연령_X_train_data = pad_sequences(data, maxlen=maxlen)\n",
    "print(연령_X_train_data[0])\n",
    "print(len(연령_X_train_data[0]))"
   ]
  },
  {
   "cell_type": "code",
   "execution_count": 73,
   "metadata": {},
   "outputs": [
    {
     "name": "stdout",
     "output_type": "stream",
     "text": [
      "최대문장길이:  29\n",
      "최소문장길이:  0\n",
      "[   0    0    0    0    0    0    0    0    0    0    0    0    0    0\n",
      "    0 1562 1994   27  174    7]\n",
      "20\n"
     ]
    }
   ],
   "source": [
    "data = tokenizer.texts_to_sequences(연령_X_train)\n",
    "# print(\"data:\", data)\n",
    "len_d= [len(d) for d in data]\n",
    "# print(\"길이\", len_d)\n",
    "print(\"최대문장길이: \", max(len_d))\n",
    "print(\"최소문장길이: \", min(len_d))\n",
    "\n",
    "연령_X_train_data = pad_sequences(data, maxlen=maxlen)\n",
    "print(연령_X_train_data[0])\n",
    "print(len(연령_X_train_data[0]))"
   ]
  },
  {
   "cell_type": "code",
   "execution_count": 74,
   "metadata": {},
   "outputs": [
    {
     "name": "stdout",
     "output_type": "stream",
     "text": [
      "최대문장길이:  24\n",
      "최소문장길이:  1\n",
      "[   0    0    0    0    0    0    0    0    0   62 1693   17  101   78\n",
      "  169  255 1437  574   79    4]\n",
      "20\n"
     ]
    }
   ],
   "source": [
    "data = tokenizer.texts_to_sequences(연령_X_validation)\n",
    "# print(\"data:\", data)\n",
    "len_d= [len(d) for d in data]\n",
    "# print(\"길이\", len_d)\n",
    "print(\"최대문장길이: \", max(len_d))\n",
    "print(\"최소문장길이: \", min(len_d))\n",
    "\n",
    "연령_X_validation_data = pad_sequences(data, maxlen=maxlen)\n",
    "print(연령_X_validation_data[0])\n",
    "print(len(연령_X_validation_data[0]))"
   ]
  },
  {
   "cell_type": "code",
   "execution_count": 75,
   "metadata": {},
   "outputs": [
    {
     "name": "stdout",
     "output_type": "stream",
     "text": [
      "최대문장길이:  28\n",
      "최소문장길이:  1\n",
      "[   0    0    0    0    0    0    0    0    0    0    0    0    0    0\n",
      "    0    0 2303 1384 1634    2]\n",
      "20\n"
     ]
    }
   ],
   "source": [
    "data = tokenizer.texts_to_sequences(연령_X_test)\n",
    "# print(\"data:\", data)\n",
    "len_d= [len(d) for d in data]\n",
    "# print(\"길이\", len_d)\n",
    "print(\"최대문장길이: \", max(len_d))\n",
    "print(\"최소문장길이: \", min(len_d))\n",
    "\n",
    "연령_X_test_data = pad_sequences(data, maxlen=maxlen)\n",
    "print(연령_X_test_data[0])\n",
    "print(len(연령_X_test_data[0]))"
   ]
  },
  {
   "cell_type": "code",
   "execution_count": 76,
   "metadata": {},
   "outputs": [
    {
     "name": "stdout",
     "output_type": "stream",
     "text": [
      "최대문장길이:  29\n",
      "최소문장길이:  0\n",
      "[   0    0    0    0    0    0    0    0    0    0    0    0    0    0\n",
      "    0 1562 1994   27  174    7]\n",
      "20\n"
     ]
    }
   ],
   "source": [
    "data = tokenizer.texts_to_sequences(감정_X_train)\n",
    "# print(\"data:\", data)\n",
    "len_d= [len(d) for d in data]\n",
    "# print(\"길이\", len_d)\n",
    "print(\"최대문장길이: \", max(len_d))\n",
    "print(\"최소문장길이: \", min(len_d))\n",
    "\n",
    "감정_X_train_data = pad_sequences(data, maxlen=maxlen)\n",
    "print(감정_X_train_data[0])\n",
    "print(len(감정_X_train_data[0]))"
   ]
  },
  {
   "cell_type": "code",
   "execution_count": 77,
   "metadata": {},
   "outputs": [
    {
     "name": "stdout",
     "output_type": "stream",
     "text": [
      "최대문장길이:  24\n",
      "최소문장길이:  1\n",
      "[   0    0    0    0    0    0    0    0    0   62 1693   17  101   78\n",
      "  169  255 1437  574   79    4]\n",
      "20\n"
     ]
    }
   ],
   "source": [
    "data = tokenizer.texts_to_sequences(감정_X_validation)\n",
    "# print(\"data:\", data)\n",
    "len_d= [len(d) for d in data]\n",
    "# print(\"길이\", len_d)\n",
    "print(\"최대문장길이: \", max(len_d))\n",
    "print(\"최소문장길이: \", min(len_d))\n",
    "\n",
    "감정_X_validation_data = pad_sequences(data, maxlen=maxlen)\n",
    "print(감정_X_validation_data[0])\n",
    "print(len(감정_X_validation_data[0]))"
   ]
  },
  {
   "cell_type": "code",
   "execution_count": 78,
   "metadata": {},
   "outputs": [
    {
     "name": "stdout",
     "output_type": "stream",
     "text": [
      "최대문장길이:  28\n",
      "최소문장길이:  1\n",
      "[   0    0    0    0    0    0    0    0    0    0    0    0    0    0\n",
      "    0    0 2303 1384 1634    2]\n",
      "20\n"
     ]
    }
   ],
   "source": [
    "data = tokenizer.texts_to_sequences(감정_X_test)\n",
    "# print(\"data:\", data)\n",
    "len_d= [len(d) for d in data]\n",
    "# print(\"길이\", len_d)\n",
    "print(\"최대문장길이: \", max(len_d))\n",
    "print(\"최소문장길이: \", min(len_d))\n",
    "\n",
    "감정_X_test_data = pad_sequences(data, maxlen=maxlen)\n",
    "print(감정_X_test_data[0])\n",
    "print(len(감정_X_test_data[0]))"
   ]
  },
  {
   "cell_type": "code",
   "execution_count": 79,
   "metadata": {},
   "outputs": [],
   "source": [
    "def to_one_hot(sequences, dimension):\n",
    "    results = np.zeros((len(sequences), dimension))\n",
    "    for i, sequence in enumerate(sequences):\n",
    "        results[i, sequence] = 1.\n",
    "    return results"
   ]
  },
  {
   "cell_type": "code",
   "execution_count": 80,
   "metadata": {},
   "outputs": [],
   "source": [
    "class_number = 4\n",
    "\n",
    "연령_y_train_one_hot_encoding = to_one_hot(연령_y_train, dimension=class_number)\n",
    "연령_y_validation_one_hot_encoding = to_one_hot(연령_y_validation, dimension=class_number)\n",
    "연령_y_test_one_hot_encoding = to_one_hot(연령_y_test, dimension=class_number)\n"
   ]
  },
  {
   "cell_type": "code",
   "execution_count": 81,
   "metadata": {},
   "outputs": [
    {
     "data": {
      "text/plain": [
       "array([2, 0, 5, ..., 3, 3, 5])"
      ]
     },
     "execution_count": 81,
     "metadata": {},
     "output_type": "execute_result"
    }
   ],
   "source": [
    "감정_y_train"
   ]
  },
  {
   "cell_type": "code",
   "execution_count": 82,
   "metadata": {},
   "outputs": [],
   "source": [
    "class_number_senti = 6\n",
    "\n",
    "감정_y_train_one_hot_encoding = to_one_hot(감정_y_train, dimension=class_number_senti)\n",
    "감정_y_validation_one_hot_encoding = to_one_hot(감정_y_validation, dimension=class_number_senti)\n",
    "감정_y_test_one_hot_encoding = to_one_hot(감정_y_test, dimension=class_number_senti)"
   ]
  },
  {
   "cell_type": "code",
   "execution_count": 83,
   "metadata": {},
   "outputs": [],
   "source": [
    "연령_X_train_data = to_one_hot(연령_X_train_data, dimension=max_words)\n",
    "연령_X_validation_data = to_one_hot(연령_X_validation_data, dimension=max_words)\n",
    "연령_X_test_data = to_one_hot(연령_X_test_data, dimension=max_words)\n",
    "감정_X_train_data = to_one_hot(감정_X_train_data, dimension=max_words)\n",
    "감정_X_validation_data = to_one_hot(감정_X_validation_data, dimension=max_words)\n",
    "감정_X_test_data = to_one_hot(감정_X_test_data, dimension=max_words)\n"
   ]
  },
  {
   "cell_type": "code",
   "execution_count": 85,
   "metadata": {},
   "outputs": [
    {
     "name": "stdout",
     "output_type": "stream",
     "text": [
      "Model: \"sequential_1\"\n",
      "_________________________________________________________________\n",
      " Layer (type)                Output Shape              Param #   \n",
      "=================================================================\n",
      " dense_3 (Dense)             (None, 64)                192064    \n",
      "                                                                 \n",
      " dense_4 (Dense)             (None, 32)                2080      \n",
      "                                                                 \n",
      " dense_5 (Dense)             (None, 4)                 132       \n",
      "                                                                 \n",
      "=================================================================\n",
      "Total params: 194,276\n",
      "Trainable params: 194,276\n",
      "Non-trainable params: 0\n",
      "_________________________________________________________________\n",
      "Epoch 1/10\n",
      "72001/72001 [==============================] - ETA: 0s - loss: 1.2015 - acc: 0.5421\n",
      "Epoch 1: val_loss improved from inf to 1.16236, saving model to c:\\projects\\model\\221014\\train_data_morphed_age.h5\n",
      "72001/72001 [==============================] - 405s 6ms/step - loss: 1.2015 - acc: 0.5421 - val_loss: 1.1624 - val_acc: 0.5497\n",
      "Epoch 2/10\n",
      "71992/72001 [============================>.] - ETA: 0s - loss: 1.3476 - acc: 0.5575\n",
      "Epoch 2: val_loss did not improve from 1.16236\n",
      "72001/72001 [==============================] - 414s 6ms/step - loss: 1.3475 - acc: 0.5575 - val_loss: 1.3904 - val_acc: 0.5701\n",
      "Epoch 3/10\n",
      "71995/72001 [============================>.] - ETA: 0s - loss: 1.4122 - acc: 0.5554\n",
      "Epoch 3: val_loss did not improve from 1.16236\n",
      "72001/72001 [==============================] - 405s 6ms/step - loss: 1.4122 - acc: 0.5554 - val_loss: 1.5529 - val_acc: 0.5276\n",
      "Epoch 4/10\n",
      "71998/72001 [============================>.] - ETA: 0s - loss: 1.4680 - acc: 0.5573\n",
      "Epoch 4: val_loss did not improve from 1.16236\n",
      "72001/72001 [==============================] - 412s 6ms/step - loss: 1.4681 - acc: 0.5573 - val_loss: 1.5414 - val_acc: 0.5777\n"
     ]
    }
   ],
   "source": [
    "epochs = 10\n",
    "batch_size= 1\n",
    "model_name= 'c:\\\\projects\\\\model\\\\221014\\\\train_data_morphed_age.h5'\n",
    "tokenizer_name= 'c:\\\\projects\\\\model\\\\221014\\\\train_data_morphed_age.pickle'\n",
    "\n",
    "from keras.models import Sequential\n",
    "from keras.layers import Dense\n",
    "model = Sequential()\n",
    "model.add(Dense(64, activation='relu', input_shape=(연령_X_train_data.shape[1],)))\n",
    "model.add(Dense(units=32, activation='relu'))\n",
    "model.add(Dense(units=연령_y_train_one_hot_encoding.shape[1], activation='softmax'))\n",
    "model.summary()\n",
    "\n",
    "model.compile(optimizer='rmsprop',loss='categorical_crossentropy', metrics='acc')\n",
    "\n",
    "from keras.callbacks import EarlyStopping\n",
    "from keras.callbacks import ModelCheckpoint\n",
    "earlystop_callback = EarlyStopping(monitor='val_loss', patience=3)\n",
    "cp_callback = ModelCheckpoint(filepath=model_name, monitor='val_loss', verbose=1, save_best_only=True)\n",
    "history = model.fit(연령_X_train_data, 연령_y_train_one_hot_encoding, epochs=epochs, batch_size=batch_size, validation_data=(연령_X_validation_data, 연령_y_validation_one_hot_encoding), callbacks=[earlystop_callback, cp_callback], verbose=1)\n",
    "history_dict = history.history\n"
   ]
  },
  {
   "cell_type": "code",
   "execution_count": 86,
   "metadata": {},
   "outputs": [],
   "source": [
    "import pickle\n",
    "with open(tokenizer_name, 'wb') as file:\n",
    "    pickle.dump(tokenizer, file, protocol=pickle.HIGHEST_PROTOCOL)"
   ]
  },
  {
   "cell_type": "code",
   "execution_count": 87,
   "metadata": {},
   "outputs": [
    {
     "name": "stdout",
     "output_type": "stream",
     "text": [
      "Validation accuracy of each epoch: [0.55  0.57  0.528 0.578]\n"
     ]
    }
   ],
   "source": [
    "acc = history.history['acc']\n",
    "val_acc = history.history['val_acc']\n",
    "loss = history.history['loss']\n",
    "val_loss = history.history['val_loss']\n",
    "\n",
    "print('Validation accuracy of each epoch:', np.round(val_acc, 3))\n",
    "epochs = range(1, len(val_acc) + 1)"
   ]
  },
  {
   "cell_type": "code",
   "execution_count": 88,
   "metadata": {},
   "outputs": [],
   "source": [
    "from keras.models import load_model\n",
    "loaded_model_age = load_model(model_name)\n",
    "\n",
    "with open(tokenizer_name, 'rb') as handle:\n",
    "    loaded_tokenizer_age = pickle.load(handle)"
   ]
  },
  {
   "cell_type": "code",
   "execution_count": 93,
   "metadata": {},
   "outputs": [
    {
     "name": "stdout",
     "output_type": "stream",
     "text": [
      "94/94 [==============================] - 1s 4ms/step - loss: 1.2214 - acc: 0.5473\n"
     ]
    }
   ],
   "source": [
    "test_eval = loaded_model_age.evaluate(연령_X_test_data, 연령_y_test_one_hot_encoding)"
   ]
  },
  {
   "cell_type": "code",
   "execution_count": null,
   "metadata": {},
   "outputs": [],
   "source": []
  },
  {
   "cell_type": "code",
   "execution_count": null,
   "metadata": {},
   "outputs": [],
   "source": []
  }
 ],
 "metadata": {
  "kernelspec": {
   "display_name": "Python 3.7.4 ('venv': venv)",
   "language": "python",
   "name": "python3"
  },
  "language_info": {
   "codemirror_mode": {
    "name": "ipython",
    "version": 3
   },
   "file_extension": ".py",
   "mimetype": "text/x-python",
   "name": "python",
   "nbconvert_exporter": "python",
   "pygments_lexer": "ipython3",
   "version": "3.7.4"
  },
  "orig_nbformat": 4,
  "vscode": {
   "interpreter": {
    "hash": "ee3a569b6c17f781d88eed465009cab3acc13ebf6747bed2a2b2f4afb9b22959"
   }
  }
 },
 "nbformat": 4,
 "nbformat_minor": 2
}
