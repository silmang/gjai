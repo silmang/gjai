{
 "cells": [
  {
   "cell_type": "code",
   "execution_count": 1,
   "metadata": {},
   "outputs": [],
   "source": [
    "# C:\\pytest\\뉴스데이터\n",
    "# 뉴스데이터_train.csv\n",
    "# 뉴스데이터_test.csv\n",
    "import pandas as pd\n",
    "path = \"c:\\\\pytest\\\\뉴스데이터\\\\\"\n",
    "train_df = pd.read_csv(path+\"뉴스데이터_train.csv\", encoding='cp949')\n",
    "test_df = pd.read_csv(path+\"뉴스데이터_test.csv\", encoding='cp949')"
   ]
  },
  {
   "cell_type": "code",
   "execution_count": 2,
   "metadata": {},
   "outputs": [],
   "source": [
    "data1_train = train_df.copy()\n",
    "data1_test = test_df.copy()\n",
    "\n",
    "data2_train = train_df.copy()\n",
    "data2_test = test_df.copy()"
   ]
  },
  {
   "cell_type": "code",
   "execution_count": 3,
   "metadata": {},
   "outputs": [],
   "source": [
    "data1_train.drop(['id','날짜','분류2'], axis=1, inplace=True)\n",
    "data1_test.drop(['id','날짜','분류2'], axis=1, inplace=True)\n",
    "data1_train['분류1_상위']=data1_train['분류1'].apply(lambda x:x.split(',')[0])\n",
    "data1_test['분류1_상위']=data1_test['분류1'].apply(lambda x:x.split(',')[0])"
   ]
  },
  {
   "cell_type": "code",
   "execution_count": 4,
   "metadata": {},
   "outputs": [],
   "source": [
    "data2_train.drop(['id','날짜','분류1'], axis=1, inplace=True)\n",
    "data2_test.drop(['id','날짜','분류1'], axis=1, inplace=True)"
   ]
  },
  {
   "cell_type": "code",
   "execution_count": 5,
   "metadata": {},
   "outputs": [],
   "source": [
    "data2_train.dropna(inplace=True)\n",
    "data2_test.dropna(inplace=True)"
   ]
  },
  {
   "cell_type": "code",
   "execution_count": 6,
   "metadata": {},
   "outputs": [],
   "source": [
    "data2_train['분류2_상위']=data2_train['분류2'].apply(lambda x:x.split(',')[0])\n",
    "data2_test['분류2_상위']=data2_test['분류2'].apply(lambda x:x.split(',')[0])"
   ]
  },
  {
   "cell_type": "code",
   "execution_count": 7,
   "metadata": {},
   "outputs": [
    {
     "name": "stdout",
     "output_type": "stream",
     "text": [
      "filepath:  c:\\projects\\venv\\lib\\site-packages\n",
      "classpath:  c:\\projects\\venv\\lib\\site-packages\\rhinoMorph/lib/rhino.jar\n",
      "RHINO started!\n"
     ]
    }
   ],
   "source": [
    "import rhinoMorph\n",
    "\n",
    "rn = rhinoMorph.startRhino()\n",
    "def morphing(text):\n",
    "    morphed = rhinoMorph.onlyMorph_list(rn, text, pos=['NNG', 'NNP', 'NP', 'VV', 'VA', 'XR', 'IC', 'MM', 'MAG', 'MAJ'])\n",
    "    return ' '.join(morphed)\n"
   ]
  },
  {
   "cell_type": "code",
   "execution_count": 8,
   "metadata": {},
   "outputs": [],
   "source": [
    "data1_train['텍스트'] = data1_train['텍스트'].apply(morphing)\n",
    "data1_test['텍스트'] = data1_test['텍스트'].apply(morphing)\n",
    "data2_train['텍스트'] = data2_train['텍스트'].apply(morphing)\n",
    "data2_test['텍스트'] = data2_test['텍스트'].apply(morphing)"
   ]
  },
  {
   "cell_type": "code",
   "execution_count": 9,
   "metadata": {},
   "outputs": [],
   "source": [
    "data1_train = pd.concat([data1_train, pd.get_dummies(data1_train['분류1_상위'])], axis=1) \n",
    "data1_test = pd.concat([data1_test, pd.get_dummies(data1_test['분류1_상위'])], axis=1) \n",
    "data2_train = pd.concat([data2_train, pd.get_dummies(data2_train['분류2_상위'])], axis=1) \n",
    "data2_test = pd.concat([data2_test, pd.get_dummies(data2_test['분류2_상위'])], axis=1) "
   ]
  },
  {
   "cell_type": "code",
   "execution_count": 14,
   "metadata": {},
   "outputs": [],
   "source": [
    "from tensorflow.keras.preprocessing.text import Tokenizer\n",
    "from tensorflow.keras.preprocessing.sequence import pad_sequences\n",
    "# from tensorflow.keras.preprocessing.sequence import pad_sequences"
   ]
  },
  {
   "cell_type": "code",
   "execution_count": 15,
   "metadata": {},
   "outputs": [
    {
     "name": "stdout",
     "output_type": "stream",
     "text": [
      "최소길이:  4\n",
      "최대길이:  54\n",
      "평균길이:  19.7\n",
      "중위수길이:  19.0\n",
      "구간별최대길이:  [ 4. 16. 19. 22. 27. 54.]\n"
     ]
    }
   ],
   "source": [
    "# 여기부터\n",
    "import math\n",
    "import numpy as np\n",
    "\n",
    "text_len= [len(line.split(' ')) for line in data1_train['텍스트']]\n",
    "print(\"최소길이: \", np.min(text_len))\n",
    "print(\"최대길이: \", np.max(text_len))\n",
    "print(\"평균길이: \", np.round(np.mean(text_len), 1))\n",
    "print(\"중위수길이: \", np.median(text_len))\n",
    "print(\"구간별최대길이: \", np.percentile(text_len, [0, 25, 50, 75, 90, 100]))\n",
    "\n",
    "max_words = 10000\n",
    "max_len = 30\n"
   ]
  },
  {
   "cell_type": "code",
   "execution_count": 16,
   "metadata": {},
   "outputs": [],
   "source": [
    "tokenizer = Tokenizer(num_words=max_words)\n",
    "tokenizer.fit_on_texts(data1_train['텍스트'])\n",
    "word_index = tokenizer.word_index\n",
    "\n",
    "data1_test['정치'] = 0\n",
    "data1_test = data1_test[data1_train.columns]\n",
    "\n",
    "data1_X_train = pad_sequences(tokenizer.texts_to_sequences(data1_train['텍스트']), maxlen=max_len)\n",
    "data1_y_train = np.asarray(data1_train.iloc[:,-9:]).astype('float')\n",
    "data1_X_test = pad_sequences(tokenizer.texts_to_sequences(data1_test['텍스트']), maxlen=max_len)\n",
    "data1_y_test = np.asarray(data1_test.iloc[:,-9:]).astype('float')\n"
   ]
  },
  {
   "cell_type": "code",
   "execution_count": 17,
   "metadata": {},
   "outputs": [
    {
     "data": {
      "text/plain": [
       "18072"
      ]
     },
     "execution_count": 17,
     "metadata": {},
     "output_type": "execute_result"
    }
   ],
   "source": [
    "len(word_index)+1"
   ]
  },
  {
   "cell_type": "code",
   "execution_count": 18,
   "metadata": {},
   "outputs": [],
   "source": [
    "data2_X_train = pad_sequences(tokenizer.texts_to_sequences(data2_train['텍스트']), maxlen=max_len)\n",
    "data2_y_train = np.asarray(data2_train.iloc[:,-8:]).astype('float')\n",
    "data2_X_test = pad_sequences(tokenizer.texts_to_sequences(data2_test['텍스트']), maxlen=max_len)\n",
    "data2_y_test = np.asarray(data2_test.iloc[:,-8:]).astype('float')\n"
   ]
  },
  {
   "cell_type": "code",
   "execution_count": 19,
   "metadata": {},
   "outputs": [
    {
     "name": "stdout",
     "output_type": "stream",
     "text": [
      "Model: \"sequential_1\"\n",
      "_________________________________________________________________\n",
      "Layer (type)                 Output Shape              Param #   \n",
      "=================================================================\n",
      "embedding (Embedding)        (None, 30, 200)           2000000   \n",
      "_________________________________________________________________\n",
      "simple_rnn (SimpleRNN)       (None, 64)                16960     \n",
      "_________________________________________________________________\n",
      "dense (Dense)                (None, 32)                2080      \n",
      "_________________________________________________________________\n",
      "dense_1 (Dense)              (None, 9)                 297       \n",
      "=================================================================\n",
      "Total params: 2,019,337\n",
      "Trainable params: 2,019,337\n",
      "Non-trainable params: 0\n",
      "_________________________________________________________________\n"
     ]
    }
   ],
   "source": [
    "from tensorflow.keras.layers import Dense, Embedding, RNN, LSTM, Flatten, SimpleRNN\n",
    "from tensorflow.keras import models\n",
    "embedding_dim = 200\n",
    "\n",
    "model = models.Sequential()\n",
    "model.add(Embedding(input_dim=max_words, output_dim = embedding_dim, input_length=max_len))\n",
    "model.add(SimpleRNN(64))\n",
    "model.add(Dense(32, 'relu'))\n",
    "model.add(Dense(len(data1_y_train[0]), 'softmax'))\n",
    "\n",
    "model.summary()\n",
    "model.compile('rmsprop', 'categorical_crossentropy', 'acc')"
   ]
  },
  {
   "cell_type": "code",
   "execution_count": 180,
   "metadata": {},
   "outputs": [
    {
     "name": "stdout",
     "output_type": "stream",
     "text": [
      "Epoch 1/30\n",
      "213/213 [==============================] - 9s 39ms/step - loss: 1.5377 - acc: 0.4516\n",
      "Epoch 2/30\n",
      "213/213 [==============================] - 9s 41ms/step - loss: 1.0013 - acc: 0.6441\n",
      "Epoch 3/30\n",
      "213/213 [==============================] - 9s 44ms/step - loss: 0.6667 - acc: 0.7599\n",
      "Epoch 4/30\n",
      "213/213 [==============================] - 9s 43ms/step - loss: 0.3552 - acc: 0.8869\n",
      "Epoch 5/30\n",
      "213/213 [==============================] - 9s 43ms/step - loss: 0.1476 - acc: 0.9586\n",
      "Epoch 6/30\n",
      "213/213 [==============================] - 9s 43ms/step - loss: 0.0510 - acc: 0.9870\n",
      "Epoch 7/30\n",
      "213/213 [==============================] - 9s 44ms/step - loss: 0.0247 - acc: 0.9946\n",
      "Epoch 8/30\n",
      "213/213 [==============================] - 10s 46ms/step - loss: 0.0122 - acc: 0.9963\n",
      "Epoch 9/30\n",
      "213/213 [==============================] - 10s 46ms/step - loss: 0.0066 - acc: 0.9976\n",
      "Epoch 10/30\n",
      "213/213 [==============================] - 9s 42ms/step - loss: 0.0039 - acc: 0.9984\n",
      "Epoch 11/30\n",
      "213/213 [==============================] - 9s 43ms/step - loss: 0.0013 - acc: 0.9997\n",
      "Epoch 12/30\n",
      "213/213 [==============================] - 9s 43ms/step - loss: 8.1220e-04 - acc: 0.9999\n",
      "Epoch 13/30\n",
      "213/213 [==============================] - 9s 42ms/step - loss: 5.1122e-04 - acc: 0.9999\n",
      "Epoch 14/30\n",
      "213/213 [==============================] - 9s 41ms/step - loss: 5.0859e-04 - acc: 0.9999\n",
      "Epoch 15/30\n",
      "213/213 [==============================] - 9s 42ms/step - loss: 5.2825e-04 - acc: 0.9999\n",
      "Epoch 16/30\n",
      "213/213 [==============================] - 10s 45ms/step - loss: 4.3936e-04 - acc: 0.9999\n",
      "Epoch 17/30\n",
      "213/213 [==============================] - 9s 43ms/step - loss: 3.4892e-04 - acc: 0.9999\n",
      "Epoch 18/30\n",
      "213/213 [==============================] - 10s 48ms/step - loss: 3.8501e-04 - acc: 0.9999\n",
      "Epoch 19/30\n",
      "213/213 [==============================] - 10s 47ms/step - loss: 5.1582e-04 - acc: 0.9999\n",
      "Epoch 20/30\n",
      "213/213 [==============================] - 10s 47ms/step - loss: 3.1843e-04 - acc: 0.9999\n",
      "Epoch 21/30\n",
      "213/213 [==============================] - 9s 43ms/step - loss: 3.9295e-04 - acc: 0.9999\n",
      "Epoch 22/30\n",
      "213/213 [==============================] - 10s 45ms/step - loss: 2.7852e-04 - acc: 0.9999\n",
      "Epoch 23/30\n",
      "213/213 [==============================] - 10s 46ms/step - loss: 2.5614e-04 - acc: 0.9999\n",
      "Epoch 24/30\n",
      "213/213 [==============================] - 10s 46ms/step - loss: 2.4392e-04 - acc: 0.9999\n",
      "Epoch 25/30\n",
      "213/213 [==============================] - 10s 45ms/step - loss: 2.4869e-04 - acc: 0.9999\n",
      "Epoch 26/30\n",
      "213/213 [==============================] - 9s 44ms/step - loss: 2.1896e-04 - acc: 0.9999\n",
      "Epoch 27/30\n",
      "213/213 [==============================] - 9s 42ms/step - loss: 2.4543e-04 - acc: 0.9999\n",
      "Epoch 28/30\n",
      "213/213 [==============================] - 9s 43ms/step - loss: 1.9350e-04 - acc: 0.9999\n",
      "Epoch 29/30\n",
      "213/213 [==============================] - 9s 42ms/step - loss: 3.7845e-04 - acc: 0.9999\n",
      "Epoch 30/30\n",
      "213/213 [==============================] - 9s 43ms/step - loss: 1.5213e-04 - acc: 0.9999\n"
     ]
    },
    {
     "data": {
      "text/plain": [
       "<keras.callbacks.History at 0x1e2fb569a88>"
      ]
     },
     "execution_count": 180,
     "metadata": {},
     "output_type": "execute_result"
    }
   ],
   "source": [
    "model.fit(data1_X_train, data1_y_train, epochs=30, batch_size=32, verbose=1)"
   ]
  },
  {
   "cell_type": "code",
   "execution_count": 181,
   "metadata": {},
   "outputs": [
    {
     "name": "stdout",
     "output_type": "stream",
     "text": [
      "71/71 [==============================] - 1s 10ms/step - loss: 4.0671 - acc: 0.5832\n"
     ]
    },
    {
     "data": {
      "text/plain": [
       "[4.067142009735107, 0.5832229852676392]"
      ]
     },
     "execution_count": 181,
     "metadata": {},
     "output_type": "execute_result"
    }
   ],
   "source": [
    "model.evaluate(data1_X_test, data1_y_test)"
   ]
  },
  {
   "cell_type": "code",
   "execution_count": 176,
   "metadata": {},
   "outputs": [
    {
     "name": "stdout",
     "output_type": "stream",
     "text": [
      "Model: \"sequential_10\"\n",
      "_________________________________________________________________\n",
      " Layer (type)                Output Shape              Param #   \n",
      "=================================================================\n",
      " embedding_8 (Embedding)     (None, 30, 200)           2000000   \n",
      "                                                                 \n",
      " lstm_2 (LSTM)               (None, 64)                67840     \n",
      "                                                                 \n",
      " dense_12 (Dense)            (None, 32)                2080      \n",
      "                                                                 \n",
      " dense_13 (Dense)            (None, 9)                 297       \n",
      "                                                                 \n",
      "=================================================================\n",
      "Total params: 2,070,217\n",
      "Trainable params: 2,070,217\n",
      "Non-trainable params: 0\n",
      "_________________________________________________________________\n"
     ]
    }
   ],
   "source": [
    "from tensorflow.keras.layers import Dense, Embedding, RNN, LSTM, Flatten, SimpleRNN\n",
    "from tensorflow.keras import models\n",
    "embedding_dim = 200\n",
    "\n",
    "model = models.Sequential()\n",
    "model.add(Embedding(input_dim=max_words, output_dim = embedding_dim, input_length=max_len))\n",
    "model.add(LSTM(64))\n",
    "model.add(Dense(32, 'relu'))\n",
    "model.add(Dense(len(data1_y_train[0]), 'softmax'))\n",
    "\n",
    "model.summary()\n",
    "model.compile('rmsprop', 'categorical_crossentropy', 'acc')"
   ]
  },
  {
   "cell_type": "code",
   "execution_count": 177,
   "metadata": {},
   "outputs": [
    {
     "name": "stdout",
     "output_type": "stream",
     "text": [
      "Epoch 1/30\n",
      "213/213 [==============================] - 8s 26ms/step - loss: 1.3885 - acc: 0.4988\n",
      "Epoch 2/30\n",
      "213/213 [==============================] - 5s 25ms/step - loss: 0.8405 - acc: 0.7161\n",
      "Epoch 3/30\n",
      "213/213 [==============================] - 5s 25ms/step - loss: 0.5392 - acc: 0.8288\n",
      "Epoch 4/30\n",
      "213/213 [==============================] - 5s 25ms/step - loss: 0.3459 - acc: 0.8963\n",
      "Epoch 5/30\n",
      "213/213 [==============================] - 5s 25ms/step - loss: 0.2233 - acc: 0.9329\n",
      "Epoch 6/30\n",
      "213/213 [==============================] - 5s 25ms/step - loss: 0.1434 - acc: 0.9561\n",
      "Epoch 7/30\n",
      "213/213 [==============================] - 5s 25ms/step - loss: 0.0883 - acc: 0.9750\n",
      "Epoch 8/30\n",
      "213/213 [==============================] - 5s 25ms/step - loss: 0.0544 - acc: 0.9848\n",
      "Epoch 9/30\n",
      "213/213 [==============================] - 5s 25ms/step - loss: 0.0377 - acc: 0.9878\n",
      "Epoch 10/30\n",
      "213/213 [==============================] - 5s 25ms/step - loss: 0.0231 - acc: 0.9923\n",
      "Epoch 11/30\n",
      "213/213 [==============================] - 5s 26ms/step - loss: 0.0161 - acc: 0.9937\n",
      "Epoch 12/30\n",
      "213/213 [==============================] - 5s 25ms/step - loss: 0.0116 - acc: 0.9953\n",
      "Epoch 13/30\n",
      "213/213 [==============================] - 5s 25ms/step - loss: 0.0104 - acc: 0.9963\n",
      "Epoch 14/30\n",
      "213/213 [==============================] - 5s 25ms/step - loss: 0.0077 - acc: 0.9965\n",
      "Epoch 15/30\n",
      "213/213 [==============================] - 5s 25ms/step - loss: 0.0044 - acc: 0.9985\n",
      "Epoch 16/30\n",
      "213/213 [==============================] - 5s 26ms/step - loss: 0.0040 - acc: 0.9990\n",
      "Epoch 17/30\n",
      "213/213 [==============================] - 5s 25ms/step - loss: 0.0041 - acc: 0.9993\n",
      "Epoch 18/30\n",
      "213/213 [==============================] - 5s 25ms/step - loss: 0.0056 - acc: 0.9988\n",
      "Epoch 19/30\n",
      "213/213 [==============================] - 5s 25ms/step - loss: 0.0035 - acc: 0.9994\n",
      "Epoch 20/30\n",
      "213/213 [==============================] - 5s 25ms/step - loss: 0.0025 - acc: 0.9993\n",
      "Epoch 21/30\n",
      "213/213 [==============================] - 5s 25ms/step - loss: 8.3956e-04 - acc: 0.9999\n",
      "Epoch 22/30\n",
      "213/213 [==============================] - 5s 25ms/step - loss: 4.6755e-04 - acc: 0.9999\n",
      "Epoch 23/30\n",
      "213/213 [==============================] - 5s 25ms/step - loss: 4.9584e-04 - acc: 0.9999\n",
      "Epoch 24/30\n",
      "213/213 [==============================] - 5s 25ms/step - loss: 5.0084e-04 - acc: 0.9999\n",
      "Epoch 25/30\n",
      "213/213 [==============================] - 5s 25ms/step - loss: 3.8432e-04 - acc: 0.9999\n",
      "Epoch 26/30\n",
      "213/213 [==============================] - 5s 25ms/step - loss: 4.3516e-04 - acc: 0.9999\n",
      "Epoch 27/30\n",
      "213/213 [==============================] - 5s 25ms/step - loss: 0.0037 - acc: 0.9997\n",
      "Epoch 28/30\n",
      "213/213 [==============================] - 5s 25ms/step - loss: 0.0013 - acc: 0.9997\n",
      "Epoch 29/30\n",
      "213/213 [==============================] - 5s 25ms/step - loss: 3.5958e-04 - acc: 0.9999\n",
      "Epoch 30/30\n",
      "213/213 [==============================] - 5s 25ms/step - loss: 0.0024 - acc: 0.9994\n"
     ]
    },
    {
     "data": {
      "text/plain": [
       "<keras.callbacks.History at 0x1e2a9ee8ec8>"
      ]
     },
     "execution_count": 177,
     "metadata": {},
     "output_type": "execute_result"
    }
   ],
   "source": [
    "model.fit(data1_X_train, data1_y_train, epochs=30, batch_size=32, verbose=1)"
   ]
  },
  {
   "cell_type": "code",
   "execution_count": 178,
   "metadata": {},
   "outputs": [
    {
     "name": "stdout",
     "output_type": "stream",
     "text": [
      "71/71 [==============================] - 1s 8ms/step - loss: 3.5290 - acc: 0.7170\n"
     ]
    },
    {
     "data": {
      "text/plain": [
       "[3.529014825820923, 0.7169978022575378]"
      ]
     },
     "execution_count": 178,
     "metadata": {},
     "output_type": "execute_result"
    }
   ],
   "source": [
    "model.evaluate(data1_X_test, data1_y_test)"
   ]
  },
  {
   "cell_type": "code",
   "execution_count": 174,
   "metadata": {},
   "outputs": [
    {
     "name": "stdout",
     "output_type": "stream",
     "text": [
      "Model: \"sequential_9\"\n",
      "_________________________________________________________________\n",
      " Layer (type)                Output Shape              Param #   \n",
      "=================================================================\n",
      " embedding_7 (Embedding)     (None, 30, 200)           2000000   \n",
      "                                                                 \n",
      " gru (GRU)                   (None, 64)                51072     \n",
      "                                                                 \n",
      " dense_10 (Dense)            (None, 32)                2080      \n",
      "                                                                 \n",
      " dense_11 (Dense)            (None, 9)                 297       \n",
      "                                                                 \n",
      "=================================================================\n",
      "Total params: 2,053,449\n",
      "Trainable params: 2,053,449\n",
      "Non-trainable params: 0\n",
      "_________________________________________________________________\n",
      "Epoch 1/30\n",
      "213/213 [==============================] - 7s 24ms/step - loss: 1.4511 - acc: 0.4767\n",
      "Epoch 2/30\n",
      "213/213 [==============================] - 5s 24ms/step - loss: 0.8928 - acc: 0.6824\n",
      "Epoch 3/30\n",
      "213/213 [==============================] - 5s 24ms/step - loss: 0.6735 - acc: 0.7577\n",
      "Epoch 4/30\n",
      "213/213 [==============================] - 5s 24ms/step - loss: 0.5237 - acc: 0.8204\n",
      "Epoch 5/30\n",
      "213/213 [==============================] - 5s 24ms/step - loss: 0.4075 - acc: 0.8698\n",
      "Epoch 6/30\n",
      "213/213 [==============================] - 5s 24ms/step - loss: 0.2942 - acc: 0.9120\n",
      "Epoch 7/30\n",
      "213/213 [==============================] - 5s 25ms/step - loss: 0.1988 - acc: 0.9426\n",
      "Epoch 8/30\n",
      "213/213 [==============================] - 5s 25ms/step - loss: 0.1299 - acc: 0.9639\n",
      "Epoch 9/30\n",
      "213/213 [==============================] - 5s 25ms/step - loss: 0.0884 - acc: 0.9761\n",
      "Epoch 10/30\n",
      "213/213 [==============================] - 5s 24ms/step - loss: 0.0596 - acc: 0.9838\n",
      "Epoch 11/30\n",
      "213/213 [==============================] - 5s 24ms/step - loss: 0.0396 - acc: 0.9900\n",
      "Epoch 12/30\n",
      "213/213 [==============================] - 5s 25ms/step - loss: 0.0287 - acc: 0.9931\n",
      "Epoch 13/30\n",
      "213/213 [==============================] - 5s 24ms/step - loss: 0.0170 - acc: 0.9951\n",
      "Epoch 14/30\n",
      "213/213 [==============================] - 5s 24ms/step - loss: 0.0137 - acc: 0.9968\n",
      "Epoch 15/30\n",
      "213/213 [==============================] - 5s 24ms/step - loss: 0.0098 - acc: 0.9968\n",
      "Epoch 16/30\n",
      "213/213 [==============================] - 5s 24ms/step - loss: 0.0070 - acc: 0.9972\n",
      "Epoch 17/30\n",
      "213/213 [==============================] - 5s 24ms/step - loss: 0.0047 - acc: 0.9982\n",
      "Epoch 18/30\n",
      "213/213 [==============================] - 5s 26ms/step - loss: 0.0041 - acc: 0.9988\n",
      "Epoch 19/30\n",
      "213/213 [==============================] - 5s 25ms/step - loss: 0.0030 - acc: 0.9993\n",
      "Epoch 20/30\n",
      "213/213 [==============================] - 5s 25ms/step - loss: 0.0042 - acc: 0.9991\n",
      "Epoch 21/30\n",
      "213/213 [==============================] - 5s 25ms/step - loss: 0.0015 - acc: 0.9997\n",
      "Epoch 22/30\n",
      "213/213 [==============================] - 5s 25ms/step - loss: 0.0010 - acc: 0.9997\n",
      "Epoch 23/30\n",
      "213/213 [==============================] - 5s 25ms/step - loss: 0.0010 - acc: 0.9999\n",
      "Epoch 24/30\n",
      "213/213 [==============================] - 5s 24ms/step - loss: 7.7093e-04 - acc: 0.9997\n",
      "Epoch 25/30\n",
      "213/213 [==============================] - 5s 24ms/step - loss: 9.8965e-04 - acc: 0.9999\n",
      "Epoch 26/30\n",
      "213/213 [==============================] - 5s 24ms/step - loss: 7.6489e-04 - acc: 0.9999\n",
      "Epoch 27/30\n",
      "213/213 [==============================] - 5s 24ms/step - loss: 8.4364e-04 - acc: 0.9997\n",
      "Epoch 28/30\n",
      "213/213 [==============================] - 5s 24ms/step - loss: 9.1373e-04 - acc: 0.9999\n",
      "Epoch 29/30\n",
      "213/213 [==============================] - 5s 24ms/step - loss: 8.9485e-04 - acc: 0.9999\n",
      "Epoch 30/30\n",
      "213/213 [==============================] - 5s 24ms/step - loss: 0.0013 - acc: 0.9997\n"
     ]
    },
    {
     "data": {
      "text/plain": [
       "<keras.callbacks.History at 0x1e2e024ddc8>"
      ]
     },
     "execution_count": 174,
     "metadata": {},
     "output_type": "execute_result"
    }
   ],
   "source": [
    "from tensorflow.keras.layers import Dense, Embedding, RNN, LSTM, Flatten, SimpleRNN, GRU\n",
    "from tensorflow.keras import models\n",
    "embedding_dim = 200\n",
    "\n",
    "model = models.Sequential()\n",
    "model.add(Embedding(input_dim=max_words, output_dim = embedding_dim, input_length=max_len))\n",
    "model.add(GRU(64))\n",
    "model.add(Dense(32, 'relu'))\n",
    "model.add(Dense(len(data1_y_train[0]), 'softmax'))\n",
    "\n",
    "model.summary()\n",
    "model.compile('rmsprop', 'categorical_crossentropy', 'acc')\n",
    "\n",
    "model.fit(data1_X_train, data1_y_train, epochs=30, batch_size=32, verbose=1)"
   ]
  },
  {
   "cell_type": "code",
   "execution_count": 175,
   "metadata": {},
   "outputs": [
    {
     "name": "stdout",
     "output_type": "stream",
     "text": [
      "71/71 [==============================] - 1s 7ms/step - loss: 4.1591 - acc: 0.6936\n"
     ]
    },
    {
     "data": {
      "text/plain": [
       "[4.159117221832275, 0.693598210811615]"
      ]
     },
     "execution_count": 175,
     "metadata": {},
     "output_type": "execute_result"
    }
   ],
   "source": [
    "model.evaluate(data1_X_test, data1_y_test)"
   ]
  },
  {
   "cell_type": "code",
   "execution_count": null,
   "metadata": {},
   "outputs": [],
   "source": []
  },
  {
   "cell_type": "code",
   "execution_count": null,
   "metadata": {},
   "outputs": [],
   "source": []
  },
  {
   "cell_type": "code",
   "execution_count": null,
   "metadata": {},
   "outputs": [],
   "source": []
  },
  {
   "cell_type": "code",
   "execution_count": 182,
   "metadata": {},
   "outputs": [
    {
     "name": "stdout",
     "output_type": "stream",
     "text": [
      "Model: \"sequential_12\"\n",
      "_________________________________________________________________\n",
      " Layer (type)                Output Shape              Param #   \n",
      "=================================================================\n",
      " embedding_10 (Embedding)    (None, 30, 200)           2000000   \n",
      "                                                                 \n",
      " simple_rnn_4 (SimpleRNN)    (None, 64)                16960     \n",
      "                                                                 \n",
      " dense_16 (Dense)            (None, 32)                2080      \n",
      "                                                                 \n",
      " dense_17 (Dense)            (None, 8)                 264       \n",
      "                                                                 \n",
      "=================================================================\n",
      "Total params: 2,019,304\n",
      "Trainable params: 2,019,304\n",
      "Non-trainable params: 0\n",
      "_________________________________________________________________\n",
      "Epoch 1/30\n",
      "148/148 [==============================] - 8s 44ms/step - loss: 1.8275 - acc: 0.3180\n",
      "Epoch 2/30\n",
      "148/148 [==============================] - 7s 45ms/step - loss: 1.1896 - acc: 0.5903\n",
      "Epoch 3/30\n",
      "148/148 [==============================] - 7s 44ms/step - loss: 0.4741 - acc: 0.8681\n",
      "Epoch 4/30\n",
      "148/148 [==============================] - 6s 42ms/step - loss: 0.1125 - acc: 0.9765\n",
      "Epoch 5/30\n",
      "148/148 [==============================] - 6s 41ms/step - loss: 0.0248 - acc: 0.9943\n",
      "Epoch 6/30\n",
      "148/148 [==============================] - 6s 42ms/step - loss: 0.0061 - acc: 0.9987\n",
      "Epoch 7/30\n",
      "148/148 [==============================] - 6s 43ms/step - loss: 0.0014 - acc: 0.9998\n",
      "Epoch 8/30\n",
      "148/148 [==============================] - 6s 42ms/step - loss: 1.1237e-04 - acc: 1.0000\n",
      "Epoch 9/30\n",
      "148/148 [==============================] - 6s 42ms/step - loss: 6.8015e-04 - acc: 0.9998\n",
      "Epoch 10/30\n",
      "148/148 [==============================] - 6s 42ms/step - loss: 3.0763e-06 - acc: 1.0000\n",
      "Epoch 11/30\n",
      "148/148 [==============================] - 7s 45ms/step - loss: 2.8152e-08 - acc: 1.0000\n",
      "Epoch 12/30\n",
      "148/148 [==============================] - 7s 45ms/step - loss: 4.9398e-09 - acc: 1.0000\n",
      "Epoch 13/30\n",
      "148/148 [==============================] - 6s 44ms/step - loss: 2.2935e-09 - acc: 1.0000\n",
      "Epoch 14/30\n",
      "148/148 [==============================] - 6s 43ms/step - loss: 1.3357e-09 - acc: 1.0000\n",
      "Epoch 15/30\n",
      "148/148 [==============================] - 7s 45ms/step - loss: 1.4114e-09 - acc: 1.0000\n",
      "Epoch 16/30\n",
      "148/148 [==============================] - 6s 43ms/step - loss: 1.0585e-09 - acc: 1.0000\n",
      "Epoch 17/30\n",
      "148/148 [==============================] - 7s 44ms/step - loss: 1.0837e-09 - acc: 1.0000\n",
      "Epoch 18/30\n",
      "148/148 [==============================] - 7s 45ms/step - loss: 1.0837e-09 - acc: 1.0000\n",
      "Epoch 19/30\n",
      "148/148 [==============================] - 7s 45ms/step - loss: 1.1341e-09 - acc: 1.0000\n",
      "Epoch 20/30\n",
      "148/148 [==============================] - 7s 45ms/step - loss: 1.2853e-09 - acc: 1.0000\n",
      "Epoch 21/30\n",
      "148/148 [==============================] - 7s 44ms/step - loss: 1.4618e-09 - acc: 1.0000\n",
      "Epoch 22/30\n",
      "148/148 [==============================] - 7s 45ms/step - loss: 1.4870e-09 - acc: 1.0000\n",
      "Epoch 23/30\n",
      "148/148 [==============================] - 7s 45ms/step - loss: 1.7390e-09 - acc: 1.0000\n",
      "Epoch 24/30\n",
      "148/148 [==============================] - 6s 43ms/step - loss: 1.7894e-09 - acc: 1.0000\n",
      "Epoch 25/30\n",
      "148/148 [==============================] - 7s 44ms/step - loss: 1.8146e-09 - acc: 1.0000\n",
      "Epoch 26/30\n",
      "148/148 [==============================] - 6s 43ms/step - loss: 1.9658e-09 - acc: 1.0000\n",
      "Epoch 27/30\n",
      "148/148 [==============================] - 6s 41ms/step - loss: 2.1422e-09 - acc: 1.0000\n",
      "Epoch 28/30\n",
      "148/148 [==============================] - 6s 43ms/step - loss: 2.3691e-09 - acc: 1.0000\n",
      "Epoch 29/30\n",
      "148/148 [==============================] - 7s 47ms/step - loss: 2.5959e-09 - acc: 1.0000\n",
      "Epoch 30/30\n",
      "148/148 [==============================] - 6s 43ms/step - loss: 3.0495e-09 - acc: 1.0000\n"
     ]
    },
    {
     "data": {
      "text/plain": [
       "<keras.callbacks.History at 0x1e2fb8b6688>"
      ]
     },
     "execution_count": 182,
     "metadata": {},
     "output_type": "execute_result"
    }
   ],
   "source": [
    "from tensorflow.keras.layers import Dense, Embedding, RNN, LSTM, Flatten, SimpleRNN\n",
    "from tensorflow.keras import models\n",
    "embedding_dim = 200\n",
    "\n",
    "model = models.Sequential()\n",
    "model.add(Embedding(input_dim=max_words, output_dim=embedding_dim, input_length=max_len))\n",
    "model.add(SimpleRNN(64))\n",
    "model.add(Dense(32, 'relu'))\n",
    "model.add(Dense(len(data2_y_train[0]), 'softmax'))\n",
    "\n",
    "model.summary()\n",
    "model.compile('rmsprop', 'categorical_crossentropy', 'acc')\n",
    "model.fit(data2_X_train, data2_y_train, epochs=30, batch_size=32, verbose=1)\n"
   ]
  },
  {
   "cell_type": "code",
   "execution_count": 183,
   "metadata": {},
   "outputs": [
    {
     "name": "stdout",
     "output_type": "stream",
     "text": [
      "50/50 [==============================] - 1s 10ms/step - loss: 5.4772 - acc: 0.3622\n"
     ]
    },
    {
     "data": {
      "text/plain": [
       "[5.477198123931885, 0.362209677696228]"
      ]
     },
     "execution_count": 183,
     "metadata": {},
     "output_type": "execute_result"
    }
   ],
   "source": [
    "model.evaluate(data2_X_test, data2_y_test)"
   ]
  },
  {
   "cell_type": "code",
   "execution_count": 184,
   "metadata": {},
   "outputs": [
    {
     "name": "stdout",
     "output_type": "stream",
     "text": [
      "Model: \"sequential_13\"\n",
      "_________________________________________________________________\n",
      " Layer (type)                Output Shape              Param #   \n",
      "=================================================================\n",
      " embedding_11 (Embedding)    (None, 30, 200)           2000000   \n",
      "                                                                 \n",
      " lstm_3 (LSTM)               (None, 64)                67840     \n",
      "                                                                 \n",
      " dense_18 (Dense)            (None, 32)                2080      \n",
      "                                                                 \n",
      " dense_19 (Dense)            (None, 8)                 264       \n",
      "                                                                 \n",
      "=================================================================\n",
      "Total params: 2,070,184\n",
      "Trainable params: 2,070,184\n",
      "Non-trainable params: 0\n",
      "_________________________________________________________________\n",
      "Epoch 1/30\n",
      "148/148 [==============================] - 5s 25ms/step - loss: 1.6580 - acc: 0.3905\n",
      "Epoch 2/30\n",
      "148/148 [==============================] - 4s 25ms/step - loss: 1.1292 - acc: 0.6101\n",
      "Epoch 3/30\n",
      "148/148 [==============================] - 4s 25ms/step - loss: 0.8341 - acc: 0.7156\n",
      "Epoch 4/30\n",
      "148/148 [==============================] - 4s 25ms/step - loss: 0.5814 - acc: 0.8127\n",
      "Epoch 5/30\n",
      "148/148 [==============================] - 4s 25ms/step - loss: 0.3710 - acc: 0.8854\n",
      "Epoch 6/30\n",
      "148/148 [==============================] - 4s 25ms/step - loss: 0.2327 - acc: 0.9353\n",
      "Epoch 7/30\n",
      "148/148 [==============================] - 4s 25ms/step - loss: 0.1412 - acc: 0.9624\n",
      "Epoch 8/30\n",
      "148/148 [==============================] - 4s 25ms/step - loss: 0.0841 - acc: 0.9759\n",
      "Epoch 9/30\n",
      "148/148 [==============================] - 4s 25ms/step - loss: 0.0568 - acc: 0.9846\n",
      "Epoch 10/30\n",
      "148/148 [==============================] - 4s 25ms/step - loss: 0.0351 - acc: 0.9905\n",
      "Epoch 11/30\n",
      "148/148 [==============================] - 4s 25ms/step - loss: 0.0224 - acc: 0.9937\n",
      "Epoch 12/30\n",
      "148/148 [==============================] - 4s 25ms/step - loss: 0.0138 - acc: 0.9960\n",
      "Epoch 13/30\n",
      "148/148 [==============================] - 4s 25ms/step - loss: 0.0110 - acc: 0.9964\n",
      "Epoch 14/30\n",
      "148/148 [==============================] - 4s 25ms/step - loss: 0.0064 - acc: 0.9987\n",
      "Epoch 15/30\n",
      "148/148 [==============================] - 4s 25ms/step - loss: 0.0062 - acc: 0.9981\n",
      "Epoch 16/30\n",
      "148/148 [==============================] - 4s 25ms/step - loss: 0.0028 - acc: 0.9994\n",
      "Epoch 17/30\n",
      "148/148 [==============================] - 4s 25ms/step - loss: 0.0010 - acc: 0.9996\n",
      "Epoch 18/30\n",
      "148/148 [==============================] - 4s 25ms/step - loss: 0.0030 - acc: 0.9994\n",
      "Epoch 19/30\n",
      "148/148 [==============================] - 4s 25ms/step - loss: 0.0014 - acc: 0.9996\n",
      "Epoch 20/30\n",
      "148/148 [==============================] - 4s 25ms/step - loss: 0.0056 - acc: 0.9989\n",
      "Epoch 21/30\n",
      "148/148 [==============================] - 4s 25ms/step - loss: 7.2357e-06 - acc: 1.0000\n",
      "Epoch 22/30\n",
      "148/148 [==============================] - 4s 25ms/step - loss: 1.5053e-07 - acc: 1.0000\n",
      "Epoch 23/30\n",
      "148/148 [==============================] - 4s 25ms/step - loss: 1.8927e-08 - acc: 1.0000\n",
      "Epoch 24/30\n",
      "148/148 [==============================] - 4s 25ms/step - loss: 5.4690e-09 - acc: 1.0000\n",
      "Epoch 25/30\n",
      "148/148 [==============================] - 4s 25ms/step - loss: 3.1756e-09 - acc: 1.0000\n",
      "Epoch 26/30\n",
      "148/148 [==============================] - 4s 25ms/step - loss: 2.1674e-09 - acc: 1.0000\n",
      "Epoch 27/30\n",
      "148/148 [==============================] - 4s 25ms/step - loss: 1.7138e-09 - acc: 1.0000\n",
      "Epoch 28/30\n",
      "148/148 [==============================] - 4s 25ms/step - loss: 1.3610e-09 - acc: 1.0000\n",
      "Epoch 29/30\n",
      "148/148 [==============================] - 4s 25ms/step - loss: 1.0333e-09 - acc: 1.0000\n",
      "Epoch 30/30\n",
      "148/148 [==============================] - 4s 25ms/step - loss: 9.5771e-10 - acc: 1.0000\n"
     ]
    },
    {
     "data": {
      "text/plain": [
       "<keras.callbacks.History at 0x1e309bb3948>"
      ]
     },
     "execution_count": 184,
     "metadata": {},
     "output_type": "execute_result"
    }
   ],
   "source": [
    "from tensorflow.keras.layers import Dense, Embedding, RNN, LSTM, Flatten, SimpleRNN\n",
    "from tensorflow.keras import models\n",
    "embedding_dim = 200\n",
    "\n",
    "model = models.Sequential()\n",
    "model.add(Embedding(input_dim=max_words, output_dim=embedding_dim, input_length=max_len))\n",
    "model.add(LSTM(64))\n",
    "model.add(Dense(32, 'relu'))\n",
    "model.add(Dense(len(data2_y_train[0]), 'softmax'))\n",
    "\n",
    "model.summary()\n",
    "model.compile('rmsprop', 'categorical_crossentropy', 'acc')\n",
    "model.fit(data2_X_train, data2_y_train, epochs=30, batch_size=32, verbose=1)\n"
   ]
  },
  {
   "cell_type": "code",
   "execution_count": 185,
   "metadata": {},
   "outputs": [
    {
     "name": "stdout",
     "output_type": "stream",
     "text": [
      "50/50 [==============================] - 1s 8ms/step - loss: 6.4730 - acc: 0.5794\n"
     ]
    },
    {
     "data": {
      "text/plain": [
       "[6.473018169403076, 0.5794098973274231]"
      ]
     },
     "execution_count": 185,
     "metadata": {},
     "output_type": "execute_result"
    }
   ],
   "source": [
    "model.evaluate(data2_X_test, data2_y_test)"
   ]
  },
  {
   "cell_type": "code",
   "execution_count": 186,
   "metadata": {},
   "outputs": [
    {
     "name": "stdout",
     "output_type": "stream",
     "text": [
      "Model: \"sequential_14\"\n",
      "_________________________________________________________________\n",
      " Layer (type)                Output Shape              Param #   \n",
      "=================================================================\n",
      " embedding_12 (Embedding)    (None, 30, 200)           2000000   \n",
      "                                                                 \n",
      " gru_1 (GRU)                 (None, 64)                51072     \n",
      "                                                                 \n",
      " dense_20 (Dense)            (None, 32)                2080      \n",
      "                                                                 \n",
      " dense_21 (Dense)            (None, 8)                 264       \n",
      "                                                                 \n",
      "=================================================================\n",
      "Total params: 2,053,416\n",
      "Trainable params: 2,053,416\n",
      "Non-trainable params: 0\n",
      "_________________________________________________________________\n",
      "Epoch 1/30\n",
      "148/148 [==============================] - 5s 24ms/step - loss: 1.7654 - acc: 0.3230\n",
      "Epoch 2/30\n",
      "148/148 [==============================] - 4s 24ms/step - loss: 1.2423 - acc: 0.5467\n",
      "Epoch 3/30\n",
      "148/148 [==============================] - 4s 24ms/step - loss: 0.9252 - acc: 0.6681\n",
      "Epoch 4/30\n",
      "148/148 [==============================] - 4s 24ms/step - loss: 0.6980 - acc: 0.7643\n",
      "Epoch 5/30\n",
      "148/148 [==============================] - 4s 24ms/step - loss: 0.5157 - acc: 0.8406\n",
      "Epoch 6/30\n",
      "148/148 [==============================] - 4s 24ms/step - loss: 0.3627 - acc: 0.8953\n",
      "Epoch 7/30\n",
      "148/148 [==============================] - 4s 24ms/step - loss: 0.2321 - acc: 0.9351\n",
      "Epoch 8/30\n",
      "148/148 [==============================] - 4s 24ms/step - loss: 0.1526 - acc: 0.9569\n",
      "Epoch 9/30\n",
      "148/148 [==============================] - 4s 24ms/step - loss: 0.0950 - acc: 0.9721\n",
      "Epoch 10/30\n",
      "148/148 [==============================] - 4s 24ms/step - loss: 0.0628 - acc: 0.9839\n",
      "Epoch 11/30\n",
      "148/148 [==============================] - 4s 25ms/step - loss: 0.0354 - acc: 0.9913\n",
      "Epoch 12/30\n",
      "148/148 [==============================] - 4s 25ms/step - loss: 0.0208 - acc: 0.9947\n",
      "Epoch 13/30\n",
      "148/148 [==============================] - 4s 24ms/step - loss: 0.0158 - acc: 0.9953\n",
      "Epoch 14/30\n",
      "148/148 [==============================] - 4s 24ms/step - loss: 0.0090 - acc: 0.9973\n",
      "Epoch 15/30\n",
      "148/148 [==============================] - 4s 24ms/step - loss: 0.0060 - acc: 0.9979\n",
      "Epoch 16/30\n",
      "148/148 [==============================] - 4s 24ms/step - loss: 0.0031 - acc: 0.9992\n",
      "Epoch 17/30\n",
      "148/148 [==============================] - 4s 24ms/step - loss: 0.0013 - acc: 0.9996\n",
      "Epoch 18/30\n",
      "148/148 [==============================] - 4s 24ms/step - loss: 3.0673e-04 - acc: 0.9998\n",
      "Epoch 19/30\n",
      "148/148 [==============================] - 4s 24ms/step - loss: 0.0013 - acc: 0.9994\n",
      "Epoch 20/30\n",
      "148/148 [==============================] - 4s 24ms/step - loss: 5.2024e-04 - acc: 0.9998\n",
      "Epoch 21/30\n",
      "148/148 [==============================] - 4s 24ms/step - loss: 1.3150e-06 - acc: 1.0000\n",
      "Epoch 22/30\n",
      "148/148 [==============================] - 4s 24ms/step - loss: 1.6697e-06 - acc: 1.0000\n",
      "Epoch 23/30\n",
      "148/148 [==============================] - 4s 24ms/step - loss: 1.2169e-07 - acc: 1.0000\n",
      "Epoch 24/30\n",
      "148/148 [==============================] - 4s 24ms/step - loss: 3.5158e-08 - acc: 1.0000\n",
      "Epoch 25/30\n",
      "148/148 [==============================] - 4s 24ms/step - loss: 6.3007e-09 - acc: 1.0000\n",
      "Epoch 26/30\n",
      "148/148 [==============================] - 4s 24ms/step - loss: 4.2845e-09 - acc: 1.0000\n",
      "Epoch 27/30\n",
      "148/148 [==============================] - 4s 24ms/step - loss: 3.6544e-09 - acc: 1.0000\n",
      "Epoch 28/30\n",
      "148/148 [==============================] - 4s 24ms/step - loss: 2.3691e-09 - acc: 1.0000\n",
      "Epoch 29/30\n",
      "148/148 [==============================] - 4s 24ms/step - loss: 1.9658e-09 - acc: 1.0000\n",
      "Epoch 30/30\n",
      "148/148 [==============================] - 4s 24ms/step - loss: 1.6886e-09 - acc: 1.0000\n"
     ]
    },
    {
     "data": {
      "text/plain": [
       "<keras.callbacks.History at 0x1e30d1ee388>"
      ]
     },
     "execution_count": 186,
     "metadata": {},
     "output_type": "execute_result"
    }
   ],
   "source": [
    "from tensorflow.keras.layers import Dense, Embedding, RNN, LSTM, Flatten, SimpleRNN, GRU\n",
    "from tensorflow.keras import models\n",
    "embedding_dim = 200\n",
    "\n",
    "model = models.Sequential()\n",
    "model.add(Embedding(input_dim=max_words, output_dim=embedding_dim, input_length=max_len))\n",
    "model.add(GRU(64))\n",
    "model.add(Dense(32, 'relu'))\n",
    "model.add(Dense(len(data2_y_train[0]), 'softmax'))\n",
    "\n",
    "model.summary()\n",
    "model.compile('rmsprop', 'categorical_crossentropy', 'acc')\n",
    "model.fit(data2_X_train, data2_y_train, epochs=30, batch_size=32, verbose=1)\n"
   ]
  },
  {
   "cell_type": "code",
   "execution_count": 187,
   "metadata": {},
   "outputs": [
    {
     "name": "stdout",
     "output_type": "stream",
     "text": [
      "50/50 [==============================] - 1s 8ms/step - loss: 7.1964 - acc: 0.5443\n"
     ]
    },
    {
     "data": {
      "text/plain": [
       "[7.196388244628906, 0.5442560911178589]"
      ]
     },
     "execution_count": 187,
     "metadata": {},
     "output_type": "execute_result"
    }
   ],
   "source": [
    "model.evaluate(data2_X_test, data2_y_test)"
   ]
  },
  {
   "cell_type": "code",
   "execution_count": null,
   "metadata": {},
   "outputs": [],
   "source": []
  },
  {
   "cell_type": "code",
   "execution_count": null,
   "metadata": {},
   "outputs": [],
   "source": []
  },
  {
   "cell_type": "code",
   "execution_count": null,
   "metadata": {},
   "outputs": [],
   "source": []
  },
  {
   "cell_type": "code",
   "execution_count": 204,
   "metadata": {},
   "outputs": [
    {
     "name": "stdout",
     "output_type": "stream",
     "text": [
      "Model: \"sequential_28\"\n",
      "_________________________________________________________________\n",
      " Layer (type)                Output Shape              Param #   \n",
      "=================================================================\n",
      " embedding_26 (Embedding)    (None, None, 200)         2000000   \n",
      "                                                                 \n",
      " lstm_20 (LSTM)              (None, 64)                67840     \n",
      "                                                                 \n",
      " dense_49 (Dense)            (None, 32)                2080      \n",
      "                                                                 \n",
      " dense_50 (Dense)            (None, 16)                528       \n",
      "                                                                 \n",
      " dense_51 (Dense)            (None, 8)                 136       \n",
      "                                                                 \n",
      "=================================================================\n",
      "Total params: 2,070,584\n",
      "Trainable params: 2,070,584\n",
      "Non-trainable params: 0\n",
      "_________________________________________________________________\n",
      "Epoch 1/15\n",
      "148/148 [==============================] - 5s 25ms/step - loss: 1.7137 - acc: 0.3581\n",
      "Epoch 2/15\n",
      "148/148 [==============================] - 4s 25ms/step - loss: 1.2310 - acc: 0.5643\n",
      "Epoch 3/15\n",
      "148/148 [==============================] - 4s 25ms/step - loss: 0.9137 - acc: 0.6951\n",
      "Epoch 4/15\n",
      "148/148 [==============================] - 4s 25ms/step - loss: 0.6517 - acc: 0.7884\n",
      "Epoch 5/15\n",
      "148/148 [==============================] - 4s 25ms/step - loss: 0.4318 - acc: 0.8776\n",
      "Epoch 6/15\n",
      "148/148 [==============================] - 4s 25ms/step - loss: 0.2882 - acc: 0.9186\n",
      "Epoch 7/15\n",
      "148/148 [==============================] - 4s 25ms/step - loss: 0.1808 - acc: 0.9550\n",
      "Epoch 8/15\n",
      "148/148 [==============================] - 4s 25ms/step - loss: 0.1120 - acc: 0.9719\n",
      "Epoch 9/15\n",
      "148/148 [==============================] - 4s 25ms/step - loss: 0.0785 - acc: 0.9805\n",
      "Epoch 10/15\n",
      "148/148 [==============================] - 4s 25ms/step - loss: 0.0557 - acc: 0.9850\n",
      "Epoch 11/15\n",
      "148/148 [==============================] - 4s 25ms/step - loss: 0.0395 - acc: 0.9896\n",
      "Epoch 12/15\n",
      "148/148 [==============================] - 4s 25ms/step - loss: 0.0307 - acc: 0.9922\n",
      "Epoch 13/15\n",
      "148/148 [==============================] - 4s 25ms/step - loss: 0.0209 - acc: 0.9943\n",
      "Epoch 14/15\n",
      "148/148 [==============================] - 4s 25ms/step - loss: 0.0190 - acc: 0.9951\n",
      "Epoch 15/15\n",
      "148/148 [==============================] - 4s 25ms/step - loss: 0.0168 - acc: 0.9941\n",
      "50/50 [==============================] - 1s 8ms/step - loss: 3.6144 - acc: 0.5625\n"
     ]
    },
    {
     "data": {
      "text/plain": [
       "[3.614398717880249, 0.5624607801437378]"
      ]
     },
     "execution_count": 204,
     "metadata": {},
     "output_type": "execute_result"
    }
   ],
   "source": [
    "from tensorflow.keras.layers import Dense, Embedding, RNN, LSTM, Flatten, SimpleRNN\n",
    "from tensorflow.keras import models\n",
    "embedding_dim = 200\n",
    "\n",
    "model = models.Sequential()\n",
    "# model.add(Embedding(input_dim=max_words, output_dim=embedding_dim, input_length=max_len))\n",
    "# model.add(Embedding(input_dim=max_words, input_length=max_len,  output_dim=embedding_dim))\n",
    "model.add(Embedding(input_dim=max_words, output_dim=embedding_dim))\n",
    "model.add(LSTM(64))\n",
    "model.add(Dense(32, 'relu'))\n",
    "model.add(Dense(16, 'relu'))\n",
    "model.add(Dense(len(data2_y_train[0]), 'softmax'))\n",
    "\n",
    "model.summary()\n",
    "model.compile('rmsprop', 'categorical_crossentropy', 'acc')\n",
    "model.fit(data2_X_train, data2_y_train, epochs=15, batch_size=32, verbose=1)\n",
    "model.evaluate(data2_X_test, data2_y_test)"
   ]
  },
  {
   "cell_type": "code",
   "execution_count": null,
   "metadata": {},
   "outputs": [],
   "source": []
  },
  {
   "cell_type": "markdown",
   "metadata": {},
   "source": [
    "### 분류1"
   ]
  },
  {
   "attachments": {
    "image.png": {
     "image/png": "[encoded data removed]"
    }
   },
   "cell_type": "markdown",
   "metadata": {},
   "source": [
    "![image.png](attachment:image.png)"
   ]
  },
  {
   "attachments": {},
   "cell_type": "markdown",
   "metadata": {},
   "source": [
    "### 분류2"
   ]
  },
  {
   "attachments": {
    "image.png": {
     "image/png": "[encoded data removed]"
    }
   },
   "cell_type": "markdown",
   "metadata": {},
   "source": [
    "![image.png](attachment:image.png)"
   ]
  },
  {
   "cell_type": "markdown",
   "metadata": {},
   "source": []
  },
  {
   "cell_type": "code",
   "execution_count": null,
   "metadata": {},
   "outputs": [],
   "source": []
  },
  {
   "cell_type": "code",
   "execution_count": 214,
   "metadata": {},
   "outputs": [
    {
     "name": "stdout",
     "output_type": "stream",
     "text": [
      "Model: \"sequential_30\"\n",
      "_________________________________________________________________\n",
      " Layer (type)                Output Shape              Param #   \n",
      "=================================================================\n",
      " embedding_28 (Embedding)    (None, 30, 200)           2000000   \n",
      "                                                                 \n",
      " lstm_22 (LSTM)              (None, 64)                67840     \n",
      "                                                                 \n",
      " dense_54 (Dense)            (None, 32)                2080      \n",
      "                                                                 \n",
      " dense_55 (Dense)            (None, 9)                 297       \n",
      "                                                                 \n",
      "=================================================================\n",
      "Total params: 2,070,217\n",
      "Trainable params: 2,070,217\n",
      "Non-trainable params: 0\n",
      "_________________________________________________________________\n",
      "Epoch 1/30\n",
      "213/213 [==============================] - 12s 52ms/step - loss: 1.3927 - acc: 0.5107 - val_loss: 1.0969 - val_acc: 0.6243\n",
      "Epoch 2/30\n",
      "213/213 [==============================] - 11s 50ms/step - loss: 0.8284 - acc: 0.7051 - val_loss: 0.9614 - val_acc: 0.6804\n",
      "Epoch 3/30\n",
      "213/213 [==============================] - 11s 50ms/step - loss: 0.4410 - acc: 0.8666 - val_loss: 1.0123 - val_acc: 0.7148\n",
      "Epoch 4/30\n",
      "213/213 [==============================] - 11s 50ms/step - loss: 0.2003 - acc: 0.9435 - val_loss: 1.1297 - val_acc: 0.7086\n",
      "Epoch 5/30\n",
      "213/213 [==============================] - 11s 50ms/step - loss: 0.0931 - acc: 0.9764 - val_loss: 1.3109 - val_acc: 0.7166\n",
      "Epoch 6/30\n",
      "213/213 [==============================] - 11s 50ms/step - loss: 0.0411 - acc: 0.9904 - val_loss: 1.3843 - val_acc: 0.7126\n",
      "Epoch 7/30\n",
      "213/213 [==============================] - 11s 50ms/step - loss: 0.0239 - acc: 0.9946 - val_loss: 1.4799 - val_acc: 0.7196\n",
      "Epoch 8/30\n",
      "213/213 [==============================] - 11s 50ms/step - loss: 0.0116 - acc: 0.9978 - val_loss: 1.6779 - val_acc: 0.7192\n",
      "Epoch 9/30\n",
      "213/213 [==============================] - 11s 50ms/step - loss: 0.0062 - acc: 0.9985 - val_loss: 1.8038 - val_acc: 0.7298\n",
      "Epoch 10/30\n",
      "213/213 [==============================] - 11s 50ms/step - loss: 0.0102 - acc: 0.9975 - val_loss: 1.6991 - val_acc: 0.7316\n",
      "Epoch 11/30\n",
      "213/213 [==============================] - 11s 50ms/step - loss: 0.0188 - acc: 0.9944 - val_loss: 1.5640 - val_acc: 0.7192\n",
      "Epoch 12/30\n",
      "213/213 [==============================] - 11s 50ms/step - loss: 0.0281 - acc: 0.9922 - val_loss: 1.5554 - val_acc: 0.7223\n",
      "Epoch 13/30\n",
      "213/213 [==============================] - 11s 50ms/step - loss: 0.0260 - acc: 0.9925 - val_loss: 1.6287 - val_acc: 0.7091\n",
      "Epoch 14/30\n",
      "213/213 [==============================] - 11s 50ms/step - loss: 0.0201 - acc: 0.9944 - val_loss: 1.6419 - val_acc: 0.7241\n",
      "Epoch 15/30\n",
      "213/213 [==============================] - 11s 50ms/step - loss: 0.0077 - acc: 0.9975 - val_loss: 1.6637 - val_acc: 0.7254\n",
      "Epoch 16/30\n",
      "213/213 [==============================] - 11s 50ms/step - loss: 0.0026 - acc: 0.9997 - val_loss: 1.8484 - val_acc: 0.7223\n",
      "Epoch 17/30\n",
      "213/213 [==============================] - 11s 50ms/step - loss: 0.0015 - acc: 0.9996 - val_loss: 1.9057 - val_acc: 0.7276\n",
      "Epoch 18/30\n",
      "213/213 [==============================] - 11s 50ms/step - loss: 9.8681e-04 - acc: 0.9997 - val_loss: 1.9575 - val_acc: 0.7254\n",
      "Epoch 19/30\n",
      "213/213 [==============================] - 11s 50ms/step - loss: 9.7677e-04 - acc: 0.9997 - val_loss: 2.0290 - val_acc: 0.7263\n",
      "Epoch 20/30\n",
      "213/213 [==============================] - 11s 50ms/step - loss: 8.0926e-04 - acc: 0.9997 - val_loss: 2.0796 - val_acc: 0.7267\n",
      "Epoch 21/30\n",
      "213/213 [==============================] - 11s 50ms/step - loss: 6.0033e-04 - acc: 0.9997 - val_loss: 2.1279 - val_acc: 0.7267\n",
      "Epoch 22/30\n",
      "213/213 [==============================] - 11s 49ms/step - loss: 3.6288e-04 - acc: 1.0000 - val_loss: 2.1539 - val_acc: 0.7276\n",
      "Epoch 23/30\n",
      "213/213 [==============================] - 11s 50ms/step - loss: 3.8725e-04 - acc: 0.9999 - val_loss: 2.1928 - val_acc: 0.7254\n",
      "Epoch 24/30\n",
      "213/213 [==============================] - 11s 50ms/step - loss: 2.8906e-04 - acc: 0.9999 - val_loss: 2.2315 - val_acc: 0.7263\n",
      "Epoch 25/30\n",
      "213/213 [==============================] - 11s 49ms/step - loss: 2.4514e-04 - acc: 0.9999 - val_loss: 2.2659 - val_acc: 0.7276\n",
      "Epoch 26/30\n",
      "213/213 [==============================] - 11s 49ms/step - loss: 2.0856e-04 - acc: 0.9999 - val_loss: 2.2961 - val_acc: 0.7276\n",
      "Epoch 27/30\n",
      "213/213 [==============================] - 11s 50ms/step - loss: 1.7224e-04 - acc: 1.0000 - val_loss: 2.3238 - val_acc: 0.7267\n",
      "Epoch 28/30\n",
      "213/213 [==============================] - 11s 50ms/step - loss: 1.3812e-04 - acc: 1.0000 - val_loss: 2.3511 - val_acc: 0.7267\n",
      "Epoch 29/30\n",
      "213/213 [==============================] - 11s 50ms/step - loss: 1.0779e-04 - acc: 1.0000 - val_loss: 2.3761 - val_acc: 0.7272\n",
      "Epoch 30/30\n",
      "213/213 [==============================] - 11s 50ms/step - loss: 8.1952e-05 - acc: 1.0000 - val_loss: 2.4007 - val_acc: 0.7272\n",
      "71/71 [==============================] - 1s 8ms/step - loss: 2.4007 - acc: 0.7272\n"
     ]
    },
    {
     "data": {
      "text/plain": [
       "[2.400740623474121, 0.7271523475646973]"
      ]
     },
     "execution_count": 214,
     "metadata": {},
     "output_type": "execute_result"
    }
   ],
   "source": [
    "from tensorflow.keras.layers import Dense, Embedding, RNN, LSTM, Flatten, SimpleRNN\n",
    "from tensorflow.keras import models\n",
    "embedding_dim = 200\n",
    "\n",
    "model = models.Sequential()\n",
    "model.add(Embedding(input_dim=max_words, output_dim = embedding_dim, input_length=max_len))\n",
    "model.add(LSTM(64))\n",
    "model.add(Dense(32, 'relu'))\n",
    "model.add(Dense(len(data1_y_train[0]), 'softmax'))\n",
    "\n",
    "model.summary()\n",
    "model.compile('adam', 'categorical_crossentropy', 'acc')\n",
    "\n",
    "model.fit(data1_X_train, data1_y_train, epochs=30, batch_size=32, verbose=1, validation_data=(data1_X_test, data1_y_test))\n",
    "model.evaluate(data1_X_test, data1_y_test)"
   ]
  },
  {
   "cell_type": "code",
   "execution_count": 215,
   "metadata": {},
   "outputs": [
    {
     "name": "stdout",
     "output_type": "stream",
     "text": [
      "71/71 [==============================] - 1s 8ms/step - loss: 2.4007 - acc: 0.7272\n"
     ]
    },
    {
     "data": {
      "text/plain": [
       "[2.400740623474121, 0.7271523475646973]"
      ]
     },
     "execution_count": 215,
     "metadata": {},
     "output_type": "execute_result"
    }
   ],
   "source": [
    "model.evaluate(data1_X_test, data1_y_test)"
   ]
  },
  {
   "cell_type": "code",
   "execution_count": null,
   "metadata": {},
   "outputs": [],
   "source": []
  },
  {
   "cell_type": "code",
   "execution_count": null,
   "metadata": {},
   "outputs": [],
   "source": []
  },
  {
   "cell_type": "code",
   "execution_count": null,
   "metadata": {},
   "outputs": [],
   "source": []
  },
  {
   "cell_type": "code",
   "execution_count": null,
   "metadata": {},
   "outputs": [],
   "source": [
    "# 워드임베딩_순환신경망\n",
    "# 워드임베딩_순환신경망_l2규제설정\n",
    "# 워드임베딩_순환신경망_dropout0.5\n",
    "# 워드임베딩_dropout0.5\n",
    "# 워드임베딩_양방향순환신경망"
   ]
  },
  {
   "cell_type": "code",
   "execution_count": 229,
   "metadata": {},
   "outputs": [
    {
     "name": "stdout",
     "output_type": "stream",
     "text": [
      "Model: \"sequential_42\"\n",
      "_________________________________________________________________\n",
      " Layer (type)                Output Shape              Param #   \n",
      "=================================================================\n",
      " embedding_40 (Embedding)    (None, 30, 200)           2000000   \n",
      "                                                                 \n",
      " lstm_29 (LSTM)              (None, 64)                67840     \n",
      "                                                                 \n",
      " dense_86 (Dense)            (None, 32)                2080      \n",
      "                                                                 \n",
      " dense_87 (Dense)            (None, 16)                528       \n",
      "                                                                 \n",
      " dense_88 (Dense)            (None, 9)                 153       \n",
      "                                                                 \n",
      "=================================================================\n",
      "Total params: 2,070,601\n",
      "Trainable params: 2,070,601\n",
      "Non-trainable params: 0\n",
      "_________________________________________________________________\n",
      "Epoch 1/15\n",
      "213/213 [==============================] - 8s 31ms/step - loss: 1.4941 - acc: 0.4583 - val_loss: 1.5629 - val_acc: 0.5201\n",
      "Epoch 2/15\n",
      "213/213 [==============================] - 6s 28ms/step - loss: 1.0012 - acc: 0.6555 - val_loss: 1.0968 - val_acc: 0.6075\n",
      "Epoch 3/15\n",
      "213/213 [==============================] - 6s 28ms/step - loss: 0.6935 - acc: 0.7705 - val_loss: 1.2501 - val_acc: 0.6252\n",
      "Epoch 4/15\n",
      "213/213 [==============================] - 6s 28ms/step - loss: 0.4672 - acc: 0.8592 - val_loss: 1.0251 - val_acc: 0.6949\n",
      "Epoch 5/15\n",
      "213/213 [==============================] - 6s 28ms/step - loss: 0.3038 - acc: 0.9081 - val_loss: 0.9366 - val_acc: 0.7373\n",
      "Epoch 6/15\n",
      "213/213 [==============================] - 6s 28ms/step - loss: 0.2067 - acc: 0.9411 - val_loss: 1.1725 - val_acc: 0.7338\n",
      "Epoch 7/15\n",
      "213/213 [==============================] - 6s 28ms/step - loss: 0.1441 - acc: 0.9613 - val_loss: 1.1528 - val_acc: 0.7311\n",
      "Epoch 8/15\n",
      "213/213 [==============================] - 6s 28ms/step - loss: 0.0938 - acc: 0.9739 - val_loss: 1.4407 - val_acc: 0.7227\n",
      "Epoch 9/15\n",
      "213/213 [==============================] - 6s 28ms/step - loss: 0.0644 - acc: 0.9814 - val_loss: 1.6746 - val_acc: 0.7126\n",
      "Epoch 10/15\n",
      "213/213 [==============================] - 6s 28ms/step - loss: 0.0438 - acc: 0.9856 - val_loss: 1.4543 - val_acc: 0.7170\n",
      "Epoch 11/15\n",
      "213/213 [==============================] - 6s 28ms/step - loss: 0.0342 - acc: 0.9893 - val_loss: 1.4880 - val_acc: 0.7033\n",
      "Epoch 12/15\n",
      "213/213 [==============================] - 6s 28ms/step - loss: 0.0274 - acc: 0.9916 - val_loss: 1.9138 - val_acc: 0.7179\n",
      "Epoch 13/15\n",
      "213/213 [==============================] - 6s 28ms/step - loss: 0.0185 - acc: 0.9940 - val_loss: 2.2904 - val_acc: 0.7068\n",
      "Epoch 14/15\n",
      "213/213 [==============================] - 6s 27ms/step - loss: 0.0131 - acc: 0.9953 - val_loss: 2.2500 - val_acc: 0.7011\n",
      "Epoch 15/15\n",
      "213/213 [==============================] - 6s 28ms/step - loss: 0.0143 - acc: 0.9969 - val_loss: 2.4818 - val_acc: 0.7152\n",
      "71/71 [==============================] - 1s 8ms/step - loss: 2.4818 - acc: 0.7152\n"
     ]
    },
    {
     "data": {
      "text/plain": [
       "[2.4818332195281982, 0.7152317762374878]"
      ]
     },
     "execution_count": 229,
     "metadata": {},
     "output_type": "execute_result"
    }
   ],
   "source": [
    "# 워드임베딩_순환신경망\n",
    "from tensorflow.keras.layers import Dense, Embedding, RNN, LSTM, Flatten, SimpleRNN, GRU\n",
    "from tensorflow.keras import models, regularizers\n",
    "embedding_dim = 200\n",
    "model_워드임베딩_순환신경망 = models.Sequential()\n",
    "model_워드임베딩_순환신경망.add(Embedding(input_dim=max_words, output_dim=embedding_dim, input_length=max_len))\n",
    "model_워드임베딩_순환신경망.add(LSTM(64))\n",
    "model_워드임베딩_순환신경망.add(Dense(32, 'relu'))\n",
    "model_워드임베딩_순환신경망.add(Dense(16, 'relu'))\n",
    "model_워드임베딩_순환신경망.add(Dense(len(data1_y_train[0]), 'softmax'))\n",
    "model_워드임베딩_순환신경망.summary()\n",
    "model_워드임베딩_순환신경망.compile('rmsprop', 'categorical_crossentropy', 'acc')\n",
    "history_워드임베딩_순환신경망 = model_워드임베딩_순환신경망.fit(data1_X_train, data1_y_train, epochs=15, batch_size=32, verbose=1, validation_data=(data1_X_test, data1_y_test))\n",
    "model_워드임베딩_순환신경망.evaluate(data1_X_test, data1_y_test)"
   ]
  },
  {
   "cell_type": "code",
   "execution_count": 230,
   "metadata": {},
   "outputs": [
    {
     "name": "stdout",
     "output_type": "stream",
     "text": [
      "Model: \"sequential_43\"\n",
      "_________________________________________________________________\n",
      " Layer (type)                Output Shape              Param #   \n",
      "=================================================================\n",
      " embedding_41 (Embedding)    (None, 30, 200)           2000000   \n",
      "                                                                 \n",
      " lstm_30 (LSTM)              (None, 64)                67840     \n",
      "                                                                 \n",
      " dense_89 (Dense)            (None, 32)                2080      \n",
      "                                                                 \n",
      " dense_90 (Dense)            (None, 16)                528       \n",
      "                                                                 \n",
      " dense_91 (Dense)            (None, 9)                 153       \n",
      "                                                                 \n",
      "=================================================================\n",
      "Total params: 2,070,601\n",
      "Trainable params: 2,070,601\n",
      "Non-trainable params: 0\n",
      "_________________________________________________________________\n",
      "Epoch 1/15\n",
      "213/213 [==============================] - 9s 32ms/step - loss: 1.3908 - acc: 0.5309 - val_loss: 1.0977 - val_acc: 0.6287\n",
      "Epoch 2/15\n",
      "213/213 [==============================] - 6s 28ms/step - loss: 0.8668 - acc: 0.7067 - val_loss: 0.9438 - val_acc: 0.6795\n",
      "Epoch 3/15\n",
      "213/213 [==============================] - 6s 28ms/step - loss: 0.6358 - acc: 0.7896 - val_loss: 0.9388 - val_acc: 0.6998\n",
      "Epoch 4/15\n",
      "213/213 [==============================] - 6s 28ms/step - loss: 0.4640 - acc: 0.8673 - val_loss: 0.9694 - val_acc: 0.7170\n",
      "Epoch 5/15\n",
      "213/213 [==============================] - 6s 28ms/step - loss: 0.3359 - acc: 0.9092 - val_loss: 1.1112 - val_acc: 0.7011\n",
      "Epoch 6/15\n",
      "213/213 [==============================] - 6s 28ms/step - loss: 0.2493 - acc: 0.9382 - val_loss: 1.1643 - val_acc: 0.7166\n",
      "Epoch 7/15\n",
      "213/213 [==============================] - 6s 28ms/step - loss: 0.1794 - acc: 0.9601 - val_loss: 1.2525 - val_acc: 0.7236\n",
      "Epoch 8/15\n",
      "213/213 [==============================] - 6s 28ms/step - loss: 0.1410 - acc: 0.9728 - val_loss: 1.5300 - val_acc: 0.7130\n",
      "Epoch 9/15\n",
      "213/213 [==============================] - 6s 28ms/step - loss: 0.1107 - acc: 0.9785 - val_loss: 1.5807 - val_acc: 0.7113\n",
      "Epoch 10/15\n",
      "213/213 [==============================] - 6s 28ms/step - loss: 0.0840 - acc: 0.9847 - val_loss: 1.6789 - val_acc: 0.7121\n",
      "Epoch 11/15\n",
      "213/213 [==============================] - 6s 28ms/step - loss: 0.0732 - acc: 0.9870 - val_loss: 1.5934 - val_acc: 0.6940\n",
      "Epoch 12/15\n",
      "213/213 [==============================] - 6s 28ms/step - loss: 0.0650 - acc: 0.9891 - val_loss: 1.6432 - val_acc: 0.7157\n",
      "Epoch 13/15\n",
      "213/213 [==============================] - 6s 28ms/step - loss: 0.0553 - acc: 0.9909 - val_loss: 1.6019 - val_acc: 0.7091\n",
      "Epoch 14/15\n",
      "213/213 [==============================] - 6s 30ms/step - loss: 0.0487 - acc: 0.9913 - val_loss: 1.6964 - val_acc: 0.7020\n",
      "Epoch 15/15\n",
      "213/213 [==============================] - 6s 28ms/step - loss: 0.0439 - acc: 0.9925 - val_loss: 1.7315 - val_acc: 0.7183\n",
      "71/71 [==============================] - 1s 8ms/step - loss: 1.7315 - acc: 0.7183\n"
     ]
    },
    {
     "data": {
      "text/plain": [
       "[1.7314863204956055, 0.7183222770690918]"
      ]
     },
     "execution_count": 230,
     "metadata": {},
     "output_type": "execute_result"
    }
   ],
   "source": [
    "# 워드임베딩_순환신경망_l2규제설정\n",
    "from tensorflow.keras.layers import Dense, Embedding, RNN, LSTM, Flatten, SimpleRNN, GRU\n",
    "from tensorflow.keras import models, regularizers\n",
    "embedding_dim = 200\n",
    "model_워드임베딩_순환신경망_l2규제설정 = models.Sequential()\n",
    "model_워드임베딩_순환신경망_l2규제설정.add(Embedding(input_dim=max_words, output_dim=embedding_dim, input_length=max_len))\n",
    "model_워드임베딩_순환신경망_l2규제설정.add(LSTM(64))\n",
    "model_워드임베딩_순환신경망_l2규제설정.add(Dense(32, kernel_regularizer=regularizers.l2(0.001), activation='relu', input_shape=(max_words,)))\n",
    "model_워드임베딩_순환신경망_l2규제설정.add(Dense(16, kernel_regularizer=regularizers.l2(0.001), activation='relu'))\n",
    "model_워드임베딩_순환신경망_l2규제설정.add(Dense(len(data1_y_train[0]), 'softmax'))\n",
    "model_워드임베딩_순환신경망_l2규제설정.summary()\n",
    "model_워드임베딩_순환신경망_l2규제설정.compile('rmsprop', 'categorical_crossentropy', 'acc')\n",
    "history_워드임베딩_순환신경망_l2규제설정 = model_워드임베딩_순환신경망_l2규제설정.fit(data1_X_train, data1_y_train, epochs=15, batch_size=32, verbose=1, validation_data=(data1_X_test, data1_y_test))\n",
    "model_워드임베딩_순환신경망_l2규제설정.evaluate(data1_X_test, data1_y_test)"
   ]
  },
  {
   "cell_type": "code",
   "execution_count": 231,
   "metadata": {},
   "outputs": [
    {
     "name": "stdout",
     "output_type": "stream",
     "text": [
      "Model: \"sequential_44\"\n",
      "_________________________________________________________________\n",
      " Layer (type)                Output Shape              Param #   \n",
      "=================================================================\n",
      " embedding_42 (Embedding)    (None, 30, 200)           2000000   \n",
      "                                                                 \n",
      " lstm_31 (LSTM)              (None, 64)                67840     \n",
      "                                                                 \n",
      " dense_92 (Dense)            (None, 32)                2080      \n",
      "                                                                 \n",
      " dropout_12 (Dropout)        (None, 32)                0         \n",
      "                                                                 \n",
      " dense_93 (Dense)            (None, 16)                528       \n",
      "                                                                 \n",
      " dropout_13 (Dropout)        (None, 16)                0         \n",
      "                                                                 \n",
      " dense_94 (Dense)            (None, 9)                 153       \n",
      "                                                                 \n",
      "=================================================================\n",
      "Total params: 2,070,601\n",
      "Trainable params: 2,070,601\n",
      "Non-trainable params: 0\n",
      "_________________________________________________________________\n",
      "Epoch 1/15\n",
      "213/213 [==============================] - 8s 30ms/step - loss: 1.8000 - acc: 0.3606 - val_loss: 1.2510 - val_acc: 0.5373\n",
      "Epoch 2/15\n",
      "213/213 [==============================] - 6s 28ms/step - loss: 1.3053 - acc: 0.5414 - val_loss: 1.1678 - val_acc: 0.5656\n",
      "Epoch 3/15\n",
      "213/213 [==============================] - 6s 28ms/step - loss: 1.1189 - acc: 0.6023 - val_loss: 1.1067 - val_acc: 0.6358\n",
      "Epoch 4/15\n",
      "213/213 [==============================] - 6s 28ms/step - loss: 1.0178 - acc: 0.6357 - val_loss: 1.2750 - val_acc: 0.6402\n",
      "Epoch 5/15\n",
      "213/213 [==============================] - 6s 28ms/step - loss: 0.8981 - acc: 0.6633 - val_loss: 1.0595 - val_acc: 0.6609\n",
      "Epoch 6/15\n",
      "213/213 [==============================] - 6s 28ms/step - loss: 0.7877 - acc: 0.7073 - val_loss: 1.1150 - val_acc: 0.6711\n",
      "Epoch 7/15\n",
      "213/213 [==============================] - 6s 29ms/step - loss: 0.6944 - acc: 0.7350 - val_loss: 1.1900 - val_acc: 0.6627\n",
      "Epoch 8/15\n",
      "213/213 [==============================] - 6s 29ms/step - loss: 0.6353 - acc: 0.7686 - val_loss: 1.5970 - val_acc: 0.6883\n",
      "Epoch 9/15\n",
      "213/213 [==============================] - 6s 28ms/step - loss: 0.5537 - acc: 0.8051 - val_loss: 1.2651 - val_acc: 0.6874\n",
      "Epoch 10/15\n",
      "213/213 [==============================] - 6s 28ms/step - loss: 0.5150 - acc: 0.8118 - val_loss: 1.4604 - val_acc: 0.6865\n",
      "Epoch 11/15\n",
      "213/213 [==============================] - 6s 29ms/step - loss: 0.4563 - acc: 0.8324 - val_loss: 1.8005 - val_acc: 0.6932\n",
      "Epoch 12/15\n",
      "213/213 [==============================] - 6s 28ms/step - loss: 0.4329 - acc: 0.8567 - val_loss: 1.6619 - val_acc: 0.6909\n",
      "Epoch 13/15\n",
      "213/213 [==============================] - 6s 28ms/step - loss: 0.3877 - acc: 0.8809 - val_loss: 2.3427 - val_acc: 0.6976\n",
      "Epoch 14/15\n",
      "213/213 [==============================] - 6s 28ms/step - loss: 0.3551 - acc: 0.8994 - val_loss: 2.3232 - val_acc: 0.6989\n",
      "Epoch 15/15\n",
      "213/213 [==============================] - 6s 28ms/step - loss: 0.3199 - acc: 0.9117 - val_loss: 2.8945 - val_acc: 0.7038\n",
      "71/71 [==============================] - 1s 8ms/step - loss: 2.8945 - acc: 0.7038\n"
     ]
    },
    {
     "data": {
      "text/plain": [
       "[2.894545793533325, 0.7037527561187744]"
      ]
     },
     "execution_count": 231,
     "metadata": {},
     "output_type": "execute_result"
    }
   ],
   "source": [
    "# 워드임베딩_순환신경망_dropout0.5\n",
    "from tensorflow.keras.layers import Dense, Embedding, RNN, LSTM, Flatten, SimpleRNN, GRU, Dropout\n",
    "from tensorflow.keras import models, regularizers\n",
    "embedding_dim = 200\n",
    "model_워드임베딩_순환신경망_dropout = models.Sequential()\n",
    "model_워드임베딩_순환신경망_dropout.add(Embedding(input_dim=max_words, output_dim=embedding_dim, input_length=max_len))\n",
    "model_워드임베딩_순환신경망_dropout.add(LSTM(64))\n",
    "model_워드임베딩_순환신경망_dropout.add(Dense(32, activation='relu', input_shape=(max_words,)))\n",
    "model_워드임베딩_순환신경망_dropout.add(Dropout(0.5))\n",
    "model_워드임베딩_순환신경망_dropout.add(Dense(16, activation='relu'))\n",
    "model_워드임베딩_순환신경망_dropout.add(Dropout(0.5))\n",
    "model_워드임베딩_순환신경망_dropout.add(Dense(len(data1_y_train[0]), 'softmax'))\n",
    "model_워드임베딩_순환신경망_dropout.summary()\n",
    "model_워드임베딩_순환신경망_dropout.compile('rmsprop', 'categorical_crossentropy', 'acc')\n",
    "history_워드임베딩_순환신경망_dropout = model_워드임베딩_순환신경망_dropout.fit(data1_X_train, data1_y_train, epochs=15, batch_size=32, verbose=1, validation_data=(data1_X_test, data1_y_test))\n",
    "model_워드임베딩_순환신경망_dropout.evaluate(data1_X_test, data1_y_test)"
   ]
  },
  {
   "cell_type": "code",
   "execution_count": 232,
   "metadata": {},
   "outputs": [
    {
     "name": "stdout",
     "output_type": "stream",
     "text": [
      "Model: \"sequential_45\"\n",
      "_________________________________________________________________\n",
      " Layer (type)                Output Shape              Param #   \n",
      "=================================================================\n",
      " embedding_43 (Embedding)    (None, 30, 200)           2000000   \n",
      "                                                                 \n",
      " flatten_1 (Flatten)         (None, 6000)              0         \n",
      "                                                                 \n",
      " dense_95 (Dense)            (None, 32)                192032    \n",
      "                                                                 \n",
      " dropout_14 (Dropout)        (None, 32)                0         \n",
      "                                                                 \n",
      " dense_96 (Dense)            (None, 16)                528       \n",
      "                                                                 \n",
      " dropout_15 (Dropout)        (None, 16)                0         \n",
      "                                                                 \n",
      " dense_97 (Dense)            (None, 9)                 153       \n",
      "                                                                 \n",
      "=================================================================\n",
      "Total params: 2,192,713\n",
      "Trainable params: 2,192,713\n",
      "Non-trainable params: 0\n",
      "_________________________________________________________________\n",
      "Epoch 1/15\n",
      "213/213 [==============================] - 5s 19ms/step - loss: 1.8727 - acc: 0.3317 - val_loss: 1.5062 - val_acc: 0.5280\n",
      "Epoch 2/15\n",
      "213/213 [==============================] - 4s 18ms/step - loss: 1.4009 - acc: 0.5102 - val_loss: 1.2168 - val_acc: 0.5545\n",
      "Epoch 3/15\n",
      "213/213 [==============================] - 4s 18ms/step - loss: 1.1249 - acc: 0.5882 - val_loss: 1.1058 - val_acc: 0.6018\n",
      "Epoch 4/15\n",
      "213/213 [==============================] - 4s 18ms/step - loss: 0.9338 - acc: 0.6593 - val_loss: 1.0607 - val_acc: 0.6371\n",
      "Epoch 5/15\n",
      "213/213 [==============================] - 4s 18ms/step - loss: 0.7598 - acc: 0.7188 - val_loss: 1.1273 - val_acc: 0.6627\n",
      "Epoch 6/15\n",
      "213/213 [==============================] - 4s 18ms/step - loss: 0.6052 - acc: 0.7771 - val_loss: 1.1795 - val_acc: 0.6804\n",
      "Epoch 7/15\n",
      "213/213 [==============================] - 4s 18ms/step - loss: 0.5089 - acc: 0.8154 - val_loss: 1.2440 - val_acc: 0.6923\n",
      "Epoch 8/15\n",
      "213/213 [==============================] - 4s 18ms/step - loss: 0.4114 - acc: 0.8507 - val_loss: 1.3400 - val_acc: 0.7011\n",
      "Epoch 9/15\n",
      "213/213 [==============================] - 4s 19ms/step - loss: 0.3597 - acc: 0.8637 - val_loss: 1.4459 - val_acc: 0.7077\n",
      "Epoch 10/15\n",
      "213/213 [==============================] - 4s 18ms/step - loss: 0.3220 - acc: 0.8830 - val_loss: 1.5433 - val_acc: 0.7020\n",
      "Epoch 11/15\n",
      "213/213 [==============================] - 4s 18ms/step - loss: 0.2977 - acc: 0.8906 - val_loss: 1.6643 - val_acc: 0.7152\n",
      "Epoch 12/15\n",
      "213/213 [==============================] - 4s 18ms/step - loss: 0.2803 - acc: 0.8903 - val_loss: 1.7080 - val_acc: 0.7046\n",
      "Epoch 13/15\n",
      "213/213 [==============================] - 4s 18ms/step - loss: 0.2787 - acc: 0.8946 - val_loss: 2.0480 - val_acc: 0.7117\n",
      "Epoch 14/15\n",
      "213/213 [==============================] - 4s 18ms/step - loss: 0.2519 - acc: 0.9022 - val_loss: 2.1442 - val_acc: 0.7108\n",
      "Epoch 15/15\n",
      "213/213 [==============================] - 4s 18ms/step - loss: 0.2437 - acc: 0.9074 - val_loss: 2.0913 - val_acc: 0.7179\n",
      "71/71 [==============================] - 0s 4ms/step - loss: 2.0913 - acc: 0.7179\n"
     ]
    },
    {
     "data": {
      "text/plain": [
       "[2.0913233757019043, 0.7178807854652405]"
      ]
     },
     "execution_count": 232,
     "metadata": {},
     "output_type": "execute_result"
    }
   ],
   "source": [
    "# 워드임베딩_dropout0.5\n",
    "from tensorflow.keras.layers import Dense, Embedding, RNN, LSTM, Flatten, SimpleRNN, GRU, Dropout\n",
    "from tensorflow.keras import models, regularizers\n",
    "embedding_dim = 200\n",
    "model_워드임베딩_dropout = models.Sequential()\n",
    "model_워드임베딩_dropout.add(Embedding(input_dim=max_words, output_dim=embedding_dim, input_length=max_len))\n",
    "model_워드임베딩_dropout.add(Flatten())\n",
    "model_워드임베딩_dropout.add(Dense(32, activation='relu', input_shape=(max_words,)))\n",
    "model_워드임베딩_dropout.add(Dropout(0.5))\n",
    "model_워드임베딩_dropout.add(Dense(16, activation='relu'))\n",
    "model_워드임베딩_dropout.add(Dropout(0.5))\n",
    "model_워드임베딩_dropout.add(Dense(len(data1_y_train[0]), 'softmax'))\n",
    "model_워드임베딩_dropout.summary()\n",
    "model_워드임베딩_dropout.compile('rmsprop', 'categorical_crossentropy', 'acc')\n",
    "history_워드임베딩_dropout = model_워드임베딩_dropout.fit(data1_X_train, data1_y_train, epochs=15, batch_size=32, verbose=1, validation_data=(data1_X_test, data1_y_test))\n",
    "model_워드임베딩_dropout.evaluate(data1_X_test, data1_y_test)"
   ]
  },
  {
   "cell_type": "code",
   "execution_count": 233,
   "metadata": {},
   "outputs": [
    {
     "name": "stdout",
     "output_type": "stream",
     "text": [
      "Model: \"sequential_46\"\n",
      "_________________________________________________________________\n",
      " Layer (type)                Output Shape              Param #   \n",
      "=================================================================\n",
      " embedding_44 (Embedding)    (None, 30, 200)           2000000   \n",
      "                                                                 \n",
      " bidirectional_1 (Bidirectio  (None, 128)              135680    \n",
      " nal)                                                            \n",
      "                                                                 \n",
      " dense_98 (Dense)            (None, 32)                4128      \n",
      "                                                                 \n",
      " dense_99 (Dense)            (None, 16)                528       \n",
      "                                                                 \n",
      " dense_100 (Dense)           (None, 9)                 153       \n",
      "                                                                 \n",
      "=================================================================\n",
      "Total params: 2,140,489\n",
      "Trainable params: 2,140,489\n",
      "Non-trainable params: 0\n",
      "_________________________________________________________________\n",
      "Epoch 1/15\n",
      "213/213 [==============================] - 12s 44ms/step - loss: 1.3817 - acc: 0.5071 - val_loss: 1.1496 - val_acc: 0.5881\n",
      "Epoch 2/15\n",
      "213/213 [==============================] - 9s 41ms/step - loss: 0.9063 - acc: 0.6742 - val_loss: 1.1368 - val_acc: 0.6336\n",
      "Epoch 3/15\n",
      "213/213 [==============================] - 9s 41ms/step - loss: 0.6114 - acc: 0.8020 - val_loss: 0.9682 - val_acc: 0.6954\n",
      "Epoch 4/15\n",
      "213/213 [==============================] - 9s 41ms/step - loss: 0.4189 - acc: 0.8694 - val_loss: 0.9481 - val_acc: 0.7188\n",
      "Epoch 5/15\n",
      "213/213 [==============================] - 9s 41ms/step - loss: 0.2881 - acc: 0.9130 - val_loss: 0.9599 - val_acc: 0.7302\n",
      "Epoch 6/15\n",
      "213/213 [==============================] - 9s 41ms/step - loss: 0.1911 - acc: 0.9485 - val_loss: 1.0292 - val_acc: 0.7254\n",
      "Epoch 7/15\n",
      "213/213 [==============================] - 9s 41ms/step - loss: 0.1308 - acc: 0.9645 - val_loss: 1.1525 - val_acc: 0.7298\n",
      "Epoch 8/15\n",
      "213/213 [==============================] - 9s 41ms/step - loss: 0.0930 - acc: 0.9763 - val_loss: 1.3699 - val_acc: 0.7232\n",
      "Epoch 9/15\n",
      "213/213 [==============================] - 9s 41ms/step - loss: 0.0686 - acc: 0.9812 - val_loss: 1.5954 - val_acc: 0.7135\n",
      "Epoch 10/15\n",
      "213/213 [==============================] - 9s 41ms/step - loss: 0.0498 - acc: 0.9869 - val_loss: 1.5776 - val_acc: 0.7038\n",
      "Epoch 11/15\n",
      "213/213 [==============================] - 9s 41ms/step - loss: 0.0389 - acc: 0.9876 - val_loss: 1.7467 - val_acc: 0.7042\n",
      "Epoch 12/15\n",
      "213/213 [==============================] - 9s 42ms/step - loss: 0.0311 - acc: 0.9907 - val_loss: 1.8247 - val_acc: 0.7148\n",
      "Epoch 13/15\n",
      "213/213 [==============================] - 9s 41ms/step - loss: 0.0232 - acc: 0.9929 - val_loss: 1.8756 - val_acc: 0.7161\n",
      "Epoch 14/15\n",
      "213/213 [==============================] - 9s 41ms/step - loss: 0.0190 - acc: 0.9944 - val_loss: 2.0805 - val_acc: 0.7143\n",
      "Epoch 15/15\n",
      "213/213 [==============================] - 9s 42ms/step - loss: 0.0176 - acc: 0.9950 - val_loss: 2.1086 - val_acc: 0.7121\n",
      "71/71 [==============================] - 1s 14ms/step - loss: 2.1086 - acc: 0.7121\n"
     ]
    },
    {
     "data": {
      "text/plain": [
       "[2.108600616455078, 0.7121412754058838]"
      ]
     },
     "execution_count": 233,
     "metadata": {},
     "output_type": "execute_result"
    }
   ],
   "source": [
    "# 워드임베딩_양방향순환신경망\n",
    "from tensorflow.keras.layers import Dense, Embedding, RNN, LSTM, Flatten, SimpleRNN, GRU, Dropout, Bidirectional\n",
    "from tensorflow.keras import models, regularizers\n",
    "embedding_dim = 200\n",
    "model_워드임베딩_양방향순환신경망 = models.Sequential()\n",
    "model_워드임베딩_양방향순환신경망.add(Embedding(input_dim=max_words, output_dim=embedding_dim, input_length=max_len))\n",
    "model_워드임베딩_양방향순환신경망.add(Bidirectional(LSTM(64)))\n",
    "model_워드임베딩_양방향순환신경망.add(Dense(32, activation='relu', input_shape=(max_words,)))\n",
    "model_워드임베딩_양방향순환신경망.add(Dense(16, activation='relu'))\n",
    "model_워드임베딩_양방향순환신경망.add(Dense(len(data1_y_train[0]), 'softmax'))\n",
    "model_워드임베딩_양방향순환신경망.summary()\n",
    "model_워드임베딩_양방향순환신경망.compile('rmsprop', 'categorical_crossentropy', 'acc')\n",
    "history_워드임베딩_양방향순환신경망 = model_워드임베딩_양방향순환신경망.fit(data1_X_train, data1_y_train, epochs=15, batch_size=32, verbose=1, validation_data=(data1_X_test, data1_y_test))\n",
    "model_워드임베딩_양방향순환신경망.evaluate(data1_X_test, data1_y_test)"
   ]
  },
  {
   "cell_type": "code",
   "execution_count": null,
   "metadata": {},
   "outputs": [],
   "source": [
    "# history_워드임베딩_순환신경망\n",
    "# history_워드임베딩_순환신경망_l2규제설정\n",
    "# history_워드임베딩_순환신경망_dropout\n",
    "# history_워드임베딩_dropout\n",
    "# history_워드임베딩_양방향순환신경망"
   ]
  },
  {
   "cell_type": "code",
   "execution_count": 247,
   "metadata": {},
   "outputs": [
    {
     "data": {
      "text/plain": [
       "dict_keys(['loss', 'acc', 'val_loss', 'val_acc'])"
      ]
     },
     "execution_count": 247,
     "metadata": {},
     "output_type": "execute_result"
    }
   ],
   "source": [
    "history_워드임베딩_양방향순환신경망.history.keys()\n"
   ]
  },
  {
   "cell_type": "code",
   "execution_count": 253,
   "metadata": {},
   "outputs": [
    {
     "data": {
      "image/png": "[encoded data removed]",
      "text/plain": [
       "<Figure size 800x600 with 1 Axes>"
      ]
     },
     "metadata": {},
     "output_type": "display_data"
    }
   ],
   "source": [
    "import matplotlib.pyplot as plt\n",
    "plt.figure(figsize=(8,6))\n",
    "x=list(range(1,16))\n",
    "plt.plot(x, history_워드임베딩_순환신경망.history['val_loss'],'b-',label='embedding+lstm')\n",
    "plt.plot(x, history_워드임베딩_순환신경망_l2규제설정.history['val_loss'],'r-',label='embedding+lstm+l2')\n",
    "plt.plot(x, history_워드임베딩_순환신경망_dropout.history['val_loss'],'g-',label='embedding+lstm+dropout')\n",
    "plt.plot(x, history_워드임베딩_dropout.history['val_loss'],'b--',label='embedding+dropout')\n",
    "plt.plot(x, history_워드임베딩_양방향순환신경망.history['val_loss'],'g--',label='embedding+bidirectional')\n",
    "plt.title('val_loss')\n",
    "plt.legend()\n",
    "plt.show()"
   ]
  },
  {
   "cell_type": "code",
   "execution_count": 255,
   "metadata": {},
   "outputs": [
    {
     "data": {
      "image/png": "[encoded data removed]",
      "text/plain": [
       "<Figure size 800x600 with 1 Axes>"
      ]
     },
     "metadata": {},
     "output_type": "display_data"
    }
   ],
   "source": [
    "import matplotlib.pyplot as plt\n",
    "plt.figure(figsize=(8,6))\n",
    "x=list(range(1,16))\n",
    "plt.plot(x, history_워드임베딩_순환신경망.history['val_acc'],'b-',label='embedding+lstm')\n",
    "plt.plot(x, history_워드임베딩_순환신경망_l2규제설정.history['val_acc'],'r-',label='embedding+lstm+l2')\n",
    "plt.plot(x, history_워드임베딩_순환신경망_dropout.history['val_acc'],'g-',label='embedding+lstm+dropout')\n",
    "plt.plot(x, history_워드임베딩_dropout.history['val_acc'],'b--',label='embedding+dropout')\n",
    "plt.plot(x, history_워드임베딩_양방향순환신경망.history['val_acc'],'g--',label='embedding+bidirectional')\n",
    "plt.title('val_acc')\n",
    "plt.ylim(0.5,0.75)\n",
    "plt.legend()\n",
    "plt.show()"
   ]
  },
  {
   "cell_type": "code",
   "execution_count": 257,
   "metadata": {},
   "outputs": [
    {
     "name": "stdout",
     "output_type": "stream",
     "text": [
      "71/71 [==============================] - 1s 8ms/step - loss: 2.4818 - acc: 0.7152\n",
      "model_워드임베딩_순환신경망 [2.4818332195281982, 0.7152317762374878]\n",
      "\n",
      "71/71 [==============================] - 1s 8ms/step - loss: 1.7315 - acc: 0.7183\n",
      "model_워드임베딩_순환신경망_l2규제설정 [1.7314863204956055, 0.7183222770690918]\n",
      "\n",
      "71/71 [==============================] - 1s 8ms/step - loss: 2.8945 - acc: 0.7038\n",
      "model_워드임베딩_순환신경망_dropout [2.894545793533325, 0.7037527561187744]\n",
      "\n",
      "71/71 [==============================] - 0s 4ms/step - loss: 2.0913 - acc: 0.7179\n",
      "model_워드임베딩_dropout [2.0913233757019043, 0.7178807854652405]\n",
      "\n",
      "71/71 [==============================] - 1s 14ms/step - loss: 2.1086 - acc: 0.7121\n",
      "model_워드임베딩_양방향순환신경망 [2.108600616455078, 0.7121412754058838]\n",
      "\n"
     ]
    }
   ],
   "source": [
    "print(\"model_워드임베딩_순환신경망\", model_워드임베딩_순환신경망.evaluate(data1_X_test, data1_y_test))\n",
    "print()\n",
    "print(\"model_워드임베딩_순환신경망_l2규제설정\", model_워드임베딩_순환신경망_l2규제설정.evaluate(data1_X_test, data1_y_test))\n",
    "print()\n",
    "print(\"model_워드임베딩_순환신경망_dropout\", model_워드임베딩_순환신경망_dropout.evaluate(data1_X_test, data1_y_test))\n",
    "print()\n",
    "print(\"model_워드임베딩_dropout\", model_워드임베딩_dropout.evaluate(data1_X_test, data1_y_test))\n",
    "print()\n",
    "print(\"model_워드임베딩_양방향순환신경망\", model_워드임베딩_양방향순환신경망.evaluate(data1_X_test, data1_y_test))\n",
    "print()\n"
   ]
  },
  {
   "cell_type": "code",
   "execution_count": null,
   "metadata": {},
   "outputs": [],
   "source": []
  },
  {
   "cell_type": "code",
   "execution_count": null,
   "metadata": {},
   "outputs": [],
   "source": []
  },
  {
   "cell_type": "code",
   "execution_count": null,
   "metadata": {},
   "outputs": [],
   "source": []
  },
  {
   "cell_type": "code",
   "execution_count": null,
   "metadata": {},
   "outputs": [],
   "source": []
  },
  {
   "attachments": {
    "image.png": {
     "image/png": "[encoded data removed]"
    }
   },
   "cell_type": "markdown",
   "metadata": {},
   "source": [
    "![image.png](attachment:image.png)"
   ]
  },
  {
   "cell_type": "code",
   "execution_count": 258,
   "metadata": {},
   "outputs": [
    {
     "name": "stdout",
     "output_type": "stream",
     "text": [
      "Model: \"sequential_47\"\n",
      "_________________________________________________________________\n",
      " Layer (type)                Output Shape              Param #   \n",
      "=================================================================\n",
      " embedding_45 (Embedding)    (None, 30, 200)           2000000   \n",
      "                                                                 \n",
      " bidirectional_2 (Bidirectio  (None, 30, 128)          135680    \n",
      " nal)                                                            \n",
      "                                                                 \n",
      " bidirectional_3 (Bidirectio  (None, 128)              98816     \n",
      " nal)                                                            \n",
      "                                                                 \n",
      " dense_101 (Dense)           (None, 9)                 1161      \n",
      "                                                                 \n",
      "=================================================================\n",
      "Total params: 2,235,657\n",
      "Trainable params: 2,235,657\n",
      "Non-trainable params: 0\n",
      "_________________________________________________________________\n",
      "Epoch 1/15\n",
      "213/213 [==============================] - 20s 72ms/step - loss: 1.2319 - acc: 0.5667 - val_loss: 0.9653 - val_acc: 0.6667\n",
      "Epoch 2/15\n",
      "213/213 [==============================] - 14s 65ms/step - loss: 0.7129 - acc: 0.7612 - val_loss: 0.8558 - val_acc: 0.7258\n",
      "Epoch 3/15\n",
      "213/213 [==============================] - 14s 65ms/step - loss: 0.4438 - acc: 0.8564 - val_loss: 0.8482 - val_acc: 0.7316\n",
      "Epoch 4/15\n",
      "213/213 [==============================] - 14s 65ms/step - loss: 0.2819 - acc: 0.9103 - val_loss: 0.9348 - val_acc: 0.7307\n",
      "Epoch 5/15\n",
      "213/213 [==============================] - 14s 65ms/step - loss: 0.1733 - acc: 0.9494 - val_loss: 1.1502 - val_acc: 0.7408\n",
      "Epoch 6/15\n",
      "213/213 [==============================] - 14s 66ms/step - loss: 0.1096 - acc: 0.9689 - val_loss: 1.1049 - val_acc: 0.7391\n",
      "Epoch 7/15\n",
      "213/213 [==============================] - 14s 66ms/step - loss: 0.0698 - acc: 0.9801 - val_loss: 1.2308 - val_acc: 0.7329\n",
      "Epoch 8/15\n",
      "213/213 [==============================] - 14s 65ms/step - loss: 0.0424 - acc: 0.9876 - val_loss: 1.3765 - val_acc: 0.7272\n",
      "Epoch 9/15\n",
      "213/213 [==============================] - 14s 65ms/step - loss: 0.0289 - acc: 0.9925 - val_loss: 1.5157 - val_acc: 0.7188\n",
      "Epoch 10/15\n",
      "213/213 [==============================] - 14s 65ms/step - loss: 0.0207 - acc: 0.9946 - val_loss: 1.6877 - val_acc: 0.7298\n",
      "Epoch 11/15\n",
      "213/213 [==============================] - 14s 65ms/step - loss: 0.0130 - acc: 0.9957 - val_loss: 1.7823 - val_acc: 0.7139\n",
      "Epoch 12/15\n",
      "213/213 [==============================] - 14s 65ms/step - loss: 0.0111 - acc: 0.9968 - val_loss: 2.2377 - val_acc: 0.6464\n",
      "Epoch 13/15\n",
      "213/213 [==============================] - 14s 65ms/step - loss: 0.0065 - acc: 0.9979 - val_loss: 2.1656 - val_acc: 0.7179\n",
      "Epoch 14/15\n",
      "213/213 [==============================] - 14s 65ms/step - loss: 0.0048 - acc: 0.9988 - val_loss: 2.5208 - val_acc: 0.6609\n",
      "Epoch 15/15\n",
      "213/213 [==============================] - 14s 65ms/step - loss: 0.0114 - acc: 0.9976 - val_loss: 2.1916 - val_acc: 0.7121\n",
      "71/71 [==============================] - 2s 22ms/step - loss: 2.1916 - acc: 0.7121\n"
     ]
    },
    {
     "data": {
      "text/plain": [
       "[2.1916494369506836, 0.7121412754058838]"
      ]
     },
     "execution_count": 258,
     "metadata": {},
     "output_type": "execute_result"
    }
   ],
   "source": [
    "# 워드임베딩_양방향순환신경망\n",
    "from tensorflow.keras.layers import Dense, Embedding, RNN, LSTM, Flatten, SimpleRNN, GRU, Dropout, Bidirectional\n",
    "from tensorflow.keras import models, regularizers\n",
    "embedding_dim = 200\n",
    "model_X = models.Sequential()\n",
    "model_X.add(Embedding(input_dim=max_words, output_dim=embedding_dim, input_length=max_len))\n",
    "model_X.add(Bidirectional(LSTM(64, return_sequences=True)))\n",
    "model_X.add(Bidirectional(LSTM(64)))\n",
    "model_X.add(Dense(len(data1_y_train[0]), 'softmax'))\n",
    "model_X.summary()\n",
    "model_X.compile('rmsprop', 'categorical_crossentropy', 'acc')\n",
    "history_X = model_X.fit(data1_X_train, data1_y_train, epochs=15, batch_size=32, verbose=1, validation_data=(data1_X_test, data1_y_test))\n",
    "model_X.evaluate(data1_X_test, data1_y_test)"
   ]
  },
  {
   "cell_type": "code",
   "execution_count": null,
   "metadata": {},
   "outputs": [],
   "source": []
  },
  {
   "cell_type": "code",
   "execution_count": 20,
   "metadata": {},
   "outputs": [],
   "source": [
    "from tensorflow.keras.models import Sequential\n",
    "from tensorflow.keras.layers import Dense, Embedding, Conv2D, Conv1D, MaxPool2D, Dropout, LSTM, MaxPooling1D, MaxPooling2D, Flatten, Dropout\n",
    "embedding_dim = 200\n"
   ]
  },
  {
   "cell_type": "code",
   "execution_count": null,
   "metadata": {},
   "outputs": [],
   "source": [
    "# model = Sequential()\n",
    "# model.add(Embedding(input_dim=max_words, output_dim=embedding_dim, input_length=max_len))\n",
    "# model.add(Conv1D(32, kernel_size=3, activation='relu'))\n",
    "# model.add(MaxPooling1D(pool_size=2))\n",
    "# model.add(Dropout(0.25))\n",
    "# model.add(LSTM(32))\n",
    "# model.add(Flatten())\n",
    "# model.add(Dense(128, activation='relu'))\n",
    "# model.add(Dropout(0.25))\n",
    "# model.add(Dense(1, activation='sigmoid'))\n",
    "\n",
    "# model.summary()\n",
    "# model.compile('rmsprop','binary_crossentropy','acc')"
   ]
  },
  {
   "cell_type": "code",
   "execution_count": 22,
   "metadata": {},
   "outputs": [
    {
     "name": "stdout",
     "output_type": "stream",
     "text": [
      "Model: \"sequential_3\"\n",
      "_________________________________________________________________\n",
      "Layer (type)                 Output Shape              Param #   \n",
      "=================================================================\n",
      "embedding_2 (Embedding)      (None, 30, 200)           2000000   \n",
      "_________________________________________________________________\n",
      "conv1d_1 (Conv1D)            (None, 28, 32)            19232     \n",
      "_________________________________________________________________\n",
      "max_pooling1d (MaxPooling1D) (None, 14, 32)            0         \n",
      "_________________________________________________________________\n",
      "bidirectional (Bidirectional (None, 14, 128)           49664     \n",
      "_________________________________________________________________\n",
      "bidirectional_1 (Bidirection (None, 128)               98816     \n",
      "_________________________________________________________________\n",
      "dense_2 (Dense)              (None, 9)                 1161      \n",
      "=================================================================\n",
      "Total params: 2,168,873\n",
      "Trainable params: 2,168,873\n",
      "Non-trainable params: 0\n",
      "_________________________________________________________________\n",
      "Epoch 1/15\n",
      "213/213 [==============================] - 6s 28ms/step - loss: 1.2787 - acc: 0.5424 - val_loss: 1.0185 - val_acc: 0.6468\n",
      "Epoch 2/15\n",
      "213/213 [==============================] - 5s 24ms/step - loss: 0.7721 - acc: 0.7236 - val_loss: 0.9107 - val_acc: 0.6790\n",
      "Epoch 3/15\n",
      "213/213 [==============================] - 5s 22ms/step - loss: 0.5515 - acc: 0.8082 - val_loss: 1.2332 - val_acc: 0.6035\n",
      "Epoch 4/15\n",
      "213/213 [==============================] - 5s 22ms/step - loss: 0.3775 - acc: 0.8812 - val_loss: 1.0314 - val_acc: 0.7108\n",
      "Epoch 5/15\n",
      "213/213 [==============================] - 5s 22ms/step - loss: 0.2442 - acc: 0.9282 - val_loss: 1.1211 - val_acc: 0.7011\n",
      "Epoch 6/15\n",
      "213/213 [==============================] - 5s 24ms/step - loss: 0.1498 - acc: 0.9583 - val_loss: 1.3242 - val_acc: 0.6728\n",
      "Epoch 7/15\n",
      "213/213 [==============================] - 5s 23ms/step - loss: 0.0953 - acc: 0.9738 - val_loss: 1.3021 - val_acc: 0.7055\n",
      "Epoch 8/15\n",
      "213/213 [==============================] - 5s 24ms/step - loss: 0.0565 - acc: 0.9835 - val_loss: 1.3663 - val_acc: 0.6887\n",
      "Epoch 9/15\n",
      "213/213 [==============================] - 6s 26ms/step - loss: 0.0357 - acc: 0.9900 - val_loss: 2.6688 - val_acc: 0.5837\n",
      "Epoch 10/15\n",
      "213/213 [==============================] - 6s 29ms/step - loss: 0.0313 - acc: 0.9916 - val_loss: 1.6338 - val_acc: 0.7139\n",
      "Epoch 11/15\n",
      "213/213 [==============================] - 6s 27ms/step - loss: 0.0190 - acc: 0.9943 - val_loss: 1.7903 - val_acc: 0.6998\n",
      "Epoch 12/15\n",
      "213/213 [==============================] - 5s 25ms/step - loss: 0.0172 - acc: 0.9948 - val_loss: 1.8191 - val_acc: 0.7077\n",
      "Epoch 13/15\n",
      "213/213 [==============================] - 6s 30ms/step - loss: 0.0150 - acc: 0.9960 - val_loss: 1.7988 - val_acc: 0.7082\n",
      "Epoch 14/15\n",
      "213/213 [==============================] - 6s 27ms/step - loss: 0.0107 - acc: 0.9972 - val_loss: 1.9211 - val_acc: 0.7143\n",
      "Epoch 15/15\n",
      "213/213 [==============================] - 5s 25ms/step - loss: 0.0055 - acc: 0.9988 - val_loss: 2.0408 - val_acc: 0.7139\n",
      "71/71 [==============================] - 0s 4ms/step - loss: 2.0408 - acc: 0.7139\n"
     ]
    },
    {
     "data": {
      "text/plain": [
       "[2.040797472000122, 0.7139073014259338]"
      ]
     },
     "execution_count": 22,
     "metadata": {},
     "output_type": "execute_result"
    }
   ],
   "source": [
    "# 워드임베딩_양방향순환신경망\n",
    "from tensorflow.keras.layers import Dense, Embedding, RNN, LSTM, Flatten, SimpleRNN, GRU, Dropout, Bidirectional\n",
    "from tensorflow.keras import models, regularizers\n",
    "embedding_dim = 200\n",
    "model_X = models.Sequential()\n",
    "model_X.add(Embedding(input_dim=max_words, output_dim=embedding_dim, input_length=max_len))\n",
    "model_X.add(Conv1D(32, kernel_size=3, activation='relu'))\n",
    "model_X.add(MaxPooling1D(pool_size=2))\n",
    "model_X.add(Bidirectional(LSTM(64, return_sequences=True)))\n",
    "model_X.add(Bidirectional(LSTM(64)))\n",
    "model_X.add(Dense(len(data1_y_train[0]), 'softmax'))\n",
    "model_X.summary()\n",
    "model_X.compile('rmsprop', 'categorical_crossentropy', 'acc')\n",
    "history_X = model_X.fit(data1_X_train, data1_y_train, epochs=15, batch_size=32, verbose=1, validation_data=(data1_X_test, data1_y_test))\n",
    "model_X.evaluate(data1_X_test, data1_y_test)"
   ]
  },
  {
   "cell_type": "code",
   "execution_count": 24,
   "metadata": {},
   "outputs": [
    {
     "name": "stdout",
     "output_type": "stream",
     "text": [
      "\n",
      "71/71 [==============================] - 1s 8ms/step - loss: 2.4818 - acc: 0.7152\n",
      "model_워드임베딩_순환신경망 [2.4818332195281982, 0.7152317762374878]\n",
      "\n",
      "71/71 [==============================] - 1s 8ms/step - loss: 1.7315 - acc: 0.7183\n",
      "model_워드임베딩_순환신경망_l2규제설정 [1.7314863204956055, 0.7183222770690918]\n",
      "\n",
      "71/71 [==============================] - 1s 8ms/step - loss: 2.8945 - acc: 0.7038\n",
      "model_워드임베딩_순환신경망_dropout [2.894545793533325, 0.7037527561187744]\n",
      "\n",
      "71/71 [==============================] - 0s 4ms/step - loss: 2.0913 - acc: 0.7179\n",
      "model_워드임베딩_dropout [2.0913233757019043, 0.7178807854652405]\n",
      "\n",
      "71/71 [==============================] - 1s 14ms/step - loss: 2.1086 - acc: 0.7121\n",
      "model_워드임베딩_양방향순환신경망 [2.108600616455078, 0.7121412754058838]\n",
      "\n",
      "71/71 [==============================] - 0s 5ms/step - loss: 2.0408 - acc: 0.7139\n",
      "model_워드임베딩_Conv1d_양방향순환신경망 [2.040797472000122, 0.7139073014259338]\n",
      "\n"
     ]
    }
   ],
   "source": [
    "print(\"\"\"\n",
    "71/71 [==============================] - 1s 8ms/step - loss: 2.4818 - acc: 0.7152\n",
    "model_워드임베딩_순환신경망 [2.4818332195281982, 0.7152317762374878]\n",
    "\n",
    "71/71 [==============================] - 1s 8ms/step - loss: 1.7315 - acc: 0.7183\n",
    "model_워드임베딩_순환신경망_l2규제설정 [1.7314863204956055, 0.7183222770690918]\n",
    "\n",
    "71/71 [==============================] - 1s 8ms/step - loss: 2.8945 - acc: 0.7038\n",
    "model_워드임베딩_순환신경망_dropout [2.894545793533325, 0.7037527561187744]\n",
    "\n",
    "71/71 [==============================] - 0s 4ms/step - loss: 2.0913 - acc: 0.7179\n",
    "model_워드임베딩_dropout [2.0913233757019043, 0.7178807854652405]\n",
    "\n",
    "71/71 [==============================] - 1s 14ms/step - loss: 2.1086 - acc: 0.7121\n",
    "model_워드임베딩_양방향순환신경망 [2.108600616455078, 0.7121412754058838]\n",
    "\"\"\")\n",
    "print(\"model_워드임베딩_Conv1d_양방향순환신경망\", model_X.evaluate(data1_X_test, data1_y_test))\n",
    "print()"
   ]
  },
  {
   "cell_type": "code",
   "execution_count": null,
   "metadata": {},
   "outputs": [],
   "source": []
  }
 ],
 "metadata": {
  "kernelspec": {
   "display_name": "Python 3.7.4 ('venv': venv)",
   "language": "python",
   "name": "python3"
  },
  "language_info": {
   "codemirror_mode": {
    "name": "ipython",
    "version": 3
   },
   "file_extension": ".py",
   "mimetype": "text/x-python",
   "name": "python",
   "nbconvert_exporter": "python",
   "pygments_lexer": "ipython3",
   "version": "3.7.4"
  },
  "orig_nbformat": 4,
  "vscode": {
   "interpreter": {
    "hash": "ee3a569b6c17f781d88eed465009cab3acc13ebf6747bed2a2b2f4afb9b22959"
   }
  }
 },
 "nbformat": 4,
 "nbformat_minor": 2
}
