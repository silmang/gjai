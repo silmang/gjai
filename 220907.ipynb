{
 "cells": [
  {
   "cell_type": "code",
   "execution_count": 2,
   "metadata": {},
   "outputs": [
    {
     "name": "stdout",
     "output_type": "stream",
     "text": [
      "파이썬 리스트:  [1, 2, 3, 4, 5]\n",
      "넘파이 배열:  [1 2 3 4 5]\n",
      "판다스 시리즈:\n",
      "0    1\n",
      "1    2\n",
      "2    3\n",
      "3    4\n",
      "4    5\n",
      "dtype: int64\n"
     ]
    }
   ],
   "source": [
    "import numpy as np\n",
    "import pandas as pd\n",
    "x = [1, 2, 3, 4, 5]\n",
    "print(\"파이썬 리스트: \", x)\n",
    "x2 = np.array([1, 2, 3, 4, 5])\n",
    "print(\"넘파이 배열: \", x2)\n",
    "x3 = pd.Series([1, 2, 3, 4, 5])\n",
    "print(\"판다스 시리즈:\")\n",
    "print(x3)"
   ]
  },
  {
   "cell_type": "code",
   "execution_count": 4,
   "metadata": {},
   "outputs": [
    {
     "data": {
      "text/plain": [
       "1"
      ]
     },
     "execution_count": 4,
     "metadata": {},
     "output_type": "execute_result"
    }
   ],
   "source": [
    "x2.ndim"
   ]
  },
  {
   "cell_type": "code",
   "execution_count": 5,
   "metadata": {},
   "outputs": [
    {
     "data": {
      "text/plain": [
       "1"
      ]
     },
     "execution_count": 5,
     "metadata": {},
     "output_type": "execute_result"
    }
   ],
   "source": [
    "x3.ndim"
   ]
  },
  {
   "cell_type": "code",
   "execution_count": 6,
   "metadata": {},
   "outputs": [
    {
     "name": "stdout",
     "output_type": "stream",
     "text": [
      "1\n",
      "1    1\n",
      "2    2\n",
      "dtype: int64\n"
     ]
    }
   ],
   "source": [
    "import pandas as pd\n",
    "x3 = pd.Series([0,1,2,3,4,5])\n",
    "print(x3[1])\n",
    "print(x3[1:3])\n"
   ]
  },
  {
   "cell_type": "code",
   "execution_count": 7,
   "metadata": {},
   "outputs": [
    {
     "name": "stdout",
     "output_type": "stream",
     "text": [
      "   도시    인구\n",
      "0  서울  9705\n",
      "1  부산  3400\n",
      "2  대구  2450\n"
     ]
    }
   ],
   "source": [
    "import pandas as pd\n",
    "data = {'도시':['서울', '부산' , '대구'], '인구':[9705, 3400, 2450]}\n",
    "data = pd.DataFrame(data)\n",
    "print(data)"
   ]
  },
  {
   "cell_type": "code",
   "execution_count": 8,
   "metadata": {},
   "outputs": [
    {
     "data": {
      "text/plain": [
       "pandas.core.frame.DataFrame"
      ]
     },
     "execution_count": 8,
     "metadata": {},
     "output_type": "execute_result"
    }
   ],
   "source": [
    "type(data)"
   ]
  },
  {
   "cell_type": "code",
   "execution_count": 15,
   "metadata": {},
   "outputs": [
    {
     "name": "stdout",
     "output_type": "stream",
     "text": [
      "   도시    인구\n",
      "0  서울  9705\n",
      "1  부산  3400\n",
      "2  대구  2450\n",
      "3  인천  2939\n",
      "4  광주  1493\n"
     ]
    }
   ],
   "source": [
    "import pandas as pd\n",
    "path = \"c:\\\\pytest_basic\\\\\"\n",
    "data = pd.read_csv(path+'도시인구.csv', encoding=\"cp949\")\n",
    "print(data)"
   ]
  },
  {
   "cell_type": "code",
   "execution_count": 17,
   "metadata": {},
   "outputs": [
    {
     "name": "stdout",
     "output_type": "stream",
     "text": [
      "   order               name  height\n",
      "0      1  George Washington     189\n",
      "1      2         John Adams     170\n",
      "2      3   Thomas Jefferson     189\n",
      "3      4      James Madison     163\n",
      "4      5       James Monroe     183\n",
      "    order               name  height\n",
      "37     40      Ronald Reagan     185\n",
      "38     41  George H. W. Bush     188\n",
      "39     42       Bill Clinton     188\n",
      "40     43     George W. Bush     182\n",
      "41     44       Barack Obama     185\n",
      "=== 속성 ===\n",
      "Index(['order', 'name', 'height'], dtype='object')\n",
      "[[1 'George Washington' 189]\n",
      " [2 'John Adams' 170]\n",
      " [3 'Thomas Jefferson' 189]\n",
      " [4 'James Madison' 163]\n",
      " [5 'James Monroe' 183]\n",
      " [6 'John Quincy Adams' 171]\n",
      " [7 'Andrew Jackson' 185]\n",
      " [8 'Martin Van Buren' 168]\n",
      " [9 'William Henry Harrison' 173]\n",
      " [10 'John Tyler' 183]\n",
      " [11 'James K. Polk' 173]\n",
      " [12 'Zachary Taylor' 173]\n",
      " [13 'Millard Fillmore' 175]\n",
      " [14 'Franklin Pierce' 178]\n",
      " [15 'James Buchanan' 183]\n",
      " [16 'Abraham Lincoln' 193]\n",
      " [17 'Andrew Johnson' 178]\n",
      " [18 'Ulysses S. Grant' 173]\n",
      " [19 'Rutherford B. Hayes' 174]\n",
      " [20 'James A. Garfield' 183]\n",
      " [21 'Chester A. Arthur' 183]\n",
      " [23 'Benjamin Harrison' 168]\n",
      " [25 'William McKinley' 170]\n",
      " [26 'Theodore Roosevelt' 178]\n",
      " [27 'William Howard Taft' 182]\n",
      " [28 'Woodrow Wilson' 180]\n",
      " [29 'Warren G. Harding' 183]\n",
      " [30 'Calvin Coolidge' 178]\n",
      " [31 'Herbert Hoover' 182]\n",
      " [32 'Franklin D. Roosevelt' 188]\n",
      " [33 'Harry S. Truman' 175]\n",
      " [34 'Dwight D. Eisenhower' 179]\n",
      " [35 'John F. Kennedy' 183]\n",
      " [36 'Lyndon B. Johnson' 193]\n",
      " [37 'Richard Nixon' 182]\n",
      " [38 'Gerald Ford' 183]\n",
      " [39 'Jimmy Carter' 177]\n",
      " [40 'Ronald Reagan' 185]\n",
      " [41 'George H. W. Bush' 188]\n",
      " [42 'Bill Clinton' 188]\n",
      " [43 'George W. Bush' 182]\n",
      " [44 'Barack Obama' 185]]\n"
     ]
    }
   ],
   "source": [
    "data = pd.read_csv(path+'presidents_heights.csv', encoding=\"UTF8\")\n",
    "print(data.head())\n",
    "print(data.tail())\n",
    "print(\"=== 속성 ===\")\n",
    "print(data.columns)\n",
    "print(data.values)"
   ]
  },
  {
   "cell_type": "code",
   "execution_count": 18,
   "metadata": {},
   "outputs": [
    {
     "name": "stdout",
     "output_type": "stream",
     "text": [
      "Index(['order', 'name', 'height'], dtype='object')\n",
      "0          George Washington\n",
      "1                 John Adams\n",
      "2           Thomas Jefferson\n",
      "3              James Madison\n",
      "4               James Monroe\n",
      "5          John Quincy Adams\n",
      "6             Andrew Jackson\n",
      "7           Martin Van Buren\n",
      "8     William Henry Harrison\n",
      "9                 John Tyler\n",
      "10             James K. Polk\n",
      "11            Zachary Taylor\n",
      "12          Millard Fillmore\n",
      "13           Franklin Pierce\n",
      "14            James Buchanan\n",
      "15           Abraham Lincoln\n",
      "16            Andrew Johnson\n",
      "17          Ulysses S. Grant\n",
      "18       Rutherford B. Hayes\n",
      "19         James A. Garfield\n",
      "20         Chester A. Arthur\n",
      "21         Benjamin Harrison\n",
      "22          William McKinley\n",
      "23        Theodore Roosevelt\n",
      "24       William Howard Taft\n",
      "25            Woodrow Wilson\n",
      "26         Warren G. Harding\n",
      "27           Calvin Coolidge\n",
      "28            Herbert Hoover\n",
      "29     Franklin D. Roosevelt\n",
      "30           Harry S. Truman\n",
      "31      Dwight D. Eisenhower\n",
      "32           John F. Kennedy\n",
      "33         Lyndon B. Johnson\n",
      "34             Richard Nixon\n",
      "35               Gerald Ford\n",
      "36              Jimmy Carter\n",
      "37             Ronald Reagan\n",
      "38         George H. W. Bush\n",
      "39              Bill Clinton\n",
      "40            George W. Bush\n",
      "41              Barack Obama\n",
      "Name: name, dtype: object\n",
      "0     189\n",
      "1     170\n",
      "2     189\n",
      "3     163\n",
      "4     183\n",
      "5     171\n",
      "6     185\n",
      "7     168\n",
      "8     173\n",
      "9     183\n",
      "10    173\n",
      "11    173\n",
      "12    175\n",
      "13    178\n",
      "14    183\n",
      "15    193\n",
      "16    178\n",
      "17    173\n",
      "18    174\n",
      "19    183\n",
      "20    183\n",
      "21    168\n",
      "22    170\n",
      "23    178\n",
      "24    182\n",
      "25    180\n",
      "26    183\n",
      "27    178\n",
      "28    182\n",
      "29    188\n",
      "30    175\n",
      "31    179\n",
      "32    183\n",
      "33    193\n",
      "34    182\n",
      "35    183\n",
      "36    177\n",
      "37    185\n",
      "38    188\n",
      "39    188\n",
      "40    182\n",
      "41    185\n",
      "Name: height, dtype: int64\n"
     ]
    }
   ],
   "source": [
    "data = pd.read_csv(path+'presidents_heights.csv', encoding=\"UTF8\")\n",
    "print(data.columns)\n",
    "print(data['name'])\n",
    "print(data['height'])"
   ]
  },
  {
   "cell_type": "code",
   "execution_count": 19,
   "metadata": {},
   "outputs": [
    {
     "data": {
      "text/plain": [
       "pandas.core.series.Series"
      ]
     },
     "execution_count": 19,
     "metadata": {},
     "output_type": "execute_result"
    }
   ],
   "source": [
    "type(data['name'])"
   ]
  },
  {
   "cell_type": "code",
   "execution_count": 20,
   "metadata": {},
   "outputs": [
    {
     "data": {
      "text/plain": [
       "0          George Washington\n",
       "1                 John Adams\n",
       "2           Thomas Jefferson\n",
       "3              James Madison\n",
       "4               James Monroe\n",
       "5          John Quincy Adams\n",
       "6             Andrew Jackson\n",
       "7           Martin Van Buren\n",
       "8     William Henry Harrison\n",
       "9                 John Tyler\n",
       "10             James K. Polk\n",
       "11            Zachary Taylor\n",
       "12          Millard Fillmore\n",
       "13           Franklin Pierce\n",
       "14            James Buchanan\n",
       "15           Abraham Lincoln\n",
       "16            Andrew Johnson\n",
       "17          Ulysses S. Grant\n",
       "18       Rutherford B. Hayes\n",
       "19         James A. Garfield\n",
       "20         Chester A. Arthur\n",
       "21         Benjamin Harrison\n",
       "22          William McKinley\n",
       "23        Theodore Roosevelt\n",
       "24       William Howard Taft\n",
       "25            Woodrow Wilson\n",
       "26         Warren G. Harding\n",
       "27           Calvin Coolidge\n",
       "28            Herbert Hoover\n",
       "29     Franklin D. Roosevelt\n",
       "30           Harry S. Truman\n",
       "31      Dwight D. Eisenhower\n",
       "32           John F. Kennedy\n",
       "33         Lyndon B. Johnson\n",
       "34             Richard Nixon\n",
       "35               Gerald Ford\n",
       "36              Jimmy Carter\n",
       "37             Ronald Reagan\n",
       "38         George H. W. Bush\n",
       "39              Bill Clinton\n",
       "40            George W. Bush\n",
       "41              Barack Obama\n",
       "Name: name, dtype: object"
      ]
     },
     "execution_count": 20,
     "metadata": {},
     "output_type": "execute_result"
    }
   ],
   "source": [
    "data['name']"
   ]
  },
  {
   "cell_type": "code",
   "execution_count": 21,
   "metadata": {},
   "outputs": [
    {
     "data": {
      "text/html": [
       "<div>\n",
       "<style scoped>\n",
       "    .dataframe tbody tr th:only-of-type {\n",
       "        vertical-align: middle;\n",
       "    }\n",
       "\n",
       "    .dataframe tbody tr th {\n",
       "        vertical-align: top;\n",
       "    }\n",
       "\n",
       "    .dataframe thead th {\n",
       "        text-align: right;\n",
       "    }\n",
       "</style>\n",
       "<table border=\"1\" class=\"dataframe\">\n",
       "  <thead>\n",
       "    <tr style=\"text-align: right;\">\n",
       "      <th></th>\n",
       "      <th>name</th>\n",
       "    </tr>\n",
       "  </thead>\n",
       "  <tbody>\n",
       "    <tr>\n",
       "      <th>0</th>\n",
       "      <td>George Washington</td>\n",
       "    </tr>\n",
       "    <tr>\n",
       "      <th>1</th>\n",
       "      <td>John Adams</td>\n",
       "    </tr>\n",
       "    <tr>\n",
       "      <th>2</th>\n",
       "      <td>Thomas Jefferson</td>\n",
       "    </tr>\n",
       "    <tr>\n",
       "      <th>3</th>\n",
       "      <td>James Madison</td>\n",
       "    </tr>\n",
       "    <tr>\n",
       "      <th>4</th>\n",
       "      <td>James Monroe</td>\n",
       "    </tr>\n",
       "    <tr>\n",
       "      <th>5</th>\n",
       "      <td>John Quincy Adams</td>\n",
       "    </tr>\n",
       "    <tr>\n",
       "      <th>6</th>\n",
       "      <td>Andrew Jackson</td>\n",
       "    </tr>\n",
       "    <tr>\n",
       "      <th>7</th>\n",
       "      <td>Martin Van Buren</td>\n",
       "    </tr>\n",
       "    <tr>\n",
       "      <th>8</th>\n",
       "      <td>William Henry Harrison</td>\n",
       "    </tr>\n",
       "    <tr>\n",
       "      <th>9</th>\n",
       "      <td>John Tyler</td>\n",
       "    </tr>\n",
       "    <tr>\n",
       "      <th>10</th>\n",
       "      <td>James K. Polk</td>\n",
       "    </tr>\n",
       "    <tr>\n",
       "      <th>11</th>\n",
       "      <td>Zachary Taylor</td>\n",
       "    </tr>\n",
       "    <tr>\n",
       "      <th>12</th>\n",
       "      <td>Millard Fillmore</td>\n",
       "    </tr>\n",
       "    <tr>\n",
       "      <th>13</th>\n",
       "      <td>Franklin Pierce</td>\n",
       "    </tr>\n",
       "    <tr>\n",
       "      <th>14</th>\n",
       "      <td>James Buchanan</td>\n",
       "    </tr>\n",
       "    <tr>\n",
       "      <th>15</th>\n",
       "      <td>Abraham Lincoln</td>\n",
       "    </tr>\n",
       "    <tr>\n",
       "      <th>16</th>\n",
       "      <td>Andrew Johnson</td>\n",
       "    </tr>\n",
       "    <tr>\n",
       "      <th>17</th>\n",
       "      <td>Ulysses S. Grant</td>\n",
       "    </tr>\n",
       "    <tr>\n",
       "      <th>18</th>\n",
       "      <td>Rutherford B. Hayes</td>\n",
       "    </tr>\n",
       "    <tr>\n",
       "      <th>19</th>\n",
       "      <td>James A. Garfield</td>\n",
       "    </tr>\n",
       "    <tr>\n",
       "      <th>20</th>\n",
       "      <td>Chester A. Arthur</td>\n",
       "    </tr>\n",
       "    <tr>\n",
       "      <th>21</th>\n",
       "      <td>Benjamin Harrison</td>\n",
       "    </tr>\n",
       "    <tr>\n",
       "      <th>22</th>\n",
       "      <td>William McKinley</td>\n",
       "    </tr>\n",
       "    <tr>\n",
       "      <th>23</th>\n",
       "      <td>Theodore Roosevelt</td>\n",
       "    </tr>\n",
       "    <tr>\n",
       "      <th>24</th>\n",
       "      <td>William Howard Taft</td>\n",
       "    </tr>\n",
       "    <tr>\n",
       "      <th>25</th>\n",
       "      <td>Woodrow Wilson</td>\n",
       "    </tr>\n",
       "    <tr>\n",
       "      <th>26</th>\n",
       "      <td>Warren G. Harding</td>\n",
       "    </tr>\n",
       "    <tr>\n",
       "      <th>27</th>\n",
       "      <td>Calvin Coolidge</td>\n",
       "    </tr>\n",
       "    <tr>\n",
       "      <th>28</th>\n",
       "      <td>Herbert Hoover</td>\n",
       "    </tr>\n",
       "    <tr>\n",
       "      <th>29</th>\n",
       "      <td>Franklin D. Roosevelt</td>\n",
       "    </tr>\n",
       "    <tr>\n",
       "      <th>30</th>\n",
       "      <td>Harry S. Truman</td>\n",
       "    </tr>\n",
       "    <tr>\n",
       "      <th>31</th>\n",
       "      <td>Dwight D. Eisenhower</td>\n",
       "    </tr>\n",
       "    <tr>\n",
       "      <th>32</th>\n",
       "      <td>John F. Kennedy</td>\n",
       "    </tr>\n",
       "    <tr>\n",
       "      <th>33</th>\n",
       "      <td>Lyndon B. Johnson</td>\n",
       "    </tr>\n",
       "    <tr>\n",
       "      <th>34</th>\n",
       "      <td>Richard Nixon</td>\n",
       "    </tr>\n",
       "    <tr>\n",
       "      <th>35</th>\n",
       "      <td>Gerald Ford</td>\n",
       "    </tr>\n",
       "    <tr>\n",
       "      <th>36</th>\n",
       "      <td>Jimmy Carter</td>\n",
       "    </tr>\n",
       "    <tr>\n",
       "      <th>37</th>\n",
       "      <td>Ronald Reagan</td>\n",
       "    </tr>\n",
       "    <tr>\n",
       "      <th>38</th>\n",
       "      <td>George H. W. Bush</td>\n",
       "    </tr>\n",
       "    <tr>\n",
       "      <th>39</th>\n",
       "      <td>Bill Clinton</td>\n",
       "    </tr>\n",
       "    <tr>\n",
       "      <th>40</th>\n",
       "      <td>George W. Bush</td>\n",
       "    </tr>\n",
       "    <tr>\n",
       "      <th>41</th>\n",
       "      <td>Barack Obama</td>\n",
       "    </tr>\n",
       "  </tbody>\n",
       "</table>\n",
       "</div>"
      ],
      "text/plain": [
       "                      name\n",
       "0        George Washington\n",
       "1               John Adams\n",
       "2         Thomas Jefferson\n",
       "3            James Madison\n",
       "4             James Monroe\n",
       "5        John Quincy Adams\n",
       "6           Andrew Jackson\n",
       "7         Martin Van Buren\n",
       "8   William Henry Harrison\n",
       "9               John Tyler\n",
       "10           James K. Polk\n",
       "11          Zachary Taylor\n",
       "12        Millard Fillmore\n",
       "13         Franklin Pierce\n",
       "14          James Buchanan\n",
       "15         Abraham Lincoln\n",
       "16          Andrew Johnson\n",
       "17        Ulysses S. Grant\n",
       "18     Rutherford B. Hayes\n",
       "19       James A. Garfield\n",
       "20       Chester A. Arthur\n",
       "21       Benjamin Harrison\n",
       "22        William McKinley\n",
       "23      Theodore Roosevelt\n",
       "24     William Howard Taft\n",
       "25          Woodrow Wilson\n",
       "26       Warren G. Harding\n",
       "27         Calvin Coolidge\n",
       "28          Herbert Hoover\n",
       "29   Franklin D. Roosevelt\n",
       "30         Harry S. Truman\n",
       "31    Dwight D. Eisenhower\n",
       "32         John F. Kennedy\n",
       "33       Lyndon B. Johnson\n",
       "34           Richard Nixon\n",
       "35             Gerald Ford\n",
       "36            Jimmy Carter\n",
       "37           Ronald Reagan\n",
       "38       George H. W. Bush\n",
       "39            Bill Clinton\n",
       "40          George W. Bush\n",
       "41            Barack Obama"
      ]
     },
     "execution_count": 21,
     "metadata": {},
     "output_type": "execute_result"
    }
   ],
   "source": [
    "data['name'].to_frame()"
   ]
  },
  {
   "cell_type": "code",
   "execution_count": 22,
   "metadata": {},
   "outputs": [
    {
     "data": {
      "text/html": [
       "<div>\n",
       "<style scoped>\n",
       "    .dataframe tbody tr th:only-of-type {\n",
       "        vertical-align: middle;\n",
       "    }\n",
       "\n",
       "    .dataframe tbody tr th {\n",
       "        vertical-align: top;\n",
       "    }\n",
       "\n",
       "    .dataframe thead th {\n",
       "        text-align: right;\n",
       "    }\n",
       "</style>\n",
       "<table border=\"1\" class=\"dataframe\">\n",
       "  <thead>\n",
       "    <tr style=\"text-align: right;\">\n",
       "      <th></th>\n",
       "      <th>name</th>\n",
       "    </tr>\n",
       "  </thead>\n",
       "  <tbody>\n",
       "    <tr>\n",
       "      <th>0</th>\n",
       "      <td>George Washington</td>\n",
       "    </tr>\n",
       "    <tr>\n",
       "      <th>1</th>\n",
       "      <td>John Adams</td>\n",
       "    </tr>\n",
       "    <tr>\n",
       "      <th>2</th>\n",
       "      <td>Thomas Jefferson</td>\n",
       "    </tr>\n",
       "    <tr>\n",
       "      <th>3</th>\n",
       "      <td>James Madison</td>\n",
       "    </tr>\n",
       "    <tr>\n",
       "      <th>4</th>\n",
       "      <td>James Monroe</td>\n",
       "    </tr>\n",
       "    <tr>\n",
       "      <th>5</th>\n",
       "      <td>John Quincy Adams</td>\n",
       "    </tr>\n",
       "    <tr>\n",
       "      <th>6</th>\n",
       "      <td>Andrew Jackson</td>\n",
       "    </tr>\n",
       "    <tr>\n",
       "      <th>7</th>\n",
       "      <td>Martin Van Buren</td>\n",
       "    </tr>\n",
       "    <tr>\n",
       "      <th>8</th>\n",
       "      <td>William Henry Harrison</td>\n",
       "    </tr>\n",
       "    <tr>\n",
       "      <th>9</th>\n",
       "      <td>John Tyler</td>\n",
       "    </tr>\n",
       "    <tr>\n",
       "      <th>10</th>\n",
       "      <td>James K. Polk</td>\n",
       "    </tr>\n",
       "    <tr>\n",
       "      <th>11</th>\n",
       "      <td>Zachary Taylor</td>\n",
       "    </tr>\n",
       "    <tr>\n",
       "      <th>12</th>\n",
       "      <td>Millard Fillmore</td>\n",
       "    </tr>\n",
       "    <tr>\n",
       "      <th>13</th>\n",
       "      <td>Franklin Pierce</td>\n",
       "    </tr>\n",
       "    <tr>\n",
       "      <th>14</th>\n",
       "      <td>James Buchanan</td>\n",
       "    </tr>\n",
       "    <tr>\n",
       "      <th>15</th>\n",
       "      <td>Abraham Lincoln</td>\n",
       "    </tr>\n",
       "    <tr>\n",
       "      <th>16</th>\n",
       "      <td>Andrew Johnson</td>\n",
       "    </tr>\n",
       "    <tr>\n",
       "      <th>17</th>\n",
       "      <td>Ulysses S. Grant</td>\n",
       "    </tr>\n",
       "    <tr>\n",
       "      <th>18</th>\n",
       "      <td>Rutherford B. Hayes</td>\n",
       "    </tr>\n",
       "    <tr>\n",
       "      <th>19</th>\n",
       "      <td>James A. Garfield</td>\n",
       "    </tr>\n",
       "    <tr>\n",
       "      <th>20</th>\n",
       "      <td>Chester A. Arthur</td>\n",
       "    </tr>\n",
       "    <tr>\n",
       "      <th>21</th>\n",
       "      <td>Benjamin Harrison</td>\n",
       "    </tr>\n",
       "    <tr>\n",
       "      <th>22</th>\n",
       "      <td>William McKinley</td>\n",
       "    </tr>\n",
       "    <tr>\n",
       "      <th>23</th>\n",
       "      <td>Theodore Roosevelt</td>\n",
       "    </tr>\n",
       "    <tr>\n",
       "      <th>24</th>\n",
       "      <td>William Howard Taft</td>\n",
       "    </tr>\n",
       "    <tr>\n",
       "      <th>25</th>\n",
       "      <td>Woodrow Wilson</td>\n",
       "    </tr>\n",
       "    <tr>\n",
       "      <th>26</th>\n",
       "      <td>Warren G. Harding</td>\n",
       "    </tr>\n",
       "    <tr>\n",
       "      <th>27</th>\n",
       "      <td>Calvin Coolidge</td>\n",
       "    </tr>\n",
       "    <tr>\n",
       "      <th>28</th>\n",
       "      <td>Herbert Hoover</td>\n",
       "    </tr>\n",
       "    <tr>\n",
       "      <th>29</th>\n",
       "      <td>Franklin D. Roosevelt</td>\n",
       "    </tr>\n",
       "    <tr>\n",
       "      <th>30</th>\n",
       "      <td>Harry S. Truman</td>\n",
       "    </tr>\n",
       "    <tr>\n",
       "      <th>31</th>\n",
       "      <td>Dwight D. Eisenhower</td>\n",
       "    </tr>\n",
       "    <tr>\n",
       "      <th>32</th>\n",
       "      <td>John F. Kennedy</td>\n",
       "    </tr>\n",
       "    <tr>\n",
       "      <th>33</th>\n",
       "      <td>Lyndon B. Johnson</td>\n",
       "    </tr>\n",
       "    <tr>\n",
       "      <th>34</th>\n",
       "      <td>Richard Nixon</td>\n",
       "    </tr>\n",
       "    <tr>\n",
       "      <th>35</th>\n",
       "      <td>Gerald Ford</td>\n",
       "    </tr>\n",
       "    <tr>\n",
       "      <th>36</th>\n",
       "      <td>Jimmy Carter</td>\n",
       "    </tr>\n",
       "    <tr>\n",
       "      <th>37</th>\n",
       "      <td>Ronald Reagan</td>\n",
       "    </tr>\n",
       "    <tr>\n",
       "      <th>38</th>\n",
       "      <td>George H. W. Bush</td>\n",
       "    </tr>\n",
       "    <tr>\n",
       "      <th>39</th>\n",
       "      <td>Bill Clinton</td>\n",
       "    </tr>\n",
       "    <tr>\n",
       "      <th>40</th>\n",
       "      <td>George W. Bush</td>\n",
       "    </tr>\n",
       "    <tr>\n",
       "      <th>41</th>\n",
       "      <td>Barack Obama</td>\n",
       "    </tr>\n",
       "  </tbody>\n",
       "</table>\n",
       "</div>"
      ],
      "text/plain": [
       "                      name\n",
       "0        George Washington\n",
       "1               John Adams\n",
       "2         Thomas Jefferson\n",
       "3            James Madison\n",
       "4             James Monroe\n",
       "5        John Quincy Adams\n",
       "6           Andrew Jackson\n",
       "7         Martin Van Buren\n",
       "8   William Henry Harrison\n",
       "9               John Tyler\n",
       "10           James K. Polk\n",
       "11          Zachary Taylor\n",
       "12        Millard Fillmore\n",
       "13         Franklin Pierce\n",
       "14          James Buchanan\n",
       "15         Abraham Lincoln\n",
       "16          Andrew Johnson\n",
       "17        Ulysses S. Grant\n",
       "18     Rutherford B. Hayes\n",
       "19       James A. Garfield\n",
       "20       Chester A. Arthur\n",
       "21       Benjamin Harrison\n",
       "22        William McKinley\n",
       "23      Theodore Roosevelt\n",
       "24     William Howard Taft\n",
       "25          Woodrow Wilson\n",
       "26       Warren G. Harding\n",
       "27         Calvin Coolidge\n",
       "28          Herbert Hoover\n",
       "29   Franklin D. Roosevelt\n",
       "30         Harry S. Truman\n",
       "31    Dwight D. Eisenhower\n",
       "32         John F. Kennedy\n",
       "33       Lyndon B. Johnson\n",
       "34           Richard Nixon\n",
       "35             Gerald Ford\n",
       "36            Jimmy Carter\n",
       "37           Ronald Reagan\n",
       "38       George H. W. Bush\n",
       "39            Bill Clinton\n",
       "40          George W. Bush\n",
       "41            Barack Obama"
      ]
     },
     "execution_count": 22,
     "metadata": {},
     "output_type": "execute_result"
    }
   ],
   "source": [
    "data[['name']]\n"
   ]
  },
  {
   "cell_type": "code",
   "execution_count": 23,
   "metadata": {},
   "outputs": [
    {
     "name": "stdout",
     "output_type": "stream",
     "text": [
      "    order                    name  height\n",
      "0       1       George Washington     189\n",
      "1       2              John Adams     170\n",
      "2       3        Thomas Jefferson     189\n",
      "3       4           James Madison     163\n",
      "4       5            James Monroe     183\n",
      "5       6       John Quincy Adams     171\n",
      "6       7          Andrew Jackson     185\n",
      "7       8        Martin Van Buren     168\n",
      "8       9  William Henry Harrison     173\n",
      "9      10              John Tyler     183\n",
      "10     11           James K. Polk     173\n",
      "11     12          Zachary Taylor     173\n",
      "12     13        Millard Fillmore     175\n",
      "13     14         Franklin Pierce     178\n",
      "14     15          James Buchanan     183\n",
      "15     16         Abraham Lincoln     193\n",
      "16     17          Andrew Johnson     178\n",
      "17     18        Ulysses S. Grant     173\n",
      "18     19     Rutherford B. Hayes     174\n",
      "19     20       James A. Garfield     183\n",
      "20     21       Chester A. Arthur     183\n",
      "21     23       Benjamin Harrison     168\n",
      "22     25        William McKinley     170\n",
      "23     26      Theodore Roosevelt     178\n",
      "24     27     William Howard Taft     182\n",
      "25     28          Woodrow Wilson     180\n",
      "26     29       Warren G. Harding     183\n",
      "27     30         Calvin Coolidge     178\n",
      "28     31          Herbert Hoover     182\n",
      "29     32   Franklin D. Roosevelt     188\n",
      "30     33         Harry S. Truman     175\n",
      "31     34    Dwight D. Eisenhower     179\n",
      "32     35         John F. Kennedy     183\n",
      "33     36       Lyndon B. Johnson     193\n",
      "34     37           Richard Nixon     182\n",
      "35     38             Gerald Ford     183\n",
      "36     39            Jimmy Carter     177\n",
      "37     40           Ronald Reagan     185\n",
      "38     41       George H. W. Bush     188\n",
      "39     42            Bill Clinton     188\n",
      "40     43          George W. Bush     182\n",
      "41     44            Barack Obama     185\n"
     ]
    }
   ],
   "source": [
    "print(data[['order', 'name', 'height']])"
   ]
  },
  {
   "cell_type": "code",
   "execution_count": 24,
   "metadata": {},
   "outputs": [
    {
     "name": "stdout",
     "output_type": "stream",
     "text": [
      "    order                    name  height\n",
      "0       1       George Washington     189\n",
      "1       2              John Adams     170\n",
      "2       3        Thomas Jefferson     189\n",
      "3       4           James Madison     163\n",
      "4       5            James Monroe     183\n",
      "5       6       John Quincy Adams     171\n",
      "6       7          Andrew Jackson     185\n",
      "7       8        Martin Van Buren     168\n",
      "8       9  William Henry Harrison     173\n",
      "9      10              John Tyler     183\n",
      "10     11           James K. Polk     173\n",
      "11     12          Zachary Taylor     173\n",
      "12     13        Millard Fillmore     175\n",
      "13     14         Franklin Pierce     178\n",
      "14     15          James Buchanan     183\n",
      "15     16         Abraham Lincoln     193\n",
      "16     17          Andrew Johnson     178\n",
      "17     18        Ulysses S. Grant     173\n",
      "18     19     Rutherford B. Hayes     174\n",
      "19     20       James A. Garfield     183\n",
      "20     21       Chester A. Arthur     183\n",
      "21     23       Benjamin Harrison     168\n",
      "22     25        William McKinley     170\n",
      "23     26      Theodore Roosevelt     178\n",
      "24     27     William Howard Taft     182\n",
      "25     28          Woodrow Wilson     180\n",
      "26     29       Warren G. Harding     183\n",
      "27     30         Calvin Coolidge     178\n",
      "28     31          Herbert Hoover     182\n",
      "29     32   Franklin D. Roosevelt     188\n",
      "30     33         Harry S. Truman     175\n",
      "31     34    Dwight D. Eisenhower     179\n",
      "32     35         John F. Kennedy     183\n",
      "33     36       Lyndon B. Johnson     193\n",
      "34     37           Richard Nixon     182\n",
      "35     38             Gerald Ford     183\n",
      "36     39            Jimmy Carter     177\n",
      "37     40           Ronald Reagan     185\n",
      "38     41       George H. W. Bush     188\n",
      "39     42            Bill Clinton     188\n",
      "40     43          George W. Bush     182\n",
      "41     44            Barack Obama     185\n"
     ]
    }
   ],
   "source": [
    "cols = ['order', 'name', 'height']\n",
    "print(data[cols])"
   ]
  },
  {
   "cell_type": "code",
   "execution_count": 25,
   "metadata": {},
   "outputs": [
    {
     "name": "stdout",
     "output_type": "stream",
     "text": [
      "                                      doc\n",
      "0  오늘 영희가 '제가 제일 일찍 일어났어요!'하며 가족들을 웃게 하였다\n",
      "1                           나도 그 일을 알고 있다\n",
      "2        설악산을 다녀온 사람마다 \"역시 멋지다\"라는 반응을 보인다\n",
      "                                      doc\n",
      "0  오늘 영희가 '제가 제일 일찍 일어났어요!'하며 가족들을 웃게 하였다\n",
      "1                           나도 그 일을 알고 있다\n",
      "2    \"설악산을 다녀온 사람마다 \"\"역시 멋지다\"\"라는 반응을 보인다\"\n"
     ]
    }
   ],
   "source": [
    "data = pd.read_csv(path+'따옴표문서.csv', encoding='cp949', header=0)\n",
    "print(data)\n",
    "data = pd.read_csv(path+'따옴표문서.csv', encoding='cp949', quoting=3, header=0)\n",
    "print(data)"
   ]
  },
  {
   "cell_type": "code",
   "execution_count": 27,
   "metadata": {},
   "outputs": [
    {
     "data": {
      "text/plain": [
       "1    a\n",
       "3    b\n",
       "5    c\n",
       "dtype: object"
      ]
     },
     "execution_count": 27,
     "metadata": {},
     "output_type": "execute_result"
    }
   ],
   "source": [
    "data = pd.Series(['a', 'b', 'c'], index=[1, 3, 5])\n",
    "data"
   ]
  },
  {
   "cell_type": "code",
   "execution_count": 28,
   "metadata": {},
   "outputs": [
    {
     "data": {
      "text/plain": [
       "'a'"
      ]
     },
     "execution_count": 28,
     "metadata": {},
     "output_type": "execute_result"
    }
   ],
   "source": [
    "data[1]"
   ]
  },
  {
   "cell_type": "code",
   "execution_count": 29,
   "metadata": {},
   "outputs": [
    {
     "data": {
      "text/plain": [
       "3    b\n",
       "5    c\n",
       "dtype: object"
      ]
     },
     "execution_count": 29,
     "metadata": {},
     "output_type": "execute_result"
    }
   ],
   "source": [
    "data[1:3]"
   ]
  },
  {
   "cell_type": "code",
   "execution_count": 32,
   "metadata": {},
   "outputs": [
    {
     "name": "stdout",
     "output_type": "stream",
     "text": [
      "1    a\n",
      "3    b\n",
      "5    c\n",
      "dtype: object\n",
      "\n",
      "a\n",
      "\n",
      "1    a\n",
      "3    b\n",
      "dtype: object\n",
      "\n",
      "b\n",
      "\n",
      "3    b\n",
      "5    c\n",
      "dtype: object\n"
     ]
    }
   ],
   "source": [
    "print(data)\n",
    "print()\n",
    "\n",
    "print(data.loc[1])\n",
    "print()\n",
    "print(data.loc[1:3])\n",
    "print()\n",
    "\n",
    "print(data.iloc[1])\n",
    "print()\n",
    "\n",
    "print(data.iloc[1:3]) "
   ]
  },
  {
   "cell_type": "code",
   "execution_count": 34,
   "metadata": {},
   "outputs": [
    {
     "name": "stdout",
     "output_type": "stream",
     "text": [
      "   order               name  height\n",
      "0      1  George Washington     189\n",
      "1      2         John Adams     170\n",
      "2      3   Thomas Jefferson     189\n",
      "3      4      James Madison     163\n",
      "4      5       James Monroe     183\n",
      "order                    3\n",
      "name      Thomas Jefferson\n",
      "height                 189\n",
      "Name: 2, dtype: object\n",
      "\n",
      "   order              name  height\n",
      "1      2        John Adams     170\n",
      "2      3  Thomas Jefferson     189\n",
      "3      4     James Madison     163\n",
      "\n",
      "order                    3\n",
      "name      Thomas Jefferson\n",
      "height                 189\n",
      "Name: 2, dtype: object\n",
      "\n",
      "   order              name  height\n",
      "1      2        John Adams     170\n",
      "2      3  Thomas Jefferson     189\n"
     ]
    }
   ],
   "source": [
    "data = pd.read_csv(path+'presidents_heights.csv', encoding=\"UTF8\")\n",
    "print(data.head())\n",
    "print(data.loc[2])\n",
    "print()\n",
    "print(data.loc[1:3])\n",
    "print()\n",
    "\n",
    "print(data.iloc[2])\n",
    "print()\n",
    "\n",
    "print(data.iloc[1:3])"
   ]
  },
  {
   "cell_type": "code",
   "execution_count": 37,
   "metadata": {},
   "outputs": [
    {
     "data": {
      "text/html": [
       "<div>\n",
       "<style scoped>\n",
       "    .dataframe tbody tr th:only-of-type {\n",
       "        vertical-align: middle;\n",
       "    }\n",
       "\n",
       "    .dataframe tbody tr th {\n",
       "        vertical-align: top;\n",
       "    }\n",
       "\n",
       "    .dataframe thead th {\n",
       "        text-align: right;\n",
       "    }\n",
       "</style>\n",
       "<table border=\"1\" class=\"dataframe\">\n",
       "  <thead>\n",
       "    <tr style=\"text-align: right;\">\n",
       "      <th></th>\n",
       "      <th>name</th>\n",
       "      <th>height</th>\n",
       "    </tr>\n",
       "  </thead>\n",
       "  <tbody>\n",
       "    <tr>\n",
       "      <th>0</th>\n",
       "      <td>George Washington</td>\n",
       "      <td>189</td>\n",
       "    </tr>\n",
       "    <tr>\n",
       "      <th>1</th>\n",
       "      <td>John Adams</td>\n",
       "      <td>170</td>\n",
       "    </tr>\n",
       "    <tr>\n",
       "      <th>2</th>\n",
       "      <td>Thomas Jefferson</td>\n",
       "      <td>189</td>\n",
       "    </tr>\n",
       "  </tbody>\n",
       "</table>\n",
       "</div>"
      ],
      "text/plain": [
       "                name  height\n",
       "0  George Washington     189\n",
       "1         John Adams     170\n",
       "2   Thomas Jefferson     189"
      ]
     },
     "metadata": {},
     "output_type": "display_data"
    },
    {
     "data": {
      "text/html": [
       "<div>\n",
       "<style scoped>\n",
       "    .dataframe tbody tr th:only-of-type {\n",
       "        vertical-align: middle;\n",
       "    }\n",
       "\n",
       "    .dataframe tbody tr th {\n",
       "        vertical-align: top;\n",
       "    }\n",
       "\n",
       "    .dataframe thead th {\n",
       "        text-align: right;\n",
       "    }\n",
       "</style>\n",
       "<table border=\"1\" class=\"dataframe\">\n",
       "  <thead>\n",
       "    <tr style=\"text-align: right;\">\n",
       "      <th></th>\n",
       "      <th>name</th>\n",
       "    </tr>\n",
       "  </thead>\n",
       "  <tbody>\n",
       "    <tr>\n",
       "      <th>0</th>\n",
       "      <td>George Washington</td>\n",
       "    </tr>\n",
       "    <tr>\n",
       "      <th>1</th>\n",
       "      <td>John Adams</td>\n",
       "    </tr>\n",
       "    <tr>\n",
       "      <th>2</th>\n",
       "      <td>Thomas Jefferson</td>\n",
       "    </tr>\n",
       "  </tbody>\n",
       "</table>\n",
       "</div>"
      ],
      "text/plain": [
       "                name\n",
       "0  George Washington\n",
       "1         John Adams\n",
       "2   Thomas Jefferson"
      ]
     },
     "metadata": {},
     "output_type": "display_data"
    },
    {
     "data": {
      "text/html": [
       "<div>\n",
       "<style scoped>\n",
       "    .dataframe tbody tr th:only-of-type {\n",
       "        vertical-align: middle;\n",
       "    }\n",
       "\n",
       "    .dataframe tbody tr th {\n",
       "        vertical-align: top;\n",
       "    }\n",
       "\n",
       "    .dataframe thead th {\n",
       "        text-align: right;\n",
       "    }\n",
       "</style>\n",
       "<table border=\"1\" class=\"dataframe\">\n",
       "  <thead>\n",
       "    <tr style=\"text-align: right;\">\n",
       "      <th></th>\n",
       "      <th>name</th>\n",
       "      <th>height</th>\n",
       "    </tr>\n",
       "  </thead>\n",
       "  <tbody>\n",
       "    <tr>\n",
       "      <th>0</th>\n",
       "      <td>George Washington</td>\n",
       "      <td>189</td>\n",
       "    </tr>\n",
       "    <tr>\n",
       "      <th>1</th>\n",
       "      <td>John Adams</td>\n",
       "      <td>170</td>\n",
       "    </tr>\n",
       "    <tr>\n",
       "      <th>2</th>\n",
       "      <td>Thomas Jefferson</td>\n",
       "      <td>189</td>\n",
       "    </tr>\n",
       "  </tbody>\n",
       "</table>\n",
       "</div>"
      ],
      "text/plain": [
       "                name  height\n",
       "0  George Washington     189\n",
       "1         John Adams     170\n",
       "2   Thomas Jefferson     189"
      ]
     },
     "metadata": {},
     "output_type": "display_data"
    },
    {
     "data": {
      "text/html": [
       "<div>\n",
       "<style scoped>\n",
       "    .dataframe tbody tr th:only-of-type {\n",
       "        vertical-align: middle;\n",
       "    }\n",
       "\n",
       "    .dataframe tbody tr th {\n",
       "        vertical-align: top;\n",
       "    }\n",
       "\n",
       "    .dataframe thead th {\n",
       "        text-align: right;\n",
       "    }\n",
       "</style>\n",
       "<table border=\"1\" class=\"dataframe\">\n",
       "  <thead>\n",
       "    <tr style=\"text-align: right;\">\n",
       "      <th></th>\n",
       "      <th>name</th>\n",
       "    </tr>\n",
       "  </thead>\n",
       "  <tbody>\n",
       "    <tr>\n",
       "      <th>0</th>\n",
       "      <td>George Washington</td>\n",
       "    </tr>\n",
       "    <tr>\n",
       "      <th>1</th>\n",
       "      <td>John Adams</td>\n",
       "    </tr>\n",
       "    <tr>\n",
       "      <th>2</th>\n",
       "      <td>Thomas Jefferson</td>\n",
       "    </tr>\n",
       "  </tbody>\n",
       "</table>\n",
       "</div>"
      ],
      "text/plain": [
       "                name\n",
       "0  George Washington\n",
       "1         John Adams\n",
       "2   Thomas Jefferson"
      ]
     },
     "metadata": {},
     "output_type": "display_data"
    }
   ],
   "source": [
    "data1 = data[['name', 'height']] \n",
    "data2 = data[data.columns[1:2]]\n",
    "data3 = data.loc[:, 'name':'height']\n",
    "data4 = data.iloc[:, 1:2]\n",
    "display(data1.head(3))\n",
    "display(data2.head(3))\n",
    "display(data3.head(3))\n",
    "display(data4.head(3))"
   ]
  },
  {
   "cell_type": "code",
   "execution_count": 38,
   "metadata": {},
   "outputs": [
    {
     "name": "stdout",
     "output_type": "stream",
     "text": [
      "0          George Washington\n",
      "1                 John Adams\n",
      "2           Thomas Jefferson\n",
      "3              James Madison\n",
      "4               James Monroe\n",
      "5          John Quincy Adams\n",
      "6             Andrew Jackson\n",
      "7           Martin Van Buren\n",
      "8     William Henry Harrison\n",
      "9                 John Tyler\n",
      "10             James K. Polk\n",
      "11            Zachary Taylor\n",
      "12          Millard Fillmore\n",
      "13           Franklin Pierce\n",
      "14            James Buchanan\n",
      "15           Abraham Lincoln\n",
      "16            Andrew Johnson\n",
      "17          Ulysses S. Grant\n",
      "18       Rutherford B. Hayes\n",
      "19         James A. Garfield\n",
      "20         Chester A. Arthur\n",
      "21         Benjamin Harrison\n",
      "22          William McKinley\n",
      "23        Theodore Roosevelt\n",
      "24       William Howard Taft\n",
      "25            Woodrow Wilson\n",
      "26         Warren G. Harding\n",
      "27           Calvin Coolidge\n",
      "28            Herbert Hoover\n",
      "29     Franklin D. Roosevelt\n",
      "30           Harry S. Truman\n",
      "31      Dwight D. Eisenhower\n",
      "32           John F. Kennedy\n",
      "33         Lyndon B. Johnson\n",
      "34             Richard Nixon\n",
      "35               Gerald Ford\n",
      "36              Jimmy Carter\n",
      "37             Ronald Reagan\n",
      "38         George H. W. Bush\n",
      "39              Bill Clinton\n",
      "40            George W. Bush\n",
      "41              Barack Obama\n",
      "Name: name, dtype: object\n",
      "                      name  height\n",
      "0        George Washington     189\n",
      "1               John Adams     170\n",
      "2         Thomas Jefferson     189\n",
      "3            James Madison     163\n",
      "4             James Monroe     183\n",
      "5        John Quincy Adams     171\n",
      "6           Andrew Jackson     185\n",
      "7         Martin Van Buren     168\n",
      "8   William Henry Harrison     173\n",
      "9               John Tyler     183\n",
      "10           James K. Polk     173\n",
      "11          Zachary Taylor     173\n",
      "12        Millard Fillmore     175\n",
      "13         Franklin Pierce     178\n",
      "14          James Buchanan     183\n",
      "15         Abraham Lincoln     193\n",
      "16          Andrew Johnson     178\n",
      "17        Ulysses S. Grant     173\n",
      "18     Rutherford B. Hayes     174\n",
      "19       James A. Garfield     183\n",
      "20       Chester A. Arthur     183\n",
      "21       Benjamin Harrison     168\n",
      "22        William McKinley     170\n",
      "23      Theodore Roosevelt     178\n",
      "24     William Howard Taft     182\n",
      "25          Woodrow Wilson     180\n",
      "26       Warren G. Harding     183\n",
      "27         Calvin Coolidge     178\n",
      "28          Herbert Hoover     182\n",
      "29   Franklin D. Roosevelt     188\n",
      "30         Harry S. Truman     175\n",
      "31    Dwight D. Eisenhower     179\n",
      "32         John F. Kennedy     183\n",
      "33       Lyndon B. Johnson     193\n",
      "34           Richard Nixon     182\n",
      "35             Gerald Ford     183\n",
      "36            Jimmy Carter     177\n",
      "37           Ronald Reagan     185\n",
      "38       George H. W. Bush     188\n",
      "39            Bill Clinton     188\n",
      "40          George W. Bush     182\n",
      "41            Barack Obama     185\n"
     ]
    }
   ],
   "source": [
    "print(data.iloc[:, 1])\n",
    "print(data.iloc[:, [1, 2]])"
   ]
  },
  {
   "cell_type": "code",
   "execution_count": 39,
   "metadata": {},
   "outputs": [
    {
     "name": "stdout",
     "output_type": "stream",
     "text": [
      "   order               name  height\n",
      "0      1  George Washington     189\n",
      "1      2         John Adams     170\n",
      "2      3   Thomas Jefferson     189\n",
      "0    George Washington\n",
      "1           John Adams\n",
      "2     Thomas Jefferson\n",
      "Name: name, dtype: object\n",
      "                name  height\n",
      "0  George Washington     189\n",
      "1         John Adams     170\n",
      "2   Thomas Jefferson     189\n"
     ]
    }
   ],
   "source": [
    "print(data.iloc[0:3, :])\n",
    "print(data.iloc[0:3, 1])\n",
    "print(data.iloc[0:3, 1:3]) "
   ]
  },
  {
   "cell_type": "code",
   "execution_count": 42,
   "metadata": {},
   "outputs": [
    {
     "data": {
      "text/html": [
       "<div>\n",
       "<style scoped>\n",
       "    .dataframe tbody tr th:only-of-type {\n",
       "        vertical-align: middle;\n",
       "    }\n",
       "\n",
       "    .dataframe tbody tr th {\n",
       "        vertical-align: top;\n",
       "    }\n",
       "\n",
       "    .dataframe thead th {\n",
       "        text-align: right;\n",
       "    }\n",
       "</style>\n",
       "<table border=\"1\" class=\"dataframe\">\n",
       "  <thead>\n",
       "    <tr style=\"text-align: right;\">\n",
       "      <th></th>\n",
       "      <th>id</th>\n",
       "      <th>name</th>\n",
       "      <th>gender</th>\n",
       "      <th>sales</th>\n",
       "    </tr>\n",
       "  </thead>\n",
       "  <tbody>\n",
       "    <tr>\n",
       "      <th>0</th>\n",
       "      <td>1</td>\n",
       "      <td>김원경</td>\n",
       "      <td>F</td>\n",
       "      <td>1000</td>\n",
       "    </tr>\n",
       "    <tr>\n",
       "      <th>1</th>\n",
       "      <td>2</td>\n",
       "      <td>박찬웅</td>\n",
       "      <td>M</td>\n",
       "      <td>2000</td>\n",
       "    </tr>\n",
       "  </tbody>\n",
       "</table>\n",
       "</div>"
      ],
      "text/plain": [
       "   id name gender  sales\n",
       "0   1  김원경      F   1000\n",
       "1   2  박찬웅      M   2000"
      ]
     },
     "execution_count": 42,
     "metadata": {},
     "output_type": "execute_result"
    }
   ],
   "source": [
    "import pandas as pd\n",
    "sales = pd.read_csv(path+\"sales_result.csv\", encoding='cp949')\n",
    "sales.head(2)"
   ]
  },
  {
   "cell_type": "code",
   "execution_count": 44,
   "metadata": {},
   "outputs": [
    {
     "data": {
      "text/html": [
       "<div>\n",
       "<style scoped>\n",
       "    .dataframe tbody tr th:only-of-type {\n",
       "        vertical-align: middle;\n",
       "    }\n",
       "\n",
       "    .dataframe tbody tr th {\n",
       "        vertical-align: top;\n",
       "    }\n",
       "\n",
       "    .dataframe thead th {\n",
       "        text-align: right;\n",
       "    }\n",
       "</style>\n",
       "<table border=\"1\" class=\"dataframe\">\n",
       "  <thead>\n",
       "    <tr style=\"text-align: right;\">\n",
       "      <th></th>\n",
       "      <th>id</th>\n",
       "      <th>name</th>\n",
       "      <th>gender</th>\n",
       "      <th>sales</th>\n",
       "    </tr>\n",
       "  </thead>\n",
       "  <tbody>\n",
       "    <tr>\n",
       "      <th>1</th>\n",
       "      <td>2</td>\n",
       "      <td>박찬웅</td>\n",
       "      <td>M</td>\n",
       "      <td>2000</td>\n",
       "    </tr>\n",
       "    <tr>\n",
       "      <th>3</th>\n",
       "      <td>4</td>\n",
       "      <td>김선영</td>\n",
       "      <td>F</td>\n",
       "      <td>2200</td>\n",
       "    </tr>\n",
       "    <tr>\n",
       "      <th>5</th>\n",
       "      <td>6</td>\n",
       "      <td>양영욱</td>\n",
       "      <td>M</td>\n",
       "      <td>2000</td>\n",
       "    </tr>\n",
       "    <tr>\n",
       "      <th>6</th>\n",
       "      <td>7</td>\n",
       "      <td>최필선</td>\n",
       "      <td>M</td>\n",
       "      <td>2200</td>\n",
       "    </tr>\n",
       "  </tbody>\n",
       "</table>\n",
       "</div>"
      ],
      "text/plain": [
       "   id name gender  sales\n",
       "1   2  박찬웅      M   2000\n",
       "3   4  김선영      F   2200\n",
       "5   6  양영욱      M   2000\n",
       "6   7  최필선      M   2200"
      ]
     },
     "execution_count": 44,
     "metadata": {},
     "output_type": "execute_result"
    }
   ],
   "source": [
    "# sales가 2000이 넘는 우수 실적 사원을 출력\n",
    "sales[sales['sales']>=2000]"
   ]
  },
  {
   "cell_type": "code",
   "execution_count": 45,
   "metadata": {},
   "outputs": [
    {
     "data": {
      "text/html": [
       "<div>\n",
       "<style scoped>\n",
       "    .dataframe tbody tr th:only-of-type {\n",
       "        vertical-align: middle;\n",
       "    }\n",
       "\n",
       "    .dataframe tbody tr th {\n",
       "        vertical-align: top;\n",
       "    }\n",
       "\n",
       "    .dataframe thead th {\n",
       "        text-align: right;\n",
       "    }\n",
       "</style>\n",
       "<table border=\"1\" class=\"dataframe\">\n",
       "  <thead>\n",
       "    <tr style=\"text-align: right;\">\n",
       "      <th></th>\n",
       "      <th>id</th>\n",
       "      <th>name</th>\n",
       "      <th>gender</th>\n",
       "      <th>sales</th>\n",
       "    </tr>\n",
       "  </thead>\n",
       "  <tbody>\n",
       "    <tr>\n",
       "      <th>0</th>\n",
       "      <td>1</td>\n",
       "      <td>김원경</td>\n",
       "      <td>F</td>\n",
       "      <td>1000</td>\n",
       "    </tr>\n",
       "    <tr>\n",
       "      <th>2</th>\n",
       "      <td>3</td>\n",
       "      <td>조해선</td>\n",
       "      <td>F</td>\n",
       "      <td>1500</td>\n",
       "    </tr>\n",
       "    <tr>\n",
       "      <th>3</th>\n",
       "      <td>4</td>\n",
       "      <td>김선영</td>\n",
       "      <td>F</td>\n",
       "      <td>2200</td>\n",
       "    </tr>\n",
       "    <tr>\n",
       "      <th>4</th>\n",
       "      <td>5</td>\n",
       "      <td>이화영</td>\n",
       "      <td>F</td>\n",
       "      <td>1700</td>\n",
       "    </tr>\n",
       "  </tbody>\n",
       "</table>\n",
       "</div>"
      ],
      "text/plain": [
       "   id name gender  sales\n",
       "0   1  김원경      F   1000\n",
       "2   3  조해선      F   1500\n",
       "3   4  김선영      F   2200\n",
       "4   5  이화영      F   1700"
      ]
     },
     "execution_count": 45,
     "metadata": {},
     "output_type": "execute_result"
    }
   ],
   "source": [
    "# 여자 사원을 출력\n",
    "sales[sales['gender']==\"F\"]"
   ]
  },
  {
   "cell_type": "code",
   "execution_count": 46,
   "metadata": {},
   "outputs": [
    {
     "data": {
      "text/html": [
       "<div>\n",
       "<style scoped>\n",
       "    .dataframe tbody tr th:only-of-type {\n",
       "        vertical-align: middle;\n",
       "    }\n",
       "\n",
       "    .dataframe tbody tr th {\n",
       "        vertical-align: top;\n",
       "    }\n",
       "\n",
       "    .dataframe thead th {\n",
       "        text-align: right;\n",
       "    }\n",
       "</style>\n",
       "<table border=\"1\" class=\"dataframe\">\n",
       "  <thead>\n",
       "    <tr style=\"text-align: right;\">\n",
       "      <th></th>\n",
       "      <th>id</th>\n",
       "      <th>name</th>\n",
       "      <th>gender</th>\n",
       "      <th>sales</th>\n",
       "    </tr>\n",
       "  </thead>\n",
       "  <tbody>\n",
       "    <tr>\n",
       "      <th>3</th>\n",
       "      <td>4</td>\n",
       "      <td>김선영</td>\n",
       "      <td>F</td>\n",
       "      <td>2200</td>\n",
       "    </tr>\n",
       "  </tbody>\n",
       "</table>\n",
       "</div>"
      ],
      "text/plain": [
       "   id name gender  sales\n",
       "3   4  김선영      F   2200"
      ]
     },
     "execution_count": 46,
     "metadata": {},
     "output_type": "execute_result"
    }
   ],
   "source": [
    "# sales가 2000 이상인 우수 여자 사원 출력\n",
    "sales[(sales['sales']>=2000) & (sales['gender']==\"F\")]"
   ]
  },
  {
   "cell_type": "code",
   "execution_count": 47,
   "metadata": {},
   "outputs": [
    {
     "data": {
      "text/html": [
       "<div>\n",
       "<style scoped>\n",
       "    .dataframe tbody tr th:only-of-type {\n",
       "        vertical-align: middle;\n",
       "    }\n",
       "\n",
       "    .dataframe tbody tr th {\n",
       "        vertical-align: top;\n",
       "    }\n",
       "\n",
       "    .dataframe thead th {\n",
       "        text-align: right;\n",
       "    }\n",
       "</style>\n",
       "<table border=\"1\" class=\"dataframe\">\n",
       "  <thead>\n",
       "    <tr style=\"text-align: right;\">\n",
       "      <th></th>\n",
       "      <th>id</th>\n",
       "      <th>name</th>\n",
       "      <th>gender</th>\n",
       "      <th>sales</th>\n",
       "    </tr>\n",
       "  </thead>\n",
       "  <tbody>\n",
       "    <tr>\n",
       "      <th>0</th>\n",
       "      <td>1</td>\n",
       "      <td>김원경</td>\n",
       "      <td>F</td>\n",
       "      <td>1000</td>\n",
       "    </tr>\n",
       "    <tr>\n",
       "      <th>1</th>\n",
       "      <td>2</td>\n",
       "      <td>박찬웅</td>\n",
       "      <td>M</td>\n",
       "      <td>2000</td>\n",
       "    </tr>\n",
       "    <tr>\n",
       "      <th>2</th>\n",
       "      <td>3</td>\n",
       "      <td>조해선</td>\n",
       "      <td>F</td>\n",
       "      <td>1500</td>\n",
       "    </tr>\n",
       "    <tr>\n",
       "      <th>3</th>\n",
       "      <td>4</td>\n",
       "      <td>김선영</td>\n",
       "      <td>F</td>\n",
       "      <td>2200</td>\n",
       "    </tr>\n",
       "    <tr>\n",
       "      <th>4</th>\n",
       "      <td>5</td>\n",
       "      <td>이화영</td>\n",
       "      <td>F</td>\n",
       "      <td>1700</td>\n",
       "    </tr>\n",
       "    <tr>\n",
       "      <th>5</th>\n",
       "      <td>6</td>\n",
       "      <td>양영욱</td>\n",
       "      <td>M</td>\n",
       "      <td>2000</td>\n",
       "    </tr>\n",
       "    <tr>\n",
       "      <th>6</th>\n",
       "      <td>7</td>\n",
       "      <td>최필선</td>\n",
       "      <td>M</td>\n",
       "      <td>2200</td>\n",
       "    </tr>\n",
       "  </tbody>\n",
       "</table>\n",
       "</div>"
      ],
      "text/plain": [
       "   id name gender  sales\n",
       "0   1  김원경      F   1000\n",
       "1   2  박찬웅      M   2000\n",
       "2   3  조해선      F   1500\n",
       "3   4  김선영      F   2200\n",
       "4   5  이화영      F   1700\n",
       "5   6  양영욱      M   2000\n",
       "6   7  최필선      M   2200"
      ]
     },
     "execution_count": 47,
     "metadata": {},
     "output_type": "execute_result"
    }
   ],
   "source": [
    "# sales가 2000 이상인 우수 여자 사원 출력\n",
    "sales[(sales['sales']>=2000) | (sales['gender']==\"F\")]"
   ]
  },
  {
   "cell_type": "code",
   "execution_count": 48,
   "metadata": {},
   "outputs": [
    {
     "name": "stdout",
     "output_type": "stream",
     "text": [
      "   도시    인구\n",
      "0  서울  9705\n",
      "1  부산  3400\n",
      "2  대구  2450\n",
      "3  인천  2939\n",
      "4  광주  1493\n",
      "*****\n",
      "      도시     인구\n",
      "0  False  False\n",
      "1  False  False\n",
      "2  False  False\n",
      "3  False  False\n",
      "4  False  False\n",
      "*****\n",
      "     도시    인구\n",
      "0  True  True\n",
      "1  True  True\n",
      "2  True  True\n",
      "3  True  True\n",
      "4  True  True\n"
     ]
    }
   ],
   "source": [
    "x = pd.read_csv(path+'도시인구.csv', encoding=\"euc-kr\")\n",
    "print(x)\n",
    "print(\"*****\")\n",
    "print(pd.isnull(x))\n",
    "print(\"*****\")\n",
    "print(pd.notnull(x))"
   ]
  },
  {
   "cell_type": "code",
   "execution_count": 49,
   "metadata": {},
   "outputs": [
    {
     "name": "stdout",
     "output_type": "stream",
     "text": [
      "0     kim\n",
      "1     NaN\n",
      "2     lee\n",
      "3    None\n",
      "4     cho\n",
      "5     bae\n",
      "dtype: object\n",
      "***** isnull *****\n",
      "0    False\n",
      "1     True\n",
      "2    False\n",
      "3     True\n",
      "4    False\n",
      "5    False\n",
      "dtype: bool\n",
      "***** dropna *****\n",
      "0    kim\n",
      "2    lee\n",
      "4    cho\n",
      "5    bae\n",
      "dtype: object\n",
      "***** fillna *****\n",
      "0     kim\n",
      "1    TEST\n",
      "2     lee\n",
      "3    TEST\n",
      "4     cho\n",
      "5     bae\n",
      "dtype: object\n"
     ]
    }
   ],
   "source": [
    "s = pd.Series([\"kim\", np.nan, \"lee\", None, \"cho\", \"bae\"])\n",
    "print(s)\n",
    "print(\"***** isnull *****\")\n",
    "print(s.isnull())\n",
    "print(\"***** dropna *****\")\n",
    "print(s.dropna())\n",
    "print(\"***** fillna *****\")\n",
    "print(s.fillna(\"TEST\"))"
   ]
  },
  {
   "cell_type": "code",
   "execution_count": 50,
   "metadata": {},
   "outputs": [
    {
     "name": "stdout",
     "output_type": "stream",
     "text": [
      "   mid  report  final\n",
      "0   80      10     85\n",
      "1   90       8     70\n",
      "2   85       9     90\n",
      "*****\n",
      "   mid  report  final  bonus\n",
      "0   80      10     85      3\n",
      "1   90       8     70      5\n",
      "2   85       9     90      2\n"
     ]
    }
   ],
   "source": [
    "data = {\"mid\":[80, 90, 85], \"report\":[10, 8, 9], \"final\":[85, 70, 90]}\n",
    "df = pd.DataFrame(data)\n",
    "print(df)\n",
    "print(\"*****\")\n",
    "bonus = pd.Series([3, 5, 2])\n",
    "df[\"bonus\"] = bonus\n",
    "print(df)\n"
   ]
  },
  {
   "cell_type": "code",
   "execution_count": 52,
   "metadata": {},
   "outputs": [],
   "source": [
    "df.to_csv(path+'도시인구_처리후.tsv', sep=\"\\t\", na_rep=\"NULL\", index=False, header=True)"
   ]
  },
  {
   "cell_type": "code",
   "execution_count": 53,
   "metadata": {},
   "outputs": [
    {
     "data": {
      "text/html": [
       "<div>\n",
       "<style scoped>\n",
       "    .dataframe tbody tr th:only-of-type {\n",
       "        vertical-align: middle;\n",
       "    }\n",
       "\n",
       "    .dataframe tbody tr th {\n",
       "        vertical-align: top;\n",
       "    }\n",
       "\n",
       "    .dataframe thead th {\n",
       "        text-align: right;\n",
       "    }\n",
       "</style>\n",
       "<table border=\"1\" class=\"dataframe\">\n",
       "  <thead>\n",
       "    <tr style=\"text-align: right;\">\n",
       "      <th></th>\n",
       "      <th>mid</th>\n",
       "      <th>report</th>\n",
       "      <th>final</th>\n",
       "    </tr>\n",
       "  </thead>\n",
       "  <tbody>\n",
       "    <tr>\n",
       "      <th>0</th>\n",
       "      <td>80</td>\n",
       "      <td>10</td>\n",
       "      <td>85</td>\n",
       "    </tr>\n",
       "    <tr>\n",
       "      <th>2</th>\n",
       "      <td>85</td>\n",
       "      <td>9</td>\n",
       "      <td>90</td>\n",
       "    </tr>\n",
       "    <tr>\n",
       "      <th>1</th>\n",
       "      <td>90</td>\n",
       "      <td>8</td>\n",
       "      <td>70</td>\n",
       "    </tr>\n",
       "  </tbody>\n",
       "</table>\n",
       "</div>"
      ],
      "text/plain": [
       "   mid  report  final\n",
       "0   80      10     85\n",
       "2   85       9     90\n",
       "1   90       8     70"
      ]
     },
     "execution_count": 53,
     "metadata": {},
     "output_type": "execute_result"
    }
   ],
   "source": [
    "data = {\"mid\":[80, 90, 85], \"report\":[10, 8, 9], \"final\":[85, 70, 90]}\n",
    "df=pd.DataFrame(data)\n",
    "df.sort_values(by='mid',ascending=True)"
   ]
  },
  {
   "cell_type": "code",
   "execution_count": null,
   "metadata": {},
   "outputs": [],
   "source": []
  },
  {
   "cell_type": "code",
   "execution_count": 57,
   "metadata": {},
   "outputs": [
    {
     "data": {
      "image/png": "[encoded data removed]",
      "text/plain": [
       "<Figure size 800x200 with 1 Axes>"
      ]
     },
     "metadata": {},
     "output_type": "display_data"
    }
   ],
   "source": [
    "import matplotlib.pyplot as plt\n",
    "x = [1, 3, 5, 7, 9]\n",
    "y = [2, 4, 3, 6, 10]\n",
    "plt.figure(figsize=(8,2))\n",
    "plt.plot(x, y)\n",
    "plt.show()"
   ]
  },
  {
   "cell_type": "code",
   "execution_count": 61,
   "metadata": {},
   "outputs": [
    {
     "data": {
      "image/png": "[encoded data removed]",
      "text/plain": [
       "<Figure size 800x200 with 1 Axes>"
      ]
     },
     "metadata": {},
     "output_type": "display_data"
    }
   ],
   "source": [
    "import matplotlib.pyplot as plt\n",
    "plt.figure(figsize=(8,2))\n",
    "plt.style.use(\"seaborn\")\n",
    "x = [1, 3, 5, 7, 9]\n",
    "y = [2, 4, 3, 6, 10]\n",
    "y2 = [1, 9, 25, 49, 81]\n",
    "plt.plot(x, y, label='1')\n",
    "plt.plot(x, y2, label='1')\n",
    "plt.legend()\n",
    "plt.show()"
   ]
  },
  {
   "cell_type": "code",
   "execution_count": 62,
   "metadata": {},
   "outputs": [
    {
     "data": {
      "image/png": "[encoded data removed]",
      "text/plain": [
       "<Figure size 800x200 with 1 Axes>"
      ]
     },
     "metadata": {},
     "output_type": "display_data"
    }
   ],
   "source": [
    "import matplotlib.pyplot as plt\n",
    "plt.figure(figsize=(8,2))\n",
    "plt.style.use(\"seaborn\")\n",
    "\n",
    "def mycal(num):\n",
    "    num2 = num ** 2\n",
    "    return num2\n",
    "\n",
    "x = [1, 3, 5, 7, 9]\n",
    "y = [2, 4, 3, 6, 10]\n",
    "y2 = []\n",
    "\n",
    "for x_each in x:\n",
    "    y2.append(mycal(x_each))\n",
    "\n",
    "plt.plot(x, y, color='red')\n",
    "plt.plot(x, y2, color='darkcyan')\n",
    "plt.show()"
   ]
  },
  {
   "cell_type": "code",
   "execution_count": 63,
   "metadata": {},
   "outputs": [
    {
     "data": {
      "image/png": "[encoded data removed]",
      "text/plain": [
       "<Figure size 800x200 with 1 Axes>"
      ]
     },
     "metadata": {},
     "output_type": "display_data"
    }
   ],
   "source": [
    "import matplotlib.pyplot as plt\n",
    "plt.figure(figsize=(8,2))\n",
    "plt.style.use(\"seaborn\")\n",
    "\n",
    "def mycal(num, i):\n",
    "    num2 = num ** i\n",
    "    return num2\n",
    "\n",
    "x = [1, 3, 5, 7, 9]\n",
    "y = [2, 4, 3, 6, 10]\n",
    "y2 = []; y3 = []\n",
    "\n",
    "for x_each in x:\n",
    "    y2.append(mycal(x_each, 2))\n",
    "    y3.append(mycal(x_each, 3))\n",
    "\n",
    "plt.plot(x, y, color='red', linestyle='dashed')\n",
    "plt.plot(x, y2, color='darkcyan', linestyle='dashdot')\n",
    "plt.plot(x, y3, color='forestgreen', linestyle='dotted')\n",
    "plt.show()"
   ]
  },
  {
   "cell_type": "code",
   "execution_count": 64,
   "metadata": {},
   "outputs": [
    {
     "data": {
      "image/png": "[encoded data removed]",
      "text/plain": [
       "<Figure size 800x200 with 1 Axes>"
      ]
     },
     "metadata": {},
     "output_type": "display_data"
    }
   ],
   "source": [
    "import matplotlib.pyplot as plt\n",
    "plt.figure(figsize=(8,2))\n",
    "plt.style.use(\"ggplot\")\n",
    "x = range(1, 13)\n",
    "y = [100, 110, 130, 150, 120, 140, 170, 180, 150, 160, 200, 210]\n",
    "plt.plot(x, y)\n",
    "plt.title(\"My First Picture\")\n",
    "plt.xlabel(\"month\")\n",
    "plt.ylabel(\"sales\")\n",
    "plt.show()"
   ]
  },
  {
   "cell_type": "code",
   "execution_count": 69,
   "metadata": {},
   "outputs": [
    {
     "data": {
      "image/png": "[encoded data removed]",
      "text/plain": [
       "<Figure size 800x200 with 1 Axes>"
      ]
     },
     "metadata": {},
     "output_type": "display_data"
    }
   ],
   "source": [
    "import matplotlib\n",
    "import matplotlib.pyplot as plt\n",
    "import matplotlib.font_manager as fm\n",
    "font_location = 'c:\\\\windows\\\\Fonts\\\\malgun.ttf'\n",
    "font_name = fm.FontProperties(fname = font_location).get_name()\n",
    "matplotlib.rc('font', family = font_name)\n",
    "\n",
    "plt.figure(figsize=(8,2))\n",
    "plt.style.use(\"ggplot\")\n",
    "x = range(1, 13)\n",
    "y = [100, 110, 130, 150, 120, 140, 170, 180, 150, 160, 200, 210]\n",
    "plt.plot(x, y)\n",
    "plt.title(\"나의 첫 번째 그림\")\n",
    "plt.xlabel(\"월\")\n",
    "plt.ylabel(\"매출액\")\n",
    "plt.show()"
   ]
  },
  {
   "cell_type": "code",
   "execution_count": null,
   "metadata": {},
   "outputs": [],
   "source": []
  },
  {
   "cell_type": "code",
   "execution_count": 100,
   "metadata": {},
   "outputs": [
    {
     "data": {
      "text/html": [
       "<div>\n",
       "<style scoped>\n",
       "    .dataframe tbody tr th:only-of-type {\n",
       "        vertical-align: middle;\n",
       "    }\n",
       "\n",
       "    .dataframe tbody tr th {\n",
       "        vertical-align: top;\n",
       "    }\n",
       "\n",
       "    .dataframe thead th {\n",
       "        text-align: right;\n",
       "    }\n",
       "</style>\n",
       "<table border=\"1\" class=\"dataframe\">\n",
       "  <thead>\n",
       "    <tr style=\"text-align: right;\">\n",
       "      <th></th>\n",
       "      <th>Year</th>\n",
       "      <th>Part</th>\n",
       "      <th>Usage</th>\n",
       "    </tr>\n",
       "  </thead>\n",
       "  <tbody>\n",
       "    <tr>\n",
       "      <th>0</th>\n",
       "      <td>2001</td>\n",
       "      <td>산업</td>\n",
       "      <td>85158</td>\n",
       "    </tr>\n",
       "  </tbody>\n",
       "</table>\n",
       "</div>"
      ],
      "text/plain": [
       "   Year Part  Usage\n",
       "0  2001   산업  85158"
      ]
     },
     "metadata": {},
     "output_type": "display_data"
    },
    {
     "data": {
      "text/plain": [
       "array(['산업', '수송', '가정및상업', '공공및기타'], dtype=object)"
      ]
     },
     "execution_count": 100,
     "metadata": {},
     "output_type": "execute_result"
    }
   ],
   "source": [
    "import pandas as pd\n",
    "import matplotlib\n",
    "import matplotlib.pyplot as plt\n",
    "import matplotlib.font_manager as fm\n",
    "font_location = 'c:\\\\windows\\\\Fonts\\\\malgun.ttf'\n",
    "font_name = fm.FontProperties(fname = font_location).get_name()\n",
    "matplotlib.rc('font', family = font_name)\n",
    "\n",
    "data_elec = pd.read_csv(path+\"electricity.csv\",encoding='cp949')\n",
    "display(data_elec.head(1))\n",
    "data_elec.Part.unique()"
   ]
  },
  {
   "cell_type": "code",
   "execution_count": 105,
   "metadata": {},
   "outputs": [
    {
     "data": {
      "image/png": "[encoded data removed]",
      "text/plain": [
       "<Figure size 800x550 with 1 Axes>"
      ]
     },
     "metadata": {},
     "output_type": "display_data"
    }
   ],
   "source": [
    "# plt.figure(figsize=(8,4))\n",
    "plt.style.use(\"ggplot\")\n",
    "x_lim = range(2001, 2013)\n",
    "plt.plot(x_lim, data_elec[data_elec.Part=='산업'][['Usage']], label='산업')\n",
    "plt.plot(x_lim, data_elec[data_elec.Part=='수송'][['Usage']], label='수송', linestyle='dashed')\n",
    "plt.plot(x_lim, data_elec[data_elec.Part=='가정및상업'][['Usage']], label='가정및상업', linestyle='dashdot')\n",
    "plt.plot(x_lim, data_elec[data_elec.Part=='공공및기타'][['Usage']], label='공공및기타', linestyle='dotted')\n",
    "plt.legend()\n",
    "plt.show()"
   ]
  },
  {
   "cell_type": "code",
   "execution_count": 106,
   "metadata": {},
   "outputs": [
    {
     "data": {
      "image/png": "[encoded data removed]",
      "text/plain": [
       "<Figure size 800x550 with 1 Axes>"
      ]
     },
     "metadata": {},
     "output_type": "display_data"
    }
   ],
   "source": [
    "import matplotlib.pyplot as plt\n",
    "plt.style.use(\"seaborn-whitegrid\")\n",
    "height = [160, 162, 162, 163, 163, 162, 166, 166, 170, 169]\n",
    "weight = [55, 56, 58, 61, 63, 65, 66, 70, 72, 75]\n",
    "plt.scatter(height, weight)\n",
    "plt.show()\n"
   ]
  },
  {
   "cell_type": "code",
   "execution_count": 107,
   "metadata": {},
   "outputs": [
    {
     "data": {
      "image/png": "[encoded data removed]",
      "text/plain": [
       "<Figure size 800x550 with 1 Axes>"
      ]
     },
     "metadata": {},
     "output_type": "display_data"
    }
   ],
   "source": [
    "import matplotlib\n",
    "import matplotlib.pyplot as plt\n",
    "plt.style.use(\"seaborn-whitegrid\")\n",
    "height = [160, 162, 162, 163, 163, 162, 166, 166, 170, 169]\n",
    "weight = [55, 56, 58, 61, 63, 65, 66, 70, 72, 75]\n",
    "plt.scatter(height, weight, c=\"indigo\", alpha=0.5, s=1000)\n",
    "plt.show()"
   ]
  },
  {
   "cell_type": "code",
   "execution_count": 109,
   "metadata": {},
   "outputs": [
    {
     "data": {
      "image/png": "[encoded data removed]",
      "text/plain": [
       "<Figure size 800x550 with 1 Axes>"
      ]
     },
     "metadata": {},
     "output_type": "display_data"
    }
   ],
   "source": [
    "import matplotlib.pyplot as plt\n",
    "plt.style.use(\"seaborn-whitegrid\")\n",
    "height = [160, 162, 162, 163, 163, 162, 166, 166, 170, 169]\n",
    "weight_man = [55, 56, 58, 61, 63, 65, 66, 70, 72, 75]\n",
    "weight_woman = [53, 55, 56, 60, 61, 62, 62, 65, 65, 66]\n",
    "plt.scatter(height, weight_man, alpha=0.5, s=300, label=\"male\")\n",
    "plt.scatter(height, weight_woman, alpha=0.5, s=300, label=\"female\")\n",
    "plt.xlabel(\"height\")\n",
    "plt.ylabel(\"weight\")\n",
    "plt.legend()\n",
    "plt.show()"
   ]
  },
  {
   "cell_type": "code",
   "execution_count": 160,
   "metadata": {},
   "outputs": [
    {
     "data": {
      "image/png": "[encoded data removed]",
      "text/plain": [
       "<Figure size 800x550 with 1 Axes>"
      ]
     },
     "metadata": {},
     "output_type": "display_data"
    }
   ],
   "source": [
    "import pandas as pd\n",
    "import matplotlib.pyplot as plt\n",
    "students = pd.read_csv(path+\"heightweight.csv\")\n",
    "plt.scatter(students[students.sex==\"f\"]['heightIn'],students[students.sex==\"f\"]['weightLb'], label='female', alpha=0.6, color='#ffbb00')\n",
    "plt.scatter(students[students.sex==\"m\"]['heightIn'],students[students.sex==\"m\"]['weightLb'], label='male', alpha=0.7, color='#1E90FF')\n",
    "plt.grid(False)\n",
    "plt.xlabel('height')\n",
    "plt.ylabel('weight')\n",
    "plt.legend()\n",
    "plt.show()"
   ]
  },
  {
   "cell_type": "code",
   "execution_count": 158,
   "metadata": {},
   "outputs": [
    {
     "data": {
      "image/png": "[encoded data removed]",
      "text/plain": [
       "<Figure size 800x550 with 1 Axes>"
      ]
     },
     "metadata": {},
     "output_type": "display_data"
    }
   ],
   "source": [
    "import pandas as pd\n",
    "import matplotlib.pyplot as plt\n",
    "iris = pd.read_csv(path+\"iris.csv\")\n",
    "plt.scatter(iris[iris.Species==\"setosa\"]['Petal.Length'],iris[iris.Species==\"setosa\"]['Petal.Width'], label='setosa', alpha=0.6, color='#1E90FF')\n",
    "plt.scatter(iris[iris.Species==\"versicolor\"]['Petal.Length'],iris[iris.Species==\"versicolor\"]['Petal.Width'], label='versicolor', alpha=0.6, color='#ffbb00')\n",
    "plt.scatter(iris[iris.Species==\"virginica\"]['Petal.Length'],iris[iris.Species==\"virginica\"]['Petal.Width'], label='virginica', alpha=0.5, color='#32CD32')\n",
    "plt.grid(False)\n",
    "plt.xlabel('Petal.Length')\n",
    "plt.ylabel('Petal.Width')\n",
    "plt.legend()\n",
    "plt.show()"
   ]
  },
  {
   "cell_type": "code",
   "execution_count": 154,
   "metadata": {},
   "outputs": [
    {
     "data": {
      "text/plain": [
       "(array([ 1.,  2.,  3.,  5.,  3.,  6., 12.,  3.,  5.,  2.]),\n",
       " array([163., 166., 169., 172., 175., 178., 181., 184., 187., 190., 193.]),\n",
       " <BarContainer object of 10 artists>)"
      ]
     },
     "execution_count": 154,
     "metadata": {},
     "output_type": "execute_result"
    },
    {
     "data": {
      "image/png": "[encoded data removed]",
      "text/plain": [
       "<Figure size 800x550 with 1 Axes>"
      ]
     },
     "metadata": {},
     "output_type": "display_data"
    }
   ],
   "source": [
    "import pandas as pd\n",
    "import matplotlib.pyplot as plt\n",
    "heights = pd.read_csv(path+\"presidents_heights.csv\")\n",
    "plt.style.use('seaborn-whitegrid')\n",
    "plt.hist(heights[['height']], color='#DC143C', alpha=0.8, edgecolor='white')"
   ]
  },
  {
   "cell_type": "code",
   "execution_count": null,
   "metadata": {},
   "outputs": [],
   "source": []
  }
 ],
 "metadata": {
  "kernelspec": {
   "display_name": "Python 3.7.4 ('venv': venv)",
   "language": "python",
   "name": "python3"
  },
  "language_info": {
   "codemirror_mode": {
    "name": "ipython",
    "version": 3
   },
   "file_extension": ".py",
   "mimetype": "text/x-python",
   "name": "python",
   "nbconvert_exporter": "python",
   "pygments_lexer": "ipython3",
   "version": "3.7.4"
  },
  "orig_nbformat": 4,
  "vscode": {
   "interpreter": {
    "hash": "5f1ae9b0d818cbfe5bbdf6c59f4b735cef7c47b16faaa605505f3918050139cd"
   }
  }
 },
 "nbformat": 4,
 "nbformat_minor": 2
}
